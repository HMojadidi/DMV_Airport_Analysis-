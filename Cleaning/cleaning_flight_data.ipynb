{
 "cells": [
  {
   "cell_type": "code",
   "execution_count": 39,
   "metadata": {},
   "outputs": [],
   "source": [
    "import pandas as pd\n",
    "from pathlib import Path"
   ]
  },
  {
   "cell_type": "code",
   "execution_count": 26,
   "metadata": {},
   "outputs": [
    {
     "name": "stderr",
     "output_type": "stream",
     "text": [
      "C:\\Users\\nizar\\AppData\\Roaming\\Python\\Python39\\site-packages\\IPython\\core\\interactiveshell.py:3135: DtypeWarning: Columns (8,21) have mixed types.Specify dtype option on import or set low_memory=False.\n",
      "  has_raised = await self.run_ast_nodes(code_ast.body, cell_name,\n"
     ]
    }
   ],
   "source": [
    "# Pull data from S3 and create dataframe\n",
    "url = 'https://airport-efficiency.s3.amazonaws.com/Flight_Data.csv'\n",
    "flight_df = pd.read_csv(url)"
   ]
  },
  {
   "cell_type": "code",
   "execution_count": 27,
   "metadata": {},
   "outputs": [
    {
     "data": {
      "text/html": [
       "<div>\n",
       "<style scoped>\n",
       "    .dataframe tbody tr th:only-of-type {\n",
       "        vertical-align: middle;\n",
       "    }\n",
       "\n",
       "    .dataframe tbody tr th {\n",
       "        vertical-align: top;\n",
       "    }\n",
       "\n",
       "    .dataframe thead th {\n",
       "        text-align: right;\n",
       "    }\n",
       "</style>\n",
       "<table border=\"1\" class=\"dataframe\">\n",
       "  <thead>\n",
       "    <tr style=\"text-align: right;\">\n",
       "      <th></th>\n",
       "      <th>Unnamed: 0</th>\n",
       "      <th>YEAR</th>\n",
       "      <th>MONTH</th>\n",
       "      <th>DAY_OF_WEEK</th>\n",
       "      <th>FL_DATE</th>\n",
       "      <th>BRANDED_CODE_SHARE</th>\n",
       "      <th>ORIGIN</th>\n",
       "      <th>DEST</th>\n",
       "      <th>DEST_STATE_ABR</th>\n",
       "      <th>CRS_DEP_TIME</th>\n",
       "      <th>...</th>\n",
       "      <th>DEP_DELAY_GROUP</th>\n",
       "      <th>DEP_TIME_BLK</th>\n",
       "      <th>CANCELLED</th>\n",
       "      <th>DIVERTED</th>\n",
       "      <th>CARRIER_DELAY</th>\n",
       "      <th>WEATHER_DELAY</th>\n",
       "      <th>NAS_DELAY</th>\n",
       "      <th>SECURITY_DELAY</th>\n",
       "      <th>LATE_AIRCRAFT_DELAY</th>\n",
       "      <th>DEST_STATE_NM</th>\n",
       "    </tr>\n",
       "  </thead>\n",
       "  <tbody>\n",
       "    <tr>\n",
       "      <th>0</th>\n",
       "      <td>0</td>\n",
       "      <td>2021</td>\n",
       "      <td>7</td>\n",
       "      <td>2</td>\n",
       "      <td>7/13/2021 12:00:00 AM</td>\n",
       "      <td>WN</td>\n",
       "      <td>SAN</td>\n",
       "      <td>DEN</td>\n",
       "      <td>CO</td>\n",
       "      <td>1825</td>\n",
       "      <td>...</td>\n",
       "      <td>-1.0</td>\n",
       "      <td>1800-1859</td>\n",
       "      <td>0.0</td>\n",
       "      <td>0.0</td>\n",
       "      <td>NaN</td>\n",
       "      <td>NaN</td>\n",
       "      <td>NaN</td>\n",
       "      <td>NaN</td>\n",
       "      <td>NaN</td>\n",
       "      <td>NaN</td>\n",
       "    </tr>\n",
       "    <tr>\n",
       "      <th>1</th>\n",
       "      <td>1</td>\n",
       "      <td>2021</td>\n",
       "      <td>7</td>\n",
       "      <td>2</td>\n",
       "      <td>7/13/2021 12:00:00 AM</td>\n",
       "      <td>WN</td>\n",
       "      <td>SAN</td>\n",
       "      <td>DEN</td>\n",
       "      <td>CO</td>\n",
       "      <td>1505</td>\n",
       "      <td>...</td>\n",
       "      <td>NaN</td>\n",
       "      <td>1500-1559</td>\n",
       "      <td>1.0</td>\n",
       "      <td>0.0</td>\n",
       "      <td>NaN</td>\n",
       "      <td>NaN</td>\n",
       "      <td>NaN</td>\n",
       "      <td>NaN</td>\n",
       "      <td>NaN</td>\n",
       "      <td>NaN</td>\n",
       "    </tr>\n",
       "    <tr>\n",
       "      <th>2</th>\n",
       "      <td>2</td>\n",
       "      <td>2021</td>\n",
       "      <td>7</td>\n",
       "      <td>2</td>\n",
       "      <td>7/13/2021 12:00:00 AM</td>\n",
       "      <td>WN</td>\n",
       "      <td>SAN</td>\n",
       "      <td>DEN</td>\n",
       "      <td>CO</td>\n",
       "      <td>1210</td>\n",
       "      <td>...</td>\n",
       "      <td>1.0</td>\n",
       "      <td>1200-1259</td>\n",
       "      <td>0.0</td>\n",
       "      <td>0.0</td>\n",
       "      <td>18.0</td>\n",
       "      <td>0.0</td>\n",
       "      <td>0.0</td>\n",
       "      <td>0.0</td>\n",
       "      <td>0.0</td>\n",
       "      <td>NaN</td>\n",
       "    </tr>\n",
       "    <tr>\n",
       "      <th>3</th>\n",
       "      <td>3</td>\n",
       "      <td>2021</td>\n",
       "      <td>7</td>\n",
       "      <td>2</td>\n",
       "      <td>7/13/2021 12:00:00 AM</td>\n",
       "      <td>WN</td>\n",
       "      <td>SAN</td>\n",
       "      <td>DEN</td>\n",
       "      <td>CO</td>\n",
       "      <td>2050</td>\n",
       "      <td>...</td>\n",
       "      <td>5.0</td>\n",
       "      <td>2000-2059</td>\n",
       "      <td>0.0</td>\n",
       "      <td>0.0</td>\n",
       "      <td>59.0</td>\n",
       "      <td>0.0</td>\n",
       "      <td>0.0</td>\n",
       "      <td>0.0</td>\n",
       "      <td>18.0</td>\n",
       "      <td>NaN</td>\n",
       "    </tr>\n",
       "    <tr>\n",
       "      <th>4</th>\n",
       "      <td>4</td>\n",
       "      <td>2021</td>\n",
       "      <td>7</td>\n",
       "      <td>2</td>\n",
       "      <td>7/13/2021 12:00:00 AM</td>\n",
       "      <td>WN</td>\n",
       "      <td>SAN</td>\n",
       "      <td>HNL</td>\n",
       "      <td>HI</td>\n",
       "      <td>1840</td>\n",
       "      <td>...</td>\n",
       "      <td>0.0</td>\n",
       "      <td>1800-1859</td>\n",
       "      <td>0.0</td>\n",
       "      <td>0.0</td>\n",
       "      <td>NaN</td>\n",
       "      <td>NaN</td>\n",
       "      <td>NaN</td>\n",
       "      <td>NaN</td>\n",
       "      <td>NaN</td>\n",
       "      <td>NaN</td>\n",
       "    </tr>\n",
       "  </tbody>\n",
       "</table>\n",
       "<p>5 rows × 22 columns</p>\n",
       "</div>"
      ],
      "text/plain": [
       "   Unnamed: 0  YEAR  MONTH  DAY_OF_WEEK                FL_DATE  \\\n",
       "0           0  2021      7            2  7/13/2021 12:00:00 AM   \n",
       "1           1  2021      7            2  7/13/2021 12:00:00 AM   \n",
       "2           2  2021      7            2  7/13/2021 12:00:00 AM   \n",
       "3           3  2021      7            2  7/13/2021 12:00:00 AM   \n",
       "4           4  2021      7            2  7/13/2021 12:00:00 AM   \n",
       "\n",
       "  BRANDED_CODE_SHARE ORIGIN DEST DEST_STATE_ABR  CRS_DEP_TIME  ...  \\\n",
       "0                 WN    SAN  DEN             CO          1825  ...   \n",
       "1                 WN    SAN  DEN             CO          1505  ...   \n",
       "2                 WN    SAN  DEN             CO          1210  ...   \n",
       "3                 WN    SAN  DEN             CO          2050  ...   \n",
       "4                 WN    SAN  HNL             HI          1840  ...   \n",
       "\n",
       "   DEP_DELAY_GROUP  DEP_TIME_BLK  CANCELLED DIVERTED  CARRIER_DELAY  \\\n",
       "0             -1.0     1800-1859        0.0      0.0            NaN   \n",
       "1              NaN     1500-1559        1.0      0.0            NaN   \n",
       "2              1.0     1200-1259        0.0      0.0           18.0   \n",
       "3              5.0     2000-2059        0.0      0.0           59.0   \n",
       "4              0.0     1800-1859        0.0      0.0            NaN   \n",
       "\n",
       "   WEATHER_DELAY  NAS_DELAY  SECURITY_DELAY  LATE_AIRCRAFT_DELAY  \\\n",
       "0            NaN        NaN             NaN                  NaN   \n",
       "1            NaN        NaN             NaN                  NaN   \n",
       "2            0.0        0.0             0.0                  0.0   \n",
       "3            0.0        0.0             0.0                 18.0   \n",
       "4            NaN        NaN             NaN                  NaN   \n",
       "\n",
       "   DEST_STATE_NM  \n",
       "0            NaN  \n",
       "1            NaN  \n",
       "2            NaN  \n",
       "3            NaN  \n",
       "4            NaN  \n",
       "\n",
       "[5 rows x 22 columns]"
      ]
     },
     "execution_count": 27,
     "metadata": {},
     "output_type": "execute_result"
    }
   ],
   "source": [
    "flight_df.head(5)"
   ]
  },
  {
   "cell_type": "code",
   "execution_count": 28,
   "metadata": {},
   "outputs": [],
   "source": [
    "flight_df = flight_df.drop('Unnamed: 0', 1)"
   ]
  },
  {
   "cell_type": "code",
   "execution_count": 29,
   "metadata": {},
   "outputs": [
    {
     "data": {
      "text/plain": [
       "YEAR                     int64\n",
       "MONTH                    int64\n",
       "DAY_OF_WEEK              int64\n",
       "FL_DATE                 object\n",
       "BRANDED_CODE_SHARE      object\n",
       "ORIGIN                  object\n",
       "DEST                    object\n",
       "DEST_STATE_ABR          object\n",
       "CRS_DEP_TIME             int64\n",
       "DEP_TIME               float64\n",
       "DEP_DELAY              float64\n",
       "DEP_DELAY_GROUP        float64\n",
       "DEP_TIME_BLK            object\n",
       "CANCELLED              float64\n",
       "DIVERTED               float64\n",
       "CARRIER_DELAY          float64\n",
       "WEATHER_DELAY          float64\n",
       "NAS_DELAY              float64\n",
       "SECURITY_DELAY         float64\n",
       "LATE_AIRCRAFT_DELAY    float64\n",
       "DEST_STATE_NM           object\n",
       "dtype: object"
      ]
     },
     "execution_count": 29,
     "metadata": {},
     "output_type": "execute_result"
    }
   ],
   "source": [
    "flight_df.dtypes"
   ]
  },
  {
   "cell_type": "code",
   "execution_count": 30,
   "metadata": {},
   "outputs": [],
   "source": [
    "DCA_flights = flight_df.loc[flight_df['ORIGIN']== 'DCA']"
   ]
  },
  {
   "cell_type": "code",
   "execution_count": 36,
   "metadata": {},
   "outputs": [
    {
     "data": {
      "text/plain": [
       "DCA    333731\n",
       "Name: ORIGIN, dtype: int64"
      ]
     },
     "execution_count": 36,
     "metadata": {},
     "output_type": "execute_result"
    }
   ],
   "source": [
    "DCA_flights['ORIGIN'].value_counts()"
   ]
  },
  {
   "cell_type": "code",
   "execution_count": 31,
   "metadata": {},
   "outputs": [
    {
     "data": {
      "text/plain": [
       "2019    144343\n",
       "2021     84771\n",
       "2020     68174\n",
       "2022     36443\n",
       "Name: YEAR, dtype: int64"
      ]
     },
     "execution_count": 31,
     "metadata": {},
     "output_type": "execute_result"
    }
   ],
   "source": [
    "DCA_flights['YEAR'].value_counts()"
   ]
  },
  {
   "cell_type": "code",
   "execution_count": 32,
   "metadata": {},
   "outputs": [],
   "source": [
    "IAD_flights = flight_df.loc[flight_df['ORIGIN']== 'IAD']"
   ]
  },
  {
   "cell_type": "code",
   "execution_count": 34,
   "metadata": {},
   "outputs": [
    {
     "data": {
      "text/plain": [
       "IAD    243880\n",
       "Name: ORIGIN, dtype: int64"
      ]
     },
     "execution_count": 34,
     "metadata": {},
     "output_type": "execute_result"
    }
   ],
   "source": [
    "IAD_flights['ORIGIN'].value_counts()"
   ]
  },
  {
   "cell_type": "code",
   "execution_count": 33,
   "metadata": {},
   "outputs": [],
   "source": [
    "BWI_flights = flight_df.loc[flight_df['ORIGIN']== 'BWI']"
   ]
  },
  {
   "cell_type": "code",
   "execution_count": 37,
   "metadata": {},
   "outputs": [
    {
     "data": {
      "text/plain": [
       "BWI    273406\n",
       "Name: ORIGIN, dtype: int64"
      ]
     },
     "execution_count": 37,
     "metadata": {},
     "output_type": "execute_result"
    }
   ],
   "source": [
    "BWI_flights['ORIGIN'].value_counts()"
   ]
  },
  {
   "cell_type": "code",
   "execution_count": 42,
   "metadata": {},
   "outputs": [],
   "source": [
    "output_dir = Path('./Cleaned Data')\n",
    "\n",
    "output_dir.mkdir(parents=True, exist_ok=True)"
   ]
  },
  {
   "cell_type": "code",
   "execution_count": 43,
   "metadata": {},
   "outputs": [],
   "source": [
    "IAD_flights.to_csv('Cleaned Data/IAD_flights.csv', index=False)"
   ]
  },
  {
   "cell_type": "code",
   "execution_count": 44,
   "metadata": {},
   "outputs": [],
   "source": [
    "DCA_flights.to_csv('Cleaned Data/DCA_flights.csv', index=False)\n",
    "BWI_flights.to_csv('Cleaned Data/BWI_flights.csv', index=False)"
   ]
  },
  {
   "cell_type": "code",
   "execution_count": 50,
   "metadata": {},
   "outputs": [],
   "source": [
    "states = {\"AL\":\"Alabama\",\n",
    "\"AK\":\"Alaska\",\n",
    "\"AZ\":\"Arizona\",\n",
    "\"AR\":\"Arkansas\",\n",
    "\"CA\":\"California\",\n",
    "\"CO\":\"Colorado\",\n",
    "\"CT\":\"Connecticut\",\n",
    "\"DE\":\"Delaware\",\n",
    "\"FL\":\"Florida\",\"GA\":\n",
    "\"Georgia\",\n",
    "\"HI\":\"Hawaii\",\n",
    "\"ID\":\"Idaho\",\n",
    "\"IL\":\"Illinois\",\n",
    "\"IN\":\"Indiana\",\n",
    "\"IA\":\"Iowa\",\n",
    "\"KS\":\"Kansas\",\n",
    "\"KY\":\"Kentucky\",\n",
    "\"LA\":\"Louisiana\",\n",
    "\"ME\":\"Maine\",\n",
    "\"MD\":\"Maryland\",\n",
    "\"MA\":\"Massachusetts\",\n",
    "\"MI\":\"Michigan\",\n",
    "\"MN\":\"Minnesota\",\n",
    "\"MS\":\"Mississippi\",\n",
    "\"MO\":\"Missouri\",\n",
    "\"MT\":\"Montana\",\n",
    "\"NE\":\"Nebraska\",\n",
    "\"NV\":\"Nevada\",\n",
    "\"NH\":\"New Hampshire\",\n",
    "\"NJ\":\"New Jersey\",\n",
    "\"NM\":\"New Mexico\",\n",
    "\"NY\":\"New York\",\n",
    "\"NC\":\"North Carolina\",\n",
    "\"ND\":\"North Dakota\",\n",
    "\"OH\":\"Ohio\",\n",
    "\"OK\":\"Oklahoma\",\n",
    "\"OR\":\"Oregon\",\n",
    "\"PA\":\"Pennsylvania\",\n",
    "\"RI\":\"Rhode Island\",\n",
    "\"SC\":\"South Carolina\",\n",
    "\"SD\":\"South Dakota\",\n",
    "\"TN\":\"Tennessee\",\n",
    "\"TX\":\"Texas\",\n",
    "\"UT\":\"Utah\",\n",
    "\"VT\":\"Vermont\",\n",
    "\"VA\":\"Virginia\",\n",
    "\"WA\":\"Washington\",\n",
    "\"WV\":\"West Virginia\",\n",
    "\"WI\":\"Wisconsin\",\n",
    "\"WY\":\"Wyoming\"\n",
    "}\n",
    "\n"
   ]
  },
  {
   "cell_type": "code",
   "execution_count": 53,
   "metadata": {},
   "outputs": [
    {
     "name": "stderr",
     "output_type": "stream",
     "text": [
      "C:\\Users\\nizar\\AppData\\Local\\Temp\\ipykernel_4724\\969095609.py:1: SettingWithCopyWarning: \n",
      "A value is trying to be set on a copy of a slice from a DataFrame.\n",
      "Try using .loc[row_indexer,col_indexer] = value instead\n",
      "\n",
      "See the caveats in the documentation: https://pandas.pydata.org/pandas-docs/stable/user_guide/indexing.html#returning-a-view-versus-a-copy\n",
      "  IAD_flights['DEST_STATE_NM'] = IAD_flights.DEST_STATE_ABR.map(states)\n"
     ]
    }
   ],
   "source": [
    "IAD_flights['DEST_STATE_NM'] = IAD_flights.loc[IAD_flights['DEST_STATE_ABR'] == ]"
   ]
  },
  {
   "cell_type": "code",
   "execution_count": 56,
   "metadata": {},
   "outputs": [
    {
     "ename": "KeyError",
     "evalue": "1",
     "output_type": "error",
     "traceback": [
      "\u001b[1;31m---------------------------------------------------------------------------\u001b[0m",
      "\u001b[1;31mKeyError\u001b[0m                                  Traceback (most recent call last)",
      "File \u001b[1;32m~\\AppData\\Roaming\\Python\\Python39\\site-packages\\pandas\\core\\indexes\\base.py:3080\u001b[0m, in \u001b[0;36mIndex.get_loc\u001b[1;34m(self, key, method, tolerance)\u001b[0m\n\u001b[0;32m   3079\u001b[0m \u001b[39mtry\u001b[39;00m:\n\u001b[1;32m-> 3080\u001b[0m     \u001b[39mreturn\u001b[39;00m \u001b[39mself\u001b[39;49m\u001b[39m.\u001b[39;49m_engine\u001b[39m.\u001b[39;49mget_loc(casted_key)\n\u001b[0;32m   3081\u001b[0m \u001b[39mexcept\u001b[39;00m \u001b[39mKeyError\u001b[39;00m \u001b[39mas\u001b[39;00m err:\n",
      "File \u001b[1;32mpandas\\_libs\\index.pyx:70\u001b[0m, in \u001b[0;36mpandas._libs.index.IndexEngine.get_loc\u001b[1;34m()\u001b[0m\n",
      "File \u001b[1;32mpandas\\_libs\\index.pyx:101\u001b[0m, in \u001b[0;36mpandas._libs.index.IndexEngine.get_loc\u001b[1;34m()\u001b[0m\n",
      "File \u001b[1;32mpandas\\_libs\\hashtable_class_helper.pxi:1625\u001b[0m, in \u001b[0;36mpandas._libs.hashtable.Int64HashTable.get_item\u001b[1;34m()\u001b[0m\n",
      "File \u001b[1;32mpandas\\_libs\\hashtable_class_helper.pxi:1632\u001b[0m, in \u001b[0;36mpandas._libs.hashtable.Int64HashTable.get_item\u001b[1;34m()\u001b[0m\n",
      "\u001b[1;31mKeyError\u001b[0m: 1",
      "\nThe above exception was the direct cause of the following exception:\n",
      "\u001b[1;31mKeyError\u001b[0m                                  Traceback (most recent call last)",
      "\u001b[1;32mc:\\Users\\nizar\\OneDrive\\Data_Analysis_bootcamp\\Module_20\\dexter_project\\Cleaning\\cleaning_flight_data.ipynb Cell 18\u001b[0m in \u001b[0;36m<cell line: 1>\u001b[1;34m()\u001b[0m\n\u001b[0;32m      <a href='vscode-notebook-cell:/c%3A/Users/nizar/OneDrive/Data_Analysis_bootcamp/Module_20/dexter_project/Cleaning/cleaning_flight_data.ipynb#ch0000022?line=0'>1</a>\u001b[0m \u001b[39mfor\u001b[39;00m i \u001b[39min\u001b[39;00m \u001b[39mrange\u001b[39m(\u001b[39mlen\u001b[39m(IAD_flights)):\n\u001b[1;32m----> <a href='vscode-notebook-cell:/c%3A/Users/nizar/OneDrive/Data_Analysis_bootcamp/Module_20/dexter_project/Cleaning/cleaning_flight_data.ipynb#ch0000022?line=1'>2</a>\u001b[0m     \u001b[39mif\u001b[39;00m IAD_flights[\u001b[39m'\u001b[39;49m\u001b[39mDEST_STATE_ABR\u001b[39;49m\u001b[39m'\u001b[39;49m][\u001b[39m1\u001b[39;49m] \u001b[39min\u001b[39;00m states:\n\u001b[0;32m      <a href='vscode-notebook-cell:/c%3A/Users/nizar/OneDrive/Data_Analysis_bootcamp/Module_20/dexter_project/Cleaning/cleaning_flight_data.ipynb#ch0000022?line=2'>3</a>\u001b[0m         IAD_flights[\u001b[39m\"\u001b[39m\u001b[39mDEST_STATE_NM\u001b[39m\u001b[39m\"\u001b[39m] \u001b[39m=\u001b[39m states\u001b[39m.\u001b[39mvalues\n",
      "File \u001b[1;32m~\\AppData\\Roaming\\Python\\Python39\\site-packages\\pandas\\core\\series.py:824\u001b[0m, in \u001b[0;36mSeries.__getitem__\u001b[1;34m(self, key)\u001b[0m\n\u001b[0;32m    821\u001b[0m     \u001b[39mreturn\u001b[39;00m \u001b[39mself\u001b[39m\u001b[39m.\u001b[39m_values[key]\n\u001b[0;32m    823\u001b[0m \u001b[39melif\u001b[39;00m key_is_scalar:\n\u001b[1;32m--> 824\u001b[0m     \u001b[39mreturn\u001b[39;00m \u001b[39mself\u001b[39;49m\u001b[39m.\u001b[39;49m_get_value(key)\n\u001b[0;32m    826\u001b[0m \u001b[39mif\u001b[39;00m is_hashable(key):\n\u001b[0;32m    827\u001b[0m     \u001b[39m# Otherwise index.get_value will raise InvalidIndexError\u001b[39;00m\n\u001b[0;32m    828\u001b[0m     \u001b[39mtry\u001b[39;00m:\n\u001b[0;32m    829\u001b[0m         \u001b[39m# For labels that don't resolve as scalars like tuples and frozensets\u001b[39;00m\n",
      "File \u001b[1;32m~\\AppData\\Roaming\\Python\\Python39\\site-packages\\pandas\\core\\series.py:932\u001b[0m, in \u001b[0;36mSeries._get_value\u001b[1;34m(self, label, takeable)\u001b[0m\n\u001b[0;32m    929\u001b[0m     \u001b[39mreturn\u001b[39;00m \u001b[39mself\u001b[39m\u001b[39m.\u001b[39m_values[label]\n\u001b[0;32m    931\u001b[0m \u001b[39m# Similar to Index.get_value, but we do not fall back to positional\u001b[39;00m\n\u001b[1;32m--> 932\u001b[0m loc \u001b[39m=\u001b[39m \u001b[39mself\u001b[39;49m\u001b[39m.\u001b[39;49mindex\u001b[39m.\u001b[39;49mget_loc(label)\n\u001b[0;32m    933\u001b[0m \u001b[39mreturn\u001b[39;00m \u001b[39mself\u001b[39m\u001b[39m.\u001b[39mindex\u001b[39m.\u001b[39m_get_values_for_loc(\u001b[39mself\u001b[39m, loc, label)\n",
      "File \u001b[1;32m~\\AppData\\Roaming\\Python\\Python39\\site-packages\\pandas\\core\\indexes\\base.py:3082\u001b[0m, in \u001b[0;36mIndex.get_loc\u001b[1;34m(self, key, method, tolerance)\u001b[0m\n\u001b[0;32m   3080\u001b[0m         \u001b[39mreturn\u001b[39;00m \u001b[39mself\u001b[39m\u001b[39m.\u001b[39m_engine\u001b[39m.\u001b[39mget_loc(casted_key)\n\u001b[0;32m   3081\u001b[0m     \u001b[39mexcept\u001b[39;00m \u001b[39mKeyError\u001b[39;00m \u001b[39mas\u001b[39;00m err:\n\u001b[1;32m-> 3082\u001b[0m         \u001b[39mraise\u001b[39;00m \u001b[39mKeyError\u001b[39;00m(key) \u001b[39mfrom\u001b[39;00m \u001b[39merr\u001b[39;00m\n\u001b[0;32m   3084\u001b[0m \u001b[39mif\u001b[39;00m tolerance \u001b[39mis\u001b[39;00m \u001b[39mnot\u001b[39;00m \u001b[39mNone\u001b[39;00m:\n\u001b[0;32m   3085\u001b[0m     tolerance \u001b[39m=\u001b[39m \u001b[39mself\u001b[39m\u001b[39m.\u001b[39m_convert_tolerance(tolerance, np\u001b[39m.\u001b[39masarray(key))\n",
      "\u001b[1;31mKeyError\u001b[0m: 1"
     ]
    }
   ],
   "source": [
    "for i in range(len(IAD_flights)):\n",
    "    if IAD_flights['DEST_STATE_ABR'][1] in states:\n",
    "        IAD_flights[\"DEST_STATE_NM\"] = states.values\n"
   ]
  },
  {
   "cell_type": "code",
   "execution_count": 52,
   "metadata": {},
   "outputs": [
    {
     "data": {
      "text/html": [
       "<div>\n",
       "<style scoped>\n",
       "    .dataframe tbody tr th:only-of-type {\n",
       "        vertical-align: middle;\n",
       "    }\n",
       "\n",
       "    .dataframe tbody tr th {\n",
       "        vertical-align: top;\n",
       "    }\n",
       "\n",
       "    .dataframe thead th {\n",
       "        text-align: right;\n",
       "    }\n",
       "</style>\n",
       "<table border=\"1\" class=\"dataframe\">\n",
       "  <thead>\n",
       "    <tr style=\"text-align: right;\">\n",
       "      <th></th>\n",
       "      <th>YEAR</th>\n",
       "      <th>MONTH</th>\n",
       "      <th>DAY_OF_WEEK</th>\n",
       "      <th>FL_DATE</th>\n",
       "      <th>BRANDED_CODE_SHARE</th>\n",
       "      <th>ORIGIN</th>\n",
       "      <th>DEST</th>\n",
       "      <th>DEST_STATE_ABR</th>\n",
       "      <th>CRS_DEP_TIME</th>\n",
       "      <th>DEP_TIME</th>\n",
       "      <th>...</th>\n",
       "      <th>DEP_DELAY_GROUP</th>\n",
       "      <th>DEP_TIME_BLK</th>\n",
       "      <th>CANCELLED</th>\n",
       "      <th>DIVERTED</th>\n",
       "      <th>CARRIER_DELAY</th>\n",
       "      <th>WEATHER_DELAY</th>\n",
       "      <th>NAS_DELAY</th>\n",
       "      <th>SECURITY_DELAY</th>\n",
       "      <th>LATE_AIRCRAFT_DELAY</th>\n",
       "      <th>DEST_STATE_NM</th>\n",
       "    </tr>\n",
       "  </thead>\n",
       "  <tbody>\n",
       "    <tr>\n",
       "      <th>1931</th>\n",
       "      <td>2021</td>\n",
       "      <td>7</td>\n",
       "      <td>3</td>\n",
       "      <td>7/14/2021 12:00:00 AM</td>\n",
       "      <td>WN</td>\n",
       "      <td>IAD</td>\n",
       "      <td>ATL</td>\n",
       "      <td>GA</td>\n",
       "      <td>1625</td>\n",
       "      <td>1636.0</td>\n",
       "      <td>...</td>\n",
       "      <td>0.0</td>\n",
       "      <td>1600-1659</td>\n",
       "      <td>0.0</td>\n",
       "      <td>0.0</td>\n",
       "      <td>11.0</td>\n",
       "      <td>0.0</td>\n",
       "      <td>35.0</td>\n",
       "      <td>0.0</td>\n",
       "      <td>0.0</td>\n",
       "      <td>NaN</td>\n",
       "    </tr>\n",
       "    <tr>\n",
       "      <th>1932</th>\n",
       "      <td>2021</td>\n",
       "      <td>7</td>\n",
       "      <td>3</td>\n",
       "      <td>7/14/2021 12:00:00 AM</td>\n",
       "      <td>WN</td>\n",
       "      <td>IAD</td>\n",
       "      <td>DEN</td>\n",
       "      <td>CO</td>\n",
       "      <td>550</td>\n",
       "      <td>558.0</td>\n",
       "      <td>...</td>\n",
       "      <td>0.0</td>\n",
       "      <td>0001-0559</td>\n",
       "      <td>0.0</td>\n",
       "      <td>0.0</td>\n",
       "      <td>NaN</td>\n",
       "      <td>NaN</td>\n",
       "      <td>NaN</td>\n",
       "      <td>NaN</td>\n",
       "      <td>NaN</td>\n",
       "      <td>NaN</td>\n",
       "    </tr>\n",
       "    <tr>\n",
       "      <th>1933</th>\n",
       "      <td>2021</td>\n",
       "      <td>7</td>\n",
       "      <td>3</td>\n",
       "      <td>7/14/2021 12:00:00 AM</td>\n",
       "      <td>WN</td>\n",
       "      <td>IAD</td>\n",
       "      <td>DEN</td>\n",
       "      <td>CO</td>\n",
       "      <td>1205</td>\n",
       "      <td>1210.0</td>\n",
       "      <td>...</td>\n",
       "      <td>0.0</td>\n",
       "      <td>1200-1259</td>\n",
       "      <td>0.0</td>\n",
       "      <td>0.0</td>\n",
       "      <td>NaN</td>\n",
       "      <td>NaN</td>\n",
       "      <td>NaN</td>\n",
       "      <td>NaN</td>\n",
       "      <td>NaN</td>\n",
       "      <td>NaN</td>\n",
       "    </tr>\n",
       "    <tr>\n",
       "      <th>1934</th>\n",
       "      <td>2021</td>\n",
       "      <td>7</td>\n",
       "      <td>3</td>\n",
       "      <td>7/14/2021 12:00:00 AM</td>\n",
       "      <td>WN</td>\n",
       "      <td>IAD</td>\n",
       "      <td>MDW</td>\n",
       "      <td>IL</td>\n",
       "      <td>1900</td>\n",
       "      <td>1944.0</td>\n",
       "      <td>...</td>\n",
       "      <td>2.0</td>\n",
       "      <td>1900-1959</td>\n",
       "      <td>0.0</td>\n",
       "      <td>0.0</td>\n",
       "      <td>1.0</td>\n",
       "      <td>0.0</td>\n",
       "      <td>0.0</td>\n",
       "      <td>0.0</td>\n",
       "      <td>29.0</td>\n",
       "      <td>NaN</td>\n",
       "    </tr>\n",
       "    <tr>\n",
       "      <th>1935</th>\n",
       "      <td>2021</td>\n",
       "      <td>7</td>\n",
       "      <td>3</td>\n",
       "      <td>7/14/2021 12:00:00 AM</td>\n",
       "      <td>WN</td>\n",
       "      <td>IAD</td>\n",
       "      <td>MDW</td>\n",
       "      <td>IL</td>\n",
       "      <td>1305</td>\n",
       "      <td>1258.0</td>\n",
       "      <td>...</td>\n",
       "      <td>-1.0</td>\n",
       "      <td>1300-1359</td>\n",
       "      <td>0.0</td>\n",
       "      <td>0.0</td>\n",
       "      <td>NaN</td>\n",
       "      <td>NaN</td>\n",
       "      <td>NaN</td>\n",
       "      <td>NaN</td>\n",
       "      <td>NaN</td>\n",
       "      <td>NaN</td>\n",
       "    </tr>\n",
       "  </tbody>\n",
       "</table>\n",
       "<p>5 rows × 21 columns</p>\n",
       "</div>"
      ],
      "text/plain": [
       "      YEAR  MONTH  DAY_OF_WEEK                FL_DATE BRANDED_CODE_SHARE  \\\n",
       "1931  2021      7            3  7/14/2021 12:00:00 AM                 WN   \n",
       "1932  2021      7            3  7/14/2021 12:00:00 AM                 WN   \n",
       "1933  2021      7            3  7/14/2021 12:00:00 AM                 WN   \n",
       "1934  2021      7            3  7/14/2021 12:00:00 AM                 WN   \n",
       "1935  2021      7            3  7/14/2021 12:00:00 AM                 WN   \n",
       "\n",
       "     ORIGIN DEST DEST_STATE_ABR  CRS_DEP_TIME  DEP_TIME  ...  DEP_DELAY_GROUP  \\\n",
       "1931    IAD  ATL             GA          1625    1636.0  ...              0.0   \n",
       "1932    IAD  DEN             CO           550     558.0  ...              0.0   \n",
       "1933    IAD  DEN             CO          1205    1210.0  ...              0.0   \n",
       "1934    IAD  MDW             IL          1900    1944.0  ...              2.0   \n",
       "1935    IAD  MDW             IL          1305    1258.0  ...             -1.0   \n",
       "\n",
       "      DEP_TIME_BLK CANCELLED  DIVERTED  CARRIER_DELAY  WEATHER_DELAY  \\\n",
       "1931     1600-1659       0.0       0.0           11.0            0.0   \n",
       "1932     0001-0559       0.0       0.0            NaN            NaN   \n",
       "1933     1200-1259       0.0       0.0            NaN            NaN   \n",
       "1934     1900-1959       0.0       0.0            1.0            0.0   \n",
       "1935     1300-1359       0.0       0.0            NaN            NaN   \n",
       "\n",
       "      NAS_DELAY  SECURITY_DELAY  LATE_AIRCRAFT_DELAY  DEST_STATE_NM  \n",
       "1931       35.0             0.0                  0.0            NaN  \n",
       "1932        NaN             NaN                  NaN            NaN  \n",
       "1933        NaN             NaN                  NaN            NaN  \n",
       "1934        0.0             0.0                 29.0            NaN  \n",
       "1935        NaN             NaN                  NaN            NaN  \n",
       "\n",
       "[5 rows x 21 columns]"
      ]
     },
     "execution_count": 52,
     "metadata": {},
     "output_type": "execute_result"
    }
   ],
   "source": [
    "IAD_flights.head()"
   ]
  }
 ],
 "metadata": {
  "kernelspec": {
   "display_name": "Python 3.9.13 64-bit",
   "language": "python",
   "name": "python3"
  },
  "language_info": {
   "codemirror_mode": {
    "name": "ipython",
    "version": 3
   },
   "file_extension": ".py",
   "mimetype": "text/x-python",
   "name": "python",
   "nbconvert_exporter": "python",
   "pygments_lexer": "ipython3",
   "version": "3.9.13"
  },
  "orig_nbformat": 4,
  "vscode": {
   "interpreter": {
    "hash": "11938c6bc6919ae2720b4d5011047913343b08a43b18698fd82dedb0d4417594"
   }
  }
 },
 "nbformat": 4,
 "nbformat_minor": 2
}
