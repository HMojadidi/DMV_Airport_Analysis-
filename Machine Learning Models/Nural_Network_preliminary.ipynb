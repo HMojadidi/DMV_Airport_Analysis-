{
 "cells": [
  {
   "cell_type": "markdown",
   "metadata": {},
   "source": [
    " # Delayed Flights Neural Network"
   ]
  },
  {
   "cell_type": "code",
   "execution_count": 1,
   "metadata": {},
   "outputs": [
    {
     "data": {
      "text/html": [
       "<div>\n",
       "<style scoped>\n",
       "    .dataframe tbody tr th:only-of-type {\n",
       "        vertical-align: middle;\n",
       "    }\n",
       "\n",
       "    .dataframe tbody tr th {\n",
       "        vertical-align: top;\n",
       "    }\n",
       "\n",
       "    .dataframe thead th {\n",
       "        text-align: right;\n",
       "    }\n",
       "</style>\n",
       "<table border=\"1\" class=\"dataframe\">\n",
       "  <thead>\n",
       "    <tr style=\"text-align: right;\">\n",
       "      <th></th>\n",
       "      <th>YEAR</th>\n",
       "      <th>MONTH</th>\n",
       "      <th>DAY_OF_WEEK</th>\n",
       "      <th>BRANDED_CODE_SHARE</th>\n",
       "      <th>ORIGIN</th>\n",
       "      <th>DEST</th>\n",
       "      <th>DEST_STATE_NM</th>\n",
       "      <th>CRS_DEP_TIME</th>\n",
       "      <th>DEP_TIME</th>\n",
       "      <th>DEP_DELAY</th>\n",
       "      <th>...</th>\n",
       "      <th>DIVERTED</th>\n",
       "      <th>CARRIER_DELAY</th>\n",
       "      <th>WEATHER_DELAY</th>\n",
       "      <th>NAS_DELAY</th>\n",
       "      <th>SECURITY_DELAY</th>\n",
       "      <th>LATE_AIRCRAFT_DELAY</th>\n",
       "      <th>DELAYED</th>\n",
       "      <th>DATE</th>\n",
       "      <th>COVID</th>\n",
       "      <th>DELAY_REASON</th>\n",
       "    </tr>\n",
       "  </thead>\n",
       "  <tbody>\n",
       "    <tr>\n",
       "      <th>0</th>\n",
       "      <td>2018</td>\n",
       "      <td>1</td>\n",
       "      <td>1</td>\n",
       "      <td>UA</td>\n",
       "      <td>BWI</td>\n",
       "      <td>DEN</td>\n",
       "      <td>Colorado</td>\n",
       "      <td>1608</td>\n",
       "      <td>1600.0</td>\n",
       "      <td>-8.0</td>\n",
       "      <td>...</td>\n",
       "      <td>0.0</td>\n",
       "      <td>0.0</td>\n",
       "      <td>0.0</td>\n",
       "      <td>0.0</td>\n",
       "      <td>0.0</td>\n",
       "      <td>0.0</td>\n",
       "      <td>0.0</td>\n",
       "      <td>2018-01-22</td>\n",
       "      <td>0.0</td>\n",
       "      <td>0.0</td>\n",
       "    </tr>\n",
       "    <tr>\n",
       "      <th>1</th>\n",
       "      <td>2018</td>\n",
       "      <td>1</td>\n",
       "      <td>1</td>\n",
       "      <td>UA</td>\n",
       "      <td>BWI</td>\n",
       "      <td>ORD</td>\n",
       "      <td>Illinois</td>\n",
       "      <td>1644</td>\n",
       "      <td>1637.0</td>\n",
       "      <td>-7.0</td>\n",
       "      <td>...</td>\n",
       "      <td>0.0</td>\n",
       "      <td>0.0</td>\n",
       "      <td>0.0</td>\n",
       "      <td>0.0</td>\n",
       "      <td>0.0</td>\n",
       "      <td>0.0</td>\n",
       "      <td>0.0</td>\n",
       "      <td>2018-01-22</td>\n",
       "      <td>0.0</td>\n",
       "      <td>0.0</td>\n",
       "    </tr>\n",
       "    <tr>\n",
       "      <th>2</th>\n",
       "      <td>2018</td>\n",
       "      <td>1</td>\n",
       "      <td>1</td>\n",
       "      <td>UA</td>\n",
       "      <td>BWI</td>\n",
       "      <td>IAH</td>\n",
       "      <td>Texas</td>\n",
       "      <td>1806</td>\n",
       "      <td>1800.0</td>\n",
       "      <td>-6.0</td>\n",
       "      <td>...</td>\n",
       "      <td>0.0</td>\n",
       "      <td>0.0</td>\n",
       "      <td>0.0</td>\n",
       "      <td>0.0</td>\n",
       "      <td>0.0</td>\n",
       "      <td>0.0</td>\n",
       "      <td>0.0</td>\n",
       "      <td>2018-01-22</td>\n",
       "      <td>0.0</td>\n",
       "      <td>0.0</td>\n",
       "    </tr>\n",
       "    <tr>\n",
       "      <th>3</th>\n",
       "      <td>2018</td>\n",
       "      <td>1</td>\n",
       "      <td>1</td>\n",
       "      <td>UA</td>\n",
       "      <td>BWI</td>\n",
       "      <td>IAH</td>\n",
       "      <td>Texas</td>\n",
       "      <td>828</td>\n",
       "      <td>828.0</td>\n",
       "      <td>0.0</td>\n",
       "      <td>...</td>\n",
       "      <td>0.0</td>\n",
       "      <td>0.0</td>\n",
       "      <td>0.0</td>\n",
       "      <td>0.0</td>\n",
       "      <td>0.0</td>\n",
       "      <td>0.0</td>\n",
       "      <td>0.0</td>\n",
       "      <td>2018-01-08</td>\n",
       "      <td>0.0</td>\n",
       "      <td>0.0</td>\n",
       "    </tr>\n",
       "    <tr>\n",
       "      <th>4</th>\n",
       "      <td>2018</td>\n",
       "      <td>1</td>\n",
       "      <td>1</td>\n",
       "      <td>UA</td>\n",
       "      <td>BWI</td>\n",
       "      <td>DEN</td>\n",
       "      <td>Colorado</td>\n",
       "      <td>810</td>\n",
       "      <td>802.0</td>\n",
       "      <td>-8.0</td>\n",
       "      <td>...</td>\n",
       "      <td>0.0</td>\n",
       "      <td>0.0</td>\n",
       "      <td>0.0</td>\n",
       "      <td>0.0</td>\n",
       "      <td>0.0</td>\n",
       "      <td>0.0</td>\n",
       "      <td>0.0</td>\n",
       "      <td>2018-01-08</td>\n",
       "      <td>0.0</td>\n",
       "      <td>0.0</td>\n",
       "    </tr>\n",
       "  </tbody>\n",
       "</table>\n",
       "<p>5 rows × 23 columns</p>\n",
       "</div>"
      ],
      "text/plain": [
       "   YEAR  MONTH  DAY_OF_WEEK BRANDED_CODE_SHARE ORIGIN DEST DEST_STATE_NM  \\\n",
       "0  2018      1            1                 UA    BWI  DEN      Colorado   \n",
       "1  2018      1            1                 UA    BWI  ORD      Illinois   \n",
       "2  2018      1            1                 UA    BWI  IAH         Texas   \n",
       "3  2018      1            1                 UA    BWI  IAH         Texas   \n",
       "4  2018      1            1                 UA    BWI  DEN      Colorado   \n",
       "\n",
       "   CRS_DEP_TIME  DEP_TIME  DEP_DELAY  ...  DIVERTED CARRIER_DELAY  \\\n",
       "0          1608    1600.0       -8.0  ...       0.0           0.0   \n",
       "1          1644    1637.0       -7.0  ...       0.0           0.0   \n",
       "2          1806    1800.0       -6.0  ...       0.0           0.0   \n",
       "3           828     828.0        0.0  ...       0.0           0.0   \n",
       "4           810     802.0       -8.0  ...       0.0           0.0   \n",
       "\n",
       "   WEATHER_DELAY  NAS_DELAY  SECURITY_DELAY  LATE_AIRCRAFT_DELAY  DELAYED  \\\n",
       "0            0.0        0.0             0.0                  0.0      0.0   \n",
       "1            0.0        0.0             0.0                  0.0      0.0   \n",
       "2            0.0        0.0             0.0                  0.0      0.0   \n",
       "3            0.0        0.0             0.0                  0.0      0.0   \n",
       "4            0.0        0.0             0.0                  0.0      0.0   \n",
       "\n",
       "         DATE  COVID  DELAY_REASON  \n",
       "0  2018-01-22    0.0           0.0  \n",
       "1  2018-01-22    0.0           0.0  \n",
       "2  2018-01-22    0.0           0.0  \n",
       "3  2018-01-08    0.0           0.0  \n",
       "4  2018-01-08    0.0           0.0  \n",
       "\n",
       "[5 rows x 23 columns]"
      ]
     },
     "execution_count": 1,
     "metadata": {},
     "output_type": "execute_result"
    }
   ],
   "source": [
    "# Import our dependencies\n",
    "from sklearn.model_selection import train_test_split\n",
    "from sklearn.preprocessing import StandardScaler\n",
    "import pandas as pd\n",
    "import tensorflow as tf\n",
    "from sklearn.metrics import confusion_matrix, classification_report, ConfusionMatrixDisplay\n",
    "import matplotlib.pyplot as plt\n",
    "\n",
    "#  Import and read data.\n",
    "import pandas as pd \n",
    "data = \"https://airport-efficiency.s3.amazonaws.com/Merged_cleaned_airport_data.csv\"\n",
    "df = pd.read_csv(data)\n",
    "df.head()"
   ]
  },
  {
   "cell_type": "code",
   "execution_count": 2,
   "metadata": {},
   "outputs": [],
   "source": [
    "# Combined Airline and their Codeshare\n",
    "df.loc[(df.BRANDED_CODE_SHARE == \"UA_CODESHARE\"), \"BRANDED_CODE_SHARE\"] = \"UA\"\n",
    "df.loc[(df.BRANDED_CODE_SHARE == \"AA_CODESHARE\"), \"BRANDED_CODE_SHARE\"] = \"AA\"\n",
    "df.loc[(df.BRANDED_CODE_SHARE == \"DL_CODESHARE\"), \"BRANDED_CODE_SHARE\"] = \"DL\"\n",
    "df.loc[(df.BRANDED_CODE_SHARE == \"AS_CODESHARE\"), \"BRANDED_CODE_SHARE\"] = \"AS\""
   ]
  },
  {
   "cell_type": "code",
   "execution_count": 3,
   "metadata": {},
   "outputs": [],
   "source": [
    "# Define regions\n",
    "northeast = ['Massachusetts',\n",
    "'Rhode Island',\n",
    "'Connecticut',\n",
    "'Vermont',\n",
    "'New Hampshire',\n",
    "'Maine',\n",
    "'Pennsylvania',\n",
    "'New Jersey',\n",
    "'New York'\n",
    "]\n",
    "\n",
    "souteast = ['Georgia',\n",
    "'North Carolina',\n",
    "'South Carolina',\n",
    "'Virginia',\n",
    "'West Virginia',\n",
    "'Kentucky',\n",
    "'Tennessee',\n",
    "'Mississippi',\n",
    "'Alabama',\n",
    "'Delaware',\n",
    "'Maryland',\n",
    "'Florida',\n",
    "'Louisiana',\n",
    "'Arkansas'\n",
    "]\n",
    "\n",
    "midwest = ['Minnesota',\n",
    "'Wisconsin',\n",
    "'Illinois',\n",
    "'Ohio',\n",
    "'Indiana',\n",
    "'Michigan',\n",
    "'Missouri',\n",
    "'Iowa',\n",
    "'Kansas',\n",
    "'Nebraska',\n",
    "'North Dakota',\n",
    "'South Dakota'\n",
    "]\n",
    "\n",
    "southwest = ['New Mexico',\n",
    "'Arizona',\n",
    "'Oklahoma',\n",
    "'Texas'\n",
    "]\n",
    "\n",
    "west = ['California',\n",
    "'Colorado',\n",
    "'Nevada',\n",
    "'Hawaii',\n",
    "'Alaska',\n",
    "'Oregon',\n",
    "'Utah',\n",
    "'Idaho',\n",
    "'Montana',\n",
    "'Wyoming',\n",
    "'Washington'\n",
    "]\n",
    "\n",
    "noncontinental = ['U.S. Virgin Islands',\n",
    "'Puerto Rico'\n",
    "]"
   ]
  },
  {
   "cell_type": "code",
   "execution_count": 4,
   "metadata": {},
   "outputs": [],
   "source": [
    "# Add region column\n",
    "regions=pd.DataFrame([northeast,souteast,midwest,southwest,west,noncontinental],index=['northeast','souteast','midwest','southwest','west','noncontinental'])\n",
    "regions=regions.reset_index().melt('index')\n",
    "df['Region'] = df['DEST_STATE_NM'].map(dict(zip(regions['value'],regions['index'])))"
   ]
  },
  {
   "cell_type": "code",
   "execution_count": 5,
   "metadata": {},
   "outputs": [],
   "source": [
    "# drop more columns\n",
    "drop = ['DEP_TIME','DEP_DELAY_GROUP',  'DEST_STATE_NM', 'DEST', 'DEP_DELAY', 'LATE_AIRCRAFT_DELAY', 'CARRIER_DELAY', 'WEATHER_DELAY', 'SECURITY_DELAY', 'NAS_DELAY', 'DELAY_REASON', 'CRS_DEP_TIME' ]\n",
    "df_dropped = df.drop( drop , 1)"
   ]
  },
  {
   "cell_type": "markdown",
   "metadata": {},
   "source": [
    "# Encode Columns \n",
    "using get_dummies"
   ]
  },
  {
   "cell_type": "code",
   "execution_count": 6,
   "metadata": {},
   "outputs": [],
   "source": [
    "brand_df = pd.get_dummies(df_dropped, columns=[\"BRANDED_CODE_SHARE\"])\n"
   ]
  },
  {
   "cell_type": "code",
   "execution_count": 7,
   "metadata": {},
   "outputs": [],
   "source": [
    "origin_df = pd.get_dummies(brand_df, columns=[\"ORIGIN\"])"
   ]
  },
  {
   "cell_type": "code",
   "execution_count": 8,
   "metadata": {},
   "outputs": [],
   "source": [
    "region_df = pd.get_dummies(origin_df, columns=[\"Region\"])"
   ]
  },
  {
   "cell_type": "code",
   "execution_count": 9,
   "metadata": {},
   "outputs": [],
   "source": [
    "final_df = pd.get_dummies(region_df, columns=[\"DEP_TIME_BLK\"])\n",
    "final_df['DATE'] = pd.to_datetime(final_df['DATE'], format='%Y-%m-%d')\n",
    "final_df['DAY_OF_MONTH'] = final_df.DATE.dt.day\n",
    "final_df = final_df.drop('DATE', 1)\n"
   ]
  },
  {
   "cell_type": "code",
   "execution_count": 10,
   "metadata": {},
   "outputs": [],
   "source": [
    "y = final_df[\"DELAYED\"]\n",
    "X = final_df.drop(columns=[\"DELAYED\"])\n",
    "\n",
    "from sklearn.model_selection import train_test_split\n",
    "\n",
    "X_train, X_test, y_train, y_test = train_test_split(X, \n",
    "                                                    y, \n",
    "                                                    random_state=1, \n",
    "                                                    stratify=y)\n",
    "\n",
    "from sklearn.preprocessing import StandardScaler\n",
    "sc = StandardScaler()\n",
    "X_scaler = sc.fit(X_train)\n",
    "X_train_scaled = X_scaler.transform(X_train)\n",
    "X_test_scaled = X_scaler.transform(X_test)"
   ]
  },
  {
   "cell_type": "code",
   "execution_count": 11,
   "metadata": {},
   "outputs": [
    {
     "name": "stdout",
     "output_type": "stream",
     "text": [
      "Model: \"sequential\"\n",
      "_________________________________________________________________\n",
      " Layer (type)                Output Shape              Param #   \n",
      "=================================================================\n",
      " dense (Dense)               (None, 32)                1472      \n",
      "                                                                 \n",
      " dense_1 (Dense)             (None, 16)                528       \n",
      "                                                                 \n",
      " dense_2 (Dense)             (None, 1)                 17        \n",
      "                                                                 \n",
      "=================================================================\n",
      "Total params: 2,017\n",
      "Trainable params: 2,017\n",
      "Non-trainable params: 0\n",
      "_________________________________________________________________\n"
     ]
    }
   ],
   "source": [
    "# Define the model - deep neural net, i.e., the number of input features and hidden nodes for each layer.\n",
    "# hidden layers determined using 2/3 of input layer + output layer for first layer then halving for each following layer\n",
    "number_input_features = len(X_train_scaled[0])\n",
    "hidden_nodes_layer1 =  number_input_features*(2/3)+2\n",
    "hidden_nodes_layer2 = hidden_nodes_layer1/2\n",
    "\n",
    "nn = tf.keras.models.Sequential()\n",
    "\n",
    "# First hidden layer\n",
    "nn.add(\n",
    "    tf.keras.layers.Dense(units=hidden_nodes_layer1, input_dim=number_input_features, activation=\"relu\")\n",
    ")\n",
    "\n",
    "# Second hidden layer\n",
    "nn.add(tf.keras.layers.Dense(units=hidden_nodes_layer2, activation=\"relu\"))\n",
    "\n",
    "# Output layer\n",
    "nn.add(tf.keras.layers.Dense(units=1, activation=\"sigmoid\"))\n",
    "\n",
    "# Check the structure of the model\n",
    "nn.summary()"
   ]
  },
  {
   "cell_type": "code",
   "execution_count": 12,
   "metadata": {},
   "outputs": [],
   "source": [
    "# Compile the model\n",
    "nn.compile(loss=\"binary_crossentropy\", optimizer=\"adam\", metrics=[\"accuracy\"])"
   ]
  },
  {
   "cell_type": "code",
   "execution_count": 13,
   "metadata": {},
   "outputs": [
    {
     "name": "stdout",
     "output_type": "stream",
     "text": [
      "Epoch 1/20\n",
      "25382/25382 [==============================] - 21s 787us/step - loss: 0.4366 - accuracy: 0.8250\n",
      "Epoch 2/20\n",
      "25382/25382 [==============================] - 19s 748us/step - loss: 0.4299 - accuracy: 0.8261\n",
      "Epoch 3/20\n",
      "25382/25382 [==============================] - 25s 980us/step - loss: 0.4283 - accuracy: 0.8264\n",
      "Epoch 4/20\n",
      "25382/25382 [==============================] - 29s 1ms/step - loss: 0.4272 - accuracy: 0.8265\n",
      "Epoch 5/20\n",
      "25382/25382 [==============================] - 19s 743us/step - loss: 0.4263 - accuracy: 0.8269\n",
      "Epoch 6/20\n",
      "25382/25382 [==============================] - 20s 788us/step - loss: 0.4257 - accuracy: 0.8268\n",
      "Epoch 7/20\n",
      "25382/25382 [==============================] - 18s 726us/step - loss: 0.4253 - accuracy: 0.8269\n",
      "Epoch 8/20\n",
      "25382/25382 [==============================] - 19s 767us/step - loss: 0.4250 - accuracy: 0.8271\n",
      "Epoch 9/20\n",
      "25382/25382 [==============================] - 22s 879us/step - loss: 0.4247 - accuracy: 0.8272\n",
      "Epoch 10/20\n",
      "25382/25382 [==============================] - 21s 842us/step - loss: 0.4244 - accuracy: 0.8271\n",
      "Epoch 11/20\n",
      "25382/25382 [==============================] - 20s 800us/step - loss: 0.4241 - accuracy: 0.8274\n",
      "Epoch 12/20\n",
      "25382/25382 [==============================] - 20s 793us/step - loss: 0.4239 - accuracy: 0.8273\n",
      "Epoch 13/20\n",
      "25382/25382 [==============================] - 19s 744us/step - loss: 0.4238 - accuracy: 0.8274\n",
      "Epoch 14/20\n",
      "25382/25382 [==============================] - 18s 725us/step - loss: 0.4237 - accuracy: 0.8276\n",
      "Epoch 15/20\n",
      "25382/25382 [==============================] - 18s 709us/step - loss: 0.4235 - accuracy: 0.8274\n",
      "Epoch 16/20\n",
      "25382/25382 [==============================] - 18s 690us/step - loss: 0.4233 - accuracy: 0.8276\n",
      "Epoch 17/20\n",
      "25382/25382 [==============================] - 19s 730us/step - loss: 0.4232 - accuracy: 0.8275\n",
      "Epoch 18/20\n",
      "25382/25382 [==============================] - 18s 724us/step - loss: 0.4231 - accuracy: 0.8275\n",
      "Epoch 19/20\n",
      "25382/25382 [==============================] - 18s 727us/step - loss: 0.4230 - accuracy: 0.8277\n",
      "Epoch 20/20\n",
      "25382/25382 [==============================] - 18s 702us/step - loss: 0.4229 - accuracy: 0.8277\n"
     ]
    }
   ],
   "source": [
    "# Train the model\n",
    "fit_model = nn.fit(X_train_scaled,y_train,epochs=20)"
   ]
  },
  {
   "cell_type": "code",
   "execution_count": 14,
   "metadata": {},
   "outputs": [
    {
     "name": "stdout",
     "output_type": "stream",
     "text": [
      "8461/8461 - 4s - loss: 0.4243 - accuracy: 0.8277 - 4s/epoch - 460us/step\n",
      "Loss: 0.42432865500450134, Accuracy: 0.82767653465271\n"
     ]
    }
   ],
   "source": [
    "# Evaluate the model using the test data\n",
    "model_loss, model_accuracy = nn.evaluate(X_test_scaled,y_test,verbose=2)\n",
    "print(f\"Loss: {model_loss}, Accuracy: {model_accuracy}\")"
   ]
  },
  {
   "cell_type": "markdown",
   "metadata": {},
   "source": [
    "# Make Predictions"
   ]
  },
  {
   "cell_type": "code",
   "execution_count": 15,
   "metadata": {},
   "outputs": [
    {
     "name": "stdout",
     "output_type": "stream",
     "text": [
      "8461/8461 [==============================] - 4s 459us/step\n"
     ]
    }
   ],
   "source": [
    "predictions = nn.predict(X_test_scaled)"
   ]
  },
  {
   "cell_type": "code",
   "execution_count": 16,
   "metadata": {},
   "outputs": [
    {
     "name": "stdout",
     "output_type": "stream",
     "text": [
      "[[0.12909044]\n",
      " [0.08042184]\n",
      " [0.13054605]\n",
      " [0.09029566]\n",
      " [0.10156399]\n",
      " [0.22128184]\n",
      " [0.1526418 ]\n",
      " [0.14805709]\n",
      " [0.09146017]\n",
      " [0.18204272]]\n"
     ]
    }
   ],
   "source": [
    "print(predictions[0:10])"
   ]
  },
  {
   "cell_type": "code",
   "execution_count": 17,
   "metadata": {},
   "outputs": [
    {
     "name": "stdout",
     "output_type": "stream",
     "text": [
      "[0, 0, 0, 0, 0, 0, 0, 0, 0, 0]\n"
     ]
    }
   ],
   "source": [
    "# Round predictions to be able to compare test data\n",
    "rounded = [round(x[0]) for x in predictions]\n",
    "print(rounded[0:10])"
   ]
  },
  {
   "cell_type": "markdown",
   "metadata": {},
   "source": [
    "# Validate the model using the test data"
   ]
  },
  {
   "cell_type": "code",
   "execution_count": 18,
   "metadata": {},
   "outputs": [
    {
     "data": {
      "text/plain": [
       "0.0    222850\n",
       "1.0     47885\n",
       "Name: DELAYED, dtype: int64"
      ]
     },
     "execution_count": 18,
     "metadata": {},
     "output_type": "execute_result"
    }
   ],
   "source": [
    "y_test.value_counts()"
   ]
  },
  {
   "cell_type": "code",
   "execution_count": 19,
   "metadata": {},
   "outputs": [
    {
     "data": {
      "text/html": [
       "<div>\n",
       "<style scoped>\n",
       "    .dataframe tbody tr th:only-of-type {\n",
       "        vertical-align: middle;\n",
       "    }\n",
       "\n",
       "    .dataframe tbody tr th {\n",
       "        vertical-align: top;\n",
       "    }\n",
       "\n",
       "    .dataframe thead th {\n",
       "        text-align: right;\n",
       "    }\n",
       "</style>\n",
       "<table border=\"1\" class=\"dataframe\">\n",
       "  <thead>\n",
       "    <tr style=\"text-align: right;\">\n",
       "      <th></th>\n",
       "      <th>Predicted Delayed (1)</th>\n",
       "      <th>Predicted On-Time (0)</th>\n",
       "    </tr>\n",
       "  </thead>\n",
       "  <tbody>\n",
       "    <tr>\n",
       "      <th>Actual Delayed (1)</th>\n",
       "      <td>3538</td>\n",
       "      <td>44347</td>\n",
       "    </tr>\n",
       "    <tr>\n",
       "      <th>Actual On-Time (0)</th>\n",
       "      <td>2307</td>\n",
       "      <td>220543</td>\n",
       "    </tr>\n",
       "  </tbody>\n",
       "</table>\n",
       "</div>"
      ],
      "text/plain": [
       "                    Predicted Delayed (1)  Predicted On-Time (0)\n",
       "Actual Delayed (1)                   3538                  44347\n",
       "Actual On-Time (0)                   2307                 220543"
      ]
     },
     "execution_count": 19,
     "metadata": {},
     "output_type": "execute_result"
    }
   ],
   "source": [
    "cmtx = pd.DataFrame(\n",
    "    confusion_matrix(y_test, rounded, labels=[1, 0]), \n",
    "    index=['Actual Delayed (1)', 'Actual On-Time (0)'], \n",
    "    columns=['Predicted Delayed (1)', 'Predicted On-Time (0)']\n",
    "    )\n",
    "cmtx"
   ]
  },
  {
   "cell_type": "code",
   "execution_count": 20,
   "metadata": {},
   "outputs": [
    {
     "data": {
      "image/png": "[encoded data removed]",
      "text/plain": [
       "<Figure size 432x288 with 2 Axes>"
      ]
     },
     "metadata": {
      "needs_background": "light"
     },
     "output_type": "display_data"
    }
   ],
   "source": [
    "cm = ConfusionMatrixDisplay(confusion_matrix(y_test, rounded, labels=[0, 1]))\n",
    "cm.plot()\n",
    "plt.show()"
   ]
  },
  {
   "cell_type": "code",
   "execution_count": 21,
   "metadata": {},
   "outputs": [
    {
     "name": "stdout",
     "output_type": "stream",
     "text": [
      "              precision    recall  f1-score   support\n",
      "\n",
      "         0.0       0.83      0.99      0.90    222850\n",
      "         1.0       0.61      0.07      0.13     47885\n",
      "\n",
      "    accuracy                           0.83    270735\n",
      "   macro avg       0.72      0.53      0.52    270735\n",
      "weighted avg       0.79      0.83      0.77    270735\n",
      "\n"
     ]
    }
   ],
   "source": [
    "print(classification_report(y_test, rounded))"
   ]
  }
 ],
 "metadata": {
  "kernelspec": {
   "display_name": "Python 3.9.13 64-bit",
   "language": "python",
   "name": "python3"
  },
  "language_info": {
   "codemirror_mode": {
    "name": "ipython",
    "version": 3
   },
   "file_extension": ".py",
   "mimetype": "text/x-python",
   "name": "python",
   "nbconvert_exporter": "python",
   "pygments_lexer": "ipython3",
   "version": "3.9.13"
  },
  "orig_nbformat": 4,
  "vscode": {
   "interpreter": {
    "hash": "11938c6bc6919ae2720b4d5011047913343b08a43b18698fd82dedb0d4417594"
   }
  }
 },
 "nbformat": 4,
 "nbformat_minor": 2
}
