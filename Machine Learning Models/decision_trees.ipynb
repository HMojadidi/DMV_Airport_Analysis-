{
  "cells": [
    {
      "cell_type": "markdown",
      "metadata": {
        "id": "r01_XoiDsfjc"
      },
      "source": [
        "# Delayed Flights Decision Trees"
      ]
    },
    {
      "cell_type": "code",
      "execution_count": null,
      "metadata": {
        "id": "17JMFy6bsfjg"
      },
      "outputs": [],
      "source": [
        "# Initial imports\n",
        "import pandas as pd\n",
        "from sklearn import tree\n",
        "from sklearn.preprocessing import StandardScaler\n",
        "import matplotlib.pyplot as plt\n",
        "from sklearn.model_selection import train_test_split\n",
        "from sklearn.metrics import confusion_matrix, accuracy_score, classification_report"
      ]
    },
    {
      "cell_type": "code",
      "execution_count": null,
      "metadata": {
        "colab": {
          "base_uri": "https://localhost:8080/",
          "height": 386
        },
        "id": "7qjgehvps2I-",
        "outputId": "d0c105b5-0650-4bc4-c5ad-c791a7a5906b"
      },
      "outputs": [
        {
          "data": {
            "text/html": [
              "\n",
              "  <div id=\"df-72f3be08-4361-4c2e-a932-095fd5a24632\">\n",
              "    <div class=\"colab-df-container\">\n",
              "      <div>\n",
              "<style scoped>\n",
              "    .dataframe tbody tr th:only-of-type {\n",
              "        vertical-align: middle;\n",
              "    }\n",
              "\n",
              "    .dataframe tbody tr th {\n",
              "        vertical-align: top;\n",
              "    }\n",
              "\n",
              "    .dataframe thead th {\n",
              "        text-align: right;\n",
              "    }\n",
              "</style>\n",
              "<table border=\"1\" class=\"dataframe\">\n",
              "  <thead>\n",
              "    <tr style=\"text-align: right;\">\n",
              "      <th></th>\n",
              "      <th>YEAR</th>\n",
              "      <th>MONTH</th>\n",
              "      <th>DAY_OF_WEEK</th>\n",
              "      <th>BRANDED_CODE_SHARE</th>\n",
              "      <th>ORIGIN</th>\n",
              "      <th>DEST</th>\n",
              "      <th>DEST_STATE_NM</th>\n",
              "      <th>CRS_DEP_TIME</th>\n",
              "      <th>DEP_TIME</th>\n",
              "      <th>DEP_DELAY</th>\n",
              "      <th>...</th>\n",
              "      <th>DIVERTED</th>\n",
              "      <th>CARRIER_DELAY</th>\n",
              "      <th>WEATHER_DELAY</th>\n",
              "      <th>NAS_DELAY</th>\n",
              "      <th>SECURITY_DELAY</th>\n",
              "      <th>LATE_AIRCRAFT_DELAY</th>\n",
              "      <th>DELAYED</th>\n",
              "      <th>DATE</th>\n",
              "      <th>COVID</th>\n",
              "      <th>DELAY_REASON</th>\n",
              "    </tr>\n",
              "  </thead>\n",
              "  <tbody>\n",
              "    <tr>\n",
              "      <th>0</th>\n",
              "      <td>2018</td>\n",
              "      <td>1</td>\n",
              "      <td>1</td>\n",
              "      <td>UA</td>\n",
              "      <td>BWI</td>\n",
              "      <td>DEN</td>\n",
              "      <td>Colorado</td>\n",
              "      <td>1608</td>\n",
              "      <td>1600.0</td>\n",
              "      <td>-8.0</td>\n",
              "      <td>...</td>\n",
              "      <td>0.0</td>\n",
              "      <td>0.0</td>\n",
              "      <td>0.0</td>\n",
              "      <td>0.0</td>\n",
              "      <td>0.0</td>\n",
              "      <td>0.0</td>\n",
              "      <td>0.0</td>\n",
              "      <td>2018-01-22</td>\n",
              "      <td>0.0</td>\n",
              "      <td>0.0</td>\n",
              "    </tr>\n",
              "    <tr>\n",
              "      <th>1</th>\n",
              "      <td>2018</td>\n",
              "      <td>1</td>\n",
              "      <td>1</td>\n",
              "      <td>UA</td>\n",
              "      <td>BWI</td>\n",
              "      <td>ORD</td>\n",
              "      <td>Illinois</td>\n",
              "      <td>1644</td>\n",
              "      <td>1637.0</td>\n",
              "      <td>-7.0</td>\n",
              "      <td>...</td>\n",
              "      <td>0.0</td>\n",
              "      <td>0.0</td>\n",
              "      <td>0.0</td>\n",
              "      <td>0.0</td>\n",
              "      <td>0.0</td>\n",
              "      <td>0.0</td>\n",
              "      <td>0.0</td>\n",
              "      <td>2018-01-22</td>\n",
              "      <td>0.0</td>\n",
              "      <td>0.0</td>\n",
              "    </tr>\n",
              "    <tr>\n",
              "      <th>2</th>\n",
              "      <td>2018</td>\n",
              "      <td>1</td>\n",
              "      <td>1</td>\n",
              "      <td>UA</td>\n",
              "      <td>BWI</td>\n",
              "      <td>IAH</td>\n",
              "      <td>Texas</td>\n",
              "      <td>1806</td>\n",
              "      <td>1800.0</td>\n",
              "      <td>-6.0</td>\n",
              "      <td>...</td>\n",
              "      <td>0.0</td>\n",
              "      <td>0.0</td>\n",
              "      <td>0.0</td>\n",
              "      <td>0.0</td>\n",
              "      <td>0.0</td>\n",
              "      <td>0.0</td>\n",
              "      <td>0.0</td>\n",
              "      <td>2018-01-22</td>\n",
              "      <td>0.0</td>\n",
              "      <td>0.0</td>\n",
              "    </tr>\n",
              "    <tr>\n",
              "      <th>3</th>\n",
              "      <td>2018</td>\n",
              "      <td>1</td>\n",
              "      <td>1</td>\n",
              "      <td>UA</td>\n",
              "      <td>BWI</td>\n",
              "      <td>IAH</td>\n",
              "      <td>Texas</td>\n",
              "      <td>828</td>\n",
              "      <td>828.0</td>\n",
              "      <td>0.0</td>\n",
              "      <td>...</td>\n",
              "      <td>0.0</td>\n",
              "      <td>0.0</td>\n",
              "      <td>0.0</td>\n",
              "      <td>0.0</td>\n",
              "      <td>0.0</td>\n",
              "      <td>0.0</td>\n",
              "      <td>0.0</td>\n",
              "      <td>2018-01-08</td>\n",
              "      <td>0.0</td>\n",
              "      <td>0.0</td>\n",
              "    </tr>\n",
              "    <tr>\n",
              "      <th>4</th>\n",
              "      <td>2018</td>\n",
              "      <td>1</td>\n",
              "      <td>1</td>\n",
              "      <td>UA</td>\n",
              "      <td>BWI</td>\n",
              "      <td>DEN</td>\n",
              "      <td>Colorado</td>\n",
              "      <td>810</td>\n",
              "      <td>802.0</td>\n",
              "      <td>-8.0</td>\n",
              "      <td>...</td>\n",
              "      <td>0.0</td>\n",
              "      <td>0.0</td>\n",
              "      <td>0.0</td>\n",
              "      <td>0.0</td>\n",
              "      <td>0.0</td>\n",
              "      <td>0.0</td>\n",
              "      <td>0.0</td>\n",
              "      <td>2018-01-08</td>\n",
              "      <td>0.0</td>\n",
              "      <td>0.0</td>\n",
              "    </tr>\n",
              "  </tbody>\n",
              "</table>\n",
              "<p>5 rows × 23 columns</p>\n",
              "</div>\n",
              "      <button class=\"colab-df-convert\" onclick=\"convertToInteractive('df-72f3be08-4361-4c2e-a932-095fd5a24632')\"\n",
              "              title=\"Convert this dataframe to an interactive table.\"\n",
              "              style=\"display:none;\">\n",
              "        \n",
              "  <svg xmlns=\"http://www.w3.org/2000/svg\" height=\"24px\"viewBox=\"0 0 24 24\"\n",
              "       width=\"24px\">\n",
              "    <path d=\"M0 0h24v24H0V0z\" fill=\"none\"/>\n",
              "    <path d=\"M18.56 5.44l.94 2.06.94-2.06 2.06-.94-2.06-.94-.94-2.06-.94 2.06-2.06.94zm-11 1L8.5 8.5l.94-2.06 2.06-.94-2.06-.94L8.5 2.5l-.94 2.06-2.06.94zm10 10l.94 2.06.94-2.06 2.06-.94-2.06-.94-.94-2.06-.94 2.06-2.06.94z\"/><path d=\"M17.41 7.96l-1.37-1.37c-.4-.4-.92-.59-1.43-.59-.52 0-1.04.2-1.43.59L10.3 9.45l-7.72 7.72c-.78.78-.78 2.05 0 2.83L4 21.41c.39.39.9.59 1.41.59.51 0 1.02-.2 1.41-.59l7.78-7.78 2.81-2.81c.8-.78.8-2.07 0-2.86zM5.41 20L4 18.59l7.72-7.72 1.47 1.35L5.41 20z\"/>\n",
              "  </svg>\n",
              "      </button>\n",
              "      \n",
              "  <style>\n",
              "    .colab-df-container {\n",
              "      display:flex;\n",
              "      flex-wrap:wrap;\n",
              "      gap: 12px;\n",
              "    }\n",
              "\n",
              "    .colab-df-convert {\n",
              "      background-color: #E8F0FE;\n",
              "      border: none;\n",
              "      border-radius: 50%;\n",
              "      cursor: pointer;\n",
              "      display: none;\n",
              "      fill: #1967D2;\n",
              "      height: 32px;\n",
              "      padding: 0 0 0 0;\n",
              "      width: 32px;\n",
              "    }\n",
              "\n",
              "    .colab-df-convert:hover {\n",
              "      background-color: #E2EBFA;\n",
              "      box-shadow: 0px 1px 2px rgba(60, 64, 67, 0.3), 0px 1px 3px 1px rgba(60, 64, 67, 0.15);\n",
              "      fill: #174EA6;\n",
              "    }\n",
              "\n",
              "    [theme=dark] .colab-df-convert {\n",
              "      background-color: #3B4455;\n",
              "      fill: #D2E3FC;\n",
              "    }\n",
              "\n",
              "    [theme=dark] .colab-df-convert:hover {\n",
              "      background-color: #434B5C;\n",
              "      box-shadow: 0px 1px 3px 1px rgba(0, 0, 0, 0.15);\n",
              "      filter: drop-shadow(0px 1px 2px rgba(0, 0, 0, 0.3));\n",
              "      fill: #FFFFFF;\n",
              "    }\n",
              "  </style>\n",
              "\n",
              "      <script>\n",
              "        const buttonEl =\n",
              "          document.querySelector('#df-72f3be08-4361-4c2e-a932-095fd5a24632 button.colab-df-convert');\n",
              "        buttonEl.style.display =\n",
              "          google.colab.kernel.accessAllowed ? 'block' : 'none';\n",
              "\n",
              "        async function convertToInteractive(key) {\n",
              "          const element = document.querySelector('#df-72f3be08-4361-4c2e-a932-095fd5a24632');\n",
              "          const dataTable =\n",
              "            await google.colab.kernel.invokeFunction('convertToInteractive',\n",
              "                                                     [key], {});\n",
              "          if (!dataTable) return;\n",
              "\n",
              "          const docLinkHtml = 'Like what you see? Visit the ' +\n",
              "            '<a target=\"_blank\" href=https://colab.research.google.com/notebooks/data_table.ipynb>data table notebook</a>'\n",
              "            + ' to learn more about interactive tables.';\n",
              "          element.innerHTML = '';\n",
              "          dataTable['output_type'] = 'display_data';\n",
              "          await google.colab.output.renderOutput(dataTable, element);\n",
              "          const docLink = document.createElement('div');\n",
              "          docLink.innerHTML = docLinkHtml;\n",
              "          element.appendChild(docLink);\n",
              "        }\n",
              "      </script>\n",
              "    </div>\n",
              "  </div>\n",
              "  "
            ],
            "text/plain": [
              "   YEAR  MONTH  DAY_OF_WEEK BRANDED_CODE_SHARE ORIGIN DEST DEST_STATE_NM  \\\n",
              "0  2018      1            1                 UA    BWI  DEN      Colorado   \n",
              "1  2018      1            1                 UA    BWI  ORD      Illinois   \n",
              "2  2018      1            1                 UA    BWI  IAH         Texas   \n",
              "3  2018      1            1                 UA    BWI  IAH         Texas   \n",
              "4  2018      1            1                 UA    BWI  DEN      Colorado   \n",
              "\n",
              "   CRS_DEP_TIME  DEP_TIME  DEP_DELAY  ...  DIVERTED CARRIER_DELAY  \\\n",
              "0          1608    1600.0       -8.0  ...       0.0           0.0   \n",
              "1          1644    1637.0       -7.0  ...       0.0           0.0   \n",
              "2          1806    1800.0       -6.0  ...       0.0           0.0   \n",
              "3           828     828.0        0.0  ...       0.0           0.0   \n",
              "4           810     802.0       -8.0  ...       0.0           0.0   \n",
              "\n",
              "   WEATHER_DELAY  NAS_DELAY  SECURITY_DELAY  LATE_AIRCRAFT_DELAY  DELAYED  \\\n",
              "0            0.0        0.0             0.0                  0.0      0.0   \n",
              "1            0.0        0.0             0.0                  0.0      0.0   \n",
              "2            0.0        0.0             0.0                  0.0      0.0   \n",
              "3            0.0        0.0             0.0                  0.0      0.0   \n",
              "4            0.0        0.0             0.0                  0.0      0.0   \n",
              "\n",
              "         DATE  COVID  DELAY_REASON  \n",
              "0  2018-01-22    0.0           0.0  \n",
              "1  2018-01-22    0.0           0.0  \n",
              "2  2018-01-22    0.0           0.0  \n",
              "3  2018-01-08    0.0           0.0  \n",
              "4  2018-01-08    0.0           0.0  \n",
              "\n",
              "[5 rows x 23 columns]"
            ]
          },
          "execution_count": 2,
          "metadata": {},
          "output_type": "execute_result"
        }
      ],
      "source": [
        "# load data flight from amazon aws \n",
        "data = \"https://airport-efficiency.s3.amazonaws.com/Merged_cleaned_airport_data.csv\"\n",
        "df = pd.read_csv(data)\n",
        "df.head()"
      ]
    },
    {
      "cell_type": "code",
      "execution_count": null,
      "metadata": {
        "id": "21G4vbVzs4Zt"
      },
      "outputs": [],
      "source": [
        "# merge \"codeshares\" to their corresponding airlines \n",
        "df.loc[(df.BRANDED_CODE_SHARE == \"UA_CODESHARE\"), \"BRANDED_CODE_SHARE\"] = \"UA\"\n",
        "df.loc[(df.BRANDED_CODE_SHARE == \"AA_CODESHARE\"), \"BRANDED_CODE_SHARE\"] = \"AA\"\n",
        "df.loc[(df.BRANDED_CODE_SHARE == \"DL_CODESHARE\"), \"BRANDED_CODE_SHARE\"] = \"DL\"\n",
        "df.loc[(df.BRANDED_CODE_SHARE == \"AS_CODESHARE\"), \"BRANDED_CODE_SHARE\"] = \"AS\"\n"
      ]
    },
    {
      "cell_type": "code",
      "execution_count": null,
      "metadata": {
        "id": "e7s4Kajns4js"
      },
      "outputs": [],
      "source": [
        "#divide the states into five regions \n",
        "northeast = ['Massachusetts',\n",
        "'Rhode Island',\n",
        "'Connecticut',\n",
        "'Vermont',\n",
        "'New Hampshire',\n",
        "'Maine',\n",
        "'Pennsylvania',\n",
        "'New Jersey',\n",
        "'New York'\n",
        "]"
      ]
    },
    {
      "cell_type": "code",
      "execution_count": null,
      "metadata": {
        "id": "MxPLt_QGs4rD"
      },
      "outputs": [],
      "source": [
        "souteast = ['Georgia',\n",
        "'North Carolina',\n",
        "'South Carolina',\n",
        "'Virginia',\n",
        "'West Virginia',\n",
        "'Kentucky',\n",
        "'Tennessee',\n",
        "'Mississippi',\n",
        "'Alabama',\n",
        "'Delaware',\n",
        "'Maryland',\n",
        "'Florida',\n",
        "'Louisiana',\n",
        "'Arkansas'\n",
        "]"
      ]
    },
    {
      "cell_type": "code",
      "execution_count": null,
      "metadata": {
        "id": "KRHd0i9js4ul"
      },
      "outputs": [],
      "source": [
        "midwest = ['Minnesota',\n",
        "'Wisconsin',\n",
        "'Illinois',\n",
        "'Ohio',\n",
        "'Indiana',\n",
        "'Michigan',\n",
        "'Missouri',\n",
        "'Iowa',\n",
        "'Kansas',\n",
        "'Nebraska',\n",
        "'North Dakota',\n",
        "'South Dakota'\n",
        "]"
      ]
    },
    {
      "cell_type": "code",
      "execution_count": null,
      "metadata": {
        "id": "Uj9Vv3jts4xa"
      },
      "outputs": [],
      "source": [
        "southwest = ['New Mexico',\n",
        "'Arizona',\n",
        "'Oklahoma',\n",
        "'Texas'\n",
        "]"
      ]
    },
    {
      "cell_type": "code",
      "execution_count": null,
      "metadata": {
        "id": "HwNvC_Hcs40Y"
      },
      "outputs": [],
      "source": [
        "west = ['California',\n",
        "'Colorado',\n",
        "'Nevada',\n",
        "'Hawaii',\n",
        "'Alaska',\n",
        "'Oregon',\n",
        "'Utah',\n",
        "'Idaho',\n",
        "'Montana',\n",
        "'Wyoming',\n",
        "'Washington'\n",
        "]"
      ]
    },
    {
      "cell_type": "code",
      "execution_count": null,
      "metadata": {
        "id": "mBAya1W4s43H"
      },
      "outputs": [],
      "source": [
        "noncontinental = ['U.S. Virgin Islands',\n",
        "'Puerto Rico'\n",
        "]"
      ]
    },
    {
      "cell_type": "code",
      "execution_count": null,
      "metadata": {
        "id": "gDJ4Bzuns49X"
      },
      "outputs": [],
      "source": [
        "# this code created a new column \"region\" and classifies each state to its corresponding region \n",
        "regions=pd.DataFrame([northeast,souteast,midwest,southwest,west,noncontinental],index=['northeast','souteast','midwest','southwest','west','noncontinental'])\n",
        "regions=regions.reset_index().melt('index')\n",
        "df['Region'] = df['DEST_STATE_NM'].map(dict(zip(regions['value'],regions['index'])))"
      ]
    },
    {
      "cell_type": "code",
      "execution_count": null,
      "metadata": {
        "id": "8Hk4Nj0QtIC9"
      },
      "outputs": [],
      "source": [
        "# drop more columns to make sure it does not overlap with delays. \n",
        "drop = ['DEP_TIME','DEP_DELAY_GROUP',  'DEST_STATE_NM', 'DEST', 'DEP_DELAY', 'DEP_TIME_BLK', 'LATE_AIRCRAFT_DELAY', 'CARRIER_DELAY', 'WEATHER_DELAY', 'SECURITY_DELAY', 'NAS_DELAY', 'DELAY_REASON', 'CRS_DEP_TIME']\n"
      ]
    },
    {
      "cell_type": "code",
      "execution_count": null,
      "metadata": {
        "colab": {
          "base_uri": "https://localhost:8080/"
        },
        "id": "G9IB06KJtR3Q",
        "outputId": "3d0b9a59-0109-4ea1-b0cb-d8f03d79cb0f"
      },
      "outputs": [
        {
          "name": "stderr",
          "output_type": "stream",
          "text": [
            "/usr/local/lib/python3.7/dist-packages/ipykernel_launcher.py:1: FutureWarning: In a future version of pandas all arguments of DataFrame.drop except for the argument 'labels' will be keyword-only\n",
            "  \"\"\"Entry point for launching an IPython kernel.\n"
          ]
        }
      ],
      "source": [
        "#create a new df without the dropped columns \n",
        "df_dropped = df.drop( drop , 1)\n"
      ]
    },
    {
      "cell_type": "code",
      "execution_count": null,
      "metadata": {
        "colab": {
          "base_uri": "https://localhost:8080/"
        },
        "id": "mu6ZMv-aup3n",
        "outputId": "172595a3-fd00-41d2-f0a6-bd8c93f90433"
      },
      "outputs": [
        {
          "data": {
            "text/plain": [
              "['YEAR',\n",
              " 'MONTH',\n",
              " 'DAY_OF_WEEK',\n",
              " 'BRANDED_CODE_SHARE',\n",
              " 'ORIGIN',\n",
              " 'CANCELLED',\n",
              " 'DIVERTED',\n",
              " 'DELAYED',\n",
              " 'DATE',\n",
              " 'COVID',\n",
              " 'Region']"
            ]
          },
          "execution_count": 36,
          "metadata": {},
          "output_type": "execute_result"
        }
      ],
      "source": [
        "# check the columns that are going to be used in our machine learning model \n",
        "df_dropped.columns.values.tolist()"
      ]
    },
    {
      "cell_type": "code",
      "execution_count": null,
      "metadata": {
        "id": "0yxKUXK_tIMj"
      },
      "outputs": [],
      "source": [
        "# use get_dummies for the brand column \n",
        "brand_df = pd.get_dummies(df_dropped, columns=[\"BRANDED_CODE_SHARE\"])\n"
      ]
    },
    {
      "cell_type": "code",
      "execution_count": null,
      "metadata": {
        "id": "VZ0kPCputIQO"
      },
      "outputs": [],
      "source": [
        "# use get_dummies for the origin column \n",
        "origin_df = pd.get_dummies(brand_df, columns=[\"ORIGIN\"])"
      ]
    },
    {
      "cell_type": "code",
      "execution_count": null,
      "metadata": {
        "id": "n6q_FraOtXHc"
      },
      "outputs": [],
      "source": [
        "# use get_dummies for the region column \n",
        "final_df = pd.get_dummies(origin_df, columns=[\"Region\"])"
      ]
    },
    {
      "cell_type": "code",
      "execution_count": null,
      "metadata": {
        "colab": {
          "base_uri": "https://localhost:8080/"
        },
        "id": "h9-6BigstaKM",
        "outputId": "4569f80c-edf5-4e2b-a3bd-5b5d9d676385"
      },
      "outputs": [
        {
          "name": "stderr",
          "output_type": "stream",
          "text": [
            "/usr/local/lib/python3.7/dist-packages/ipykernel_launcher.py:1: FutureWarning: In a future version of pandas all arguments of DataFrame.drop except for the argument 'labels' will be keyword-only\n",
            "  \"\"\"Entry point for launching an IPython kernel.\n"
          ]
        }
      ],
      "source": [
        "#final drop = date \n",
        "final_df =final_df.drop('DATE',1)"
      ]
    },
    {
      "cell_type": "code",
      "execution_count": null,
      "metadata": {
        "id": "gg-35ei0tarH"
      },
      "outputs": [],
      "source": []
    },
    {
      "cell_type": "markdown",
      "metadata": {
        "id": "0U5vnKfrsfjh"
      },
      "source": [
        "## Loading and Preprocessing Loans Encoded Data"
      ]
    },
    {
      "cell_type": "code",
      "execution_count": null,
      "metadata": {
        "colab": {
          "base_uri": "https://localhost:8080/",
          "height": 299
        },
        "id": "Ke0cS8Hwsfjj",
        "outputId": "06f8bb0e-e05f-4dee-e3d3-142e2ba06868"
      },
      "outputs": [
        {
          "data": {
            "text/html": [
              "\n",
              "  <div id=\"df-10fd385f-93ab-4b2c-8333-3e12ef96efa2\">\n",
              "    <div class=\"colab-df-container\">\n",
              "      <div>\n",
              "<style scoped>\n",
              "    .dataframe tbody tr th:only-of-type {\n",
              "        vertical-align: middle;\n",
              "    }\n",
              "\n",
              "    .dataframe tbody tr th {\n",
              "        vertical-align: top;\n",
              "    }\n",
              "\n",
              "    .dataframe thead th {\n",
              "        text-align: right;\n",
              "    }\n",
              "</style>\n",
              "<table border=\"1\" class=\"dataframe\">\n",
              "  <thead>\n",
              "    <tr style=\"text-align: right;\">\n",
              "      <th></th>\n",
              "      <th>YEAR</th>\n",
              "      <th>MONTH</th>\n",
              "      <th>DAY_OF_WEEK</th>\n",
              "      <th>CANCELLED</th>\n",
              "      <th>DIVERTED</th>\n",
              "      <th>COVID</th>\n",
              "      <th>BRANDED_CODE_SHARE_AA</th>\n",
              "      <th>BRANDED_CODE_SHARE_AS</th>\n",
              "      <th>BRANDED_CODE_SHARE_B6</th>\n",
              "      <th>BRANDED_CODE_SHARE_DL</th>\n",
              "      <th>...</th>\n",
              "      <th>BRANDED_CODE_SHARE_WN</th>\n",
              "      <th>ORIGIN_BWI</th>\n",
              "      <th>ORIGIN_DCA</th>\n",
              "      <th>ORIGIN_IAD</th>\n",
              "      <th>Region_midwest</th>\n",
              "      <th>Region_noncontinental</th>\n",
              "      <th>Region_northeast</th>\n",
              "      <th>Region_souteast</th>\n",
              "      <th>Region_southwest</th>\n",
              "      <th>Region_west</th>\n",
              "    </tr>\n",
              "  </thead>\n",
              "  <tbody>\n",
              "    <tr>\n",
              "      <th>0</th>\n",
              "      <td>2018</td>\n",
              "      <td>1</td>\n",
              "      <td>1</td>\n",
              "      <td>0.0</td>\n",
              "      <td>0.0</td>\n",
              "      <td>0.0</td>\n",
              "      <td>0</td>\n",
              "      <td>0</td>\n",
              "      <td>0</td>\n",
              "      <td>0</td>\n",
              "      <td>...</td>\n",
              "      <td>0</td>\n",
              "      <td>1</td>\n",
              "      <td>0</td>\n",
              "      <td>0</td>\n",
              "      <td>0</td>\n",
              "      <td>0</td>\n",
              "      <td>0</td>\n",
              "      <td>0</td>\n",
              "      <td>0</td>\n",
              "      <td>1</td>\n",
              "    </tr>\n",
              "    <tr>\n",
              "      <th>1</th>\n",
              "      <td>2018</td>\n",
              "      <td>1</td>\n",
              "      <td>1</td>\n",
              "      <td>0.0</td>\n",
              "      <td>0.0</td>\n",
              "      <td>0.0</td>\n",
              "      <td>0</td>\n",
              "      <td>0</td>\n",
              "      <td>0</td>\n",
              "      <td>0</td>\n",
              "      <td>...</td>\n",
              "      <td>0</td>\n",
              "      <td>1</td>\n",
              "      <td>0</td>\n",
              "      <td>0</td>\n",
              "      <td>1</td>\n",
              "      <td>0</td>\n",
              "      <td>0</td>\n",
              "      <td>0</td>\n",
              "      <td>0</td>\n",
              "      <td>0</td>\n",
              "    </tr>\n",
              "    <tr>\n",
              "      <th>2</th>\n",
              "      <td>2018</td>\n",
              "      <td>1</td>\n",
              "      <td>1</td>\n",
              "      <td>0.0</td>\n",
              "      <td>0.0</td>\n",
              "      <td>0.0</td>\n",
              "      <td>0</td>\n",
              "      <td>0</td>\n",
              "      <td>0</td>\n",
              "      <td>0</td>\n",
              "      <td>...</td>\n",
              "      <td>0</td>\n",
              "      <td>1</td>\n",
              "      <td>0</td>\n",
              "      <td>0</td>\n",
              "      <td>0</td>\n",
              "      <td>0</td>\n",
              "      <td>0</td>\n",
              "      <td>0</td>\n",
              "      <td>1</td>\n",
              "      <td>0</td>\n",
              "    </tr>\n",
              "    <tr>\n",
              "      <th>3</th>\n",
              "      <td>2018</td>\n",
              "      <td>1</td>\n",
              "      <td>1</td>\n",
              "      <td>0.0</td>\n",
              "      <td>0.0</td>\n",
              "      <td>0.0</td>\n",
              "      <td>0</td>\n",
              "      <td>0</td>\n",
              "      <td>0</td>\n",
              "      <td>0</td>\n",
              "      <td>...</td>\n",
              "      <td>0</td>\n",
              "      <td>1</td>\n",
              "      <td>0</td>\n",
              "      <td>0</td>\n",
              "      <td>0</td>\n",
              "      <td>0</td>\n",
              "      <td>0</td>\n",
              "      <td>0</td>\n",
              "      <td>1</td>\n",
              "      <td>0</td>\n",
              "    </tr>\n",
              "    <tr>\n",
              "      <th>4</th>\n",
              "      <td>2018</td>\n",
              "      <td>1</td>\n",
              "      <td>1</td>\n",
              "      <td>0.0</td>\n",
              "      <td>0.0</td>\n",
              "      <td>0.0</td>\n",
              "      <td>0</td>\n",
              "      <td>0</td>\n",
              "      <td>0</td>\n",
              "      <td>0</td>\n",
              "      <td>...</td>\n",
              "      <td>0</td>\n",
              "      <td>1</td>\n",
              "      <td>0</td>\n",
              "      <td>0</td>\n",
              "      <td>0</td>\n",
              "      <td>0</td>\n",
              "      <td>0</td>\n",
              "      <td>0</td>\n",
              "      <td>0</td>\n",
              "      <td>1</td>\n",
              "    </tr>\n",
              "  </tbody>\n",
              "</table>\n",
              "<p>5 rows × 25 columns</p>\n",
              "</div>\n",
              "      <button class=\"colab-df-convert\" onclick=\"convertToInteractive('df-10fd385f-93ab-4b2c-8333-3e12ef96efa2')\"\n",
              "              title=\"Convert this dataframe to an interactive table.\"\n",
              "              style=\"display:none;\">\n",
              "        \n",
              "  <svg xmlns=\"http://www.w3.org/2000/svg\" height=\"24px\"viewBox=\"0 0 24 24\"\n",
              "       width=\"24px\">\n",
              "    <path d=\"M0 0h24v24H0V0z\" fill=\"none\"/>\n",
              "    <path d=\"M18.56 5.44l.94 2.06.94-2.06 2.06-.94-2.06-.94-.94-2.06-.94 2.06-2.06.94zm-11 1L8.5 8.5l.94-2.06 2.06-.94-2.06-.94L8.5 2.5l-.94 2.06-2.06.94zm10 10l.94 2.06.94-2.06 2.06-.94-2.06-.94-.94-2.06-.94 2.06-2.06.94z\"/><path d=\"M17.41 7.96l-1.37-1.37c-.4-.4-.92-.59-1.43-.59-.52 0-1.04.2-1.43.59L10.3 9.45l-7.72 7.72c-.78.78-.78 2.05 0 2.83L4 21.41c.39.39.9.59 1.41.59.51 0 1.02-.2 1.41-.59l7.78-7.78 2.81-2.81c.8-.78.8-2.07 0-2.86zM5.41 20L4 18.59l7.72-7.72 1.47 1.35L5.41 20z\"/>\n",
              "  </svg>\n",
              "      </button>\n",
              "      \n",
              "  <style>\n",
              "    .colab-df-container {\n",
              "      display:flex;\n",
              "      flex-wrap:wrap;\n",
              "      gap: 12px;\n",
              "    }\n",
              "\n",
              "    .colab-df-convert {\n",
              "      background-color: #E8F0FE;\n",
              "      border: none;\n",
              "      border-radius: 50%;\n",
              "      cursor: pointer;\n",
              "      display: none;\n",
              "      fill: #1967D2;\n",
              "      height: 32px;\n",
              "      padding: 0 0 0 0;\n",
              "      width: 32px;\n",
              "    }\n",
              "\n",
              "    .colab-df-convert:hover {\n",
              "      background-color: #E2EBFA;\n",
              "      box-shadow: 0px 1px 2px rgba(60, 64, 67, 0.3), 0px 1px 3px 1px rgba(60, 64, 67, 0.15);\n",
              "      fill: #174EA6;\n",
              "    }\n",
              "\n",
              "    [theme=dark] .colab-df-convert {\n",
              "      background-color: #3B4455;\n",
              "      fill: #D2E3FC;\n",
              "    }\n",
              "\n",
              "    [theme=dark] .colab-df-convert:hover {\n",
              "      background-color: #434B5C;\n",
              "      box-shadow: 0px 1px 3px 1px rgba(0, 0, 0, 0.15);\n",
              "      filter: drop-shadow(0px 1px 2px rgba(0, 0, 0, 0.3));\n",
              "      fill: #FFFFFF;\n",
              "    }\n",
              "  </style>\n",
              "\n",
              "      <script>\n",
              "        const buttonEl =\n",
              "          document.querySelector('#df-10fd385f-93ab-4b2c-8333-3e12ef96efa2 button.colab-df-convert');\n",
              "        buttonEl.style.display =\n",
              "          google.colab.kernel.accessAllowed ? 'block' : 'none';\n",
              "\n",
              "        async function convertToInteractive(key) {\n",
              "          const element = document.querySelector('#df-10fd385f-93ab-4b2c-8333-3e12ef96efa2');\n",
              "          const dataTable =\n",
              "            await google.colab.kernel.invokeFunction('convertToInteractive',\n",
              "                                                     [key], {});\n",
              "          if (!dataTable) return;\n",
              "\n",
              "          const docLinkHtml = 'Like what you see? Visit the ' +\n",
              "            '<a target=\"_blank\" href=https://colab.research.google.com/notebooks/data_table.ipynb>data table notebook</a>'\n",
              "            + ' to learn more about interactive tables.';\n",
              "          element.innerHTML = '';\n",
              "          dataTable['output_type'] = 'display_data';\n",
              "          await google.colab.output.renderOutput(dataTable, element);\n",
              "          const docLink = document.createElement('div');\n",
              "          docLink.innerHTML = docLinkHtml;\n",
              "          element.appendChild(docLink);\n",
              "        }\n",
              "      </script>\n",
              "    </div>\n",
              "  </div>\n",
              "  "
            ],
            "text/plain": [
              "   YEAR  MONTH  DAY_OF_WEEK  CANCELLED  DIVERTED  COVID  \\\n",
              "0  2018      1            1        0.0       0.0    0.0   \n",
              "1  2018      1            1        0.0       0.0    0.0   \n",
              "2  2018      1            1        0.0       0.0    0.0   \n",
              "3  2018      1            1        0.0       0.0    0.0   \n",
              "4  2018      1            1        0.0       0.0    0.0   \n",
              "\n",
              "   BRANDED_CODE_SHARE_AA  BRANDED_CODE_SHARE_AS  BRANDED_CODE_SHARE_B6  \\\n",
              "0                      0                      0                      0   \n",
              "1                      0                      0                      0   \n",
              "2                      0                      0                      0   \n",
              "3                      0                      0                      0   \n",
              "4                      0                      0                      0   \n",
              "\n",
              "   BRANDED_CODE_SHARE_DL  ...  BRANDED_CODE_SHARE_WN  ORIGIN_BWI  ORIGIN_DCA  \\\n",
              "0                      0  ...                      0           1           0   \n",
              "1                      0  ...                      0           1           0   \n",
              "2                      0  ...                      0           1           0   \n",
              "3                      0  ...                      0           1           0   \n",
              "4                      0  ...                      0           1           0   \n",
              "\n",
              "   ORIGIN_IAD  Region_midwest  Region_noncontinental  Region_northeast  \\\n",
              "0           0               0                      0                 0   \n",
              "1           0               1                      0                 0   \n",
              "2           0               0                      0                 0   \n",
              "3           0               0                      0                 0   \n",
              "4           0               0                      0                 0   \n",
              "\n",
              "   Region_souteast  Region_southwest  Region_west  \n",
              "0                0                 0            1  \n",
              "1                0                 0            0  \n",
              "2                0                 1            0  \n",
              "3                0                 1            0  \n",
              "4                0                 0            1  \n",
              "\n",
              "[5 rows x 25 columns]"
            ]
          },
          "execution_count": 41,
          "metadata": {},
          "output_type": "execute_result"
        }
      ],
      "source": [
        "# Define features set\n",
        "X = final_df.drop(columns=[\"DELAYED\"])\n",
        "X.head()"
      ]
    },
    {
      "cell_type": "code",
      "execution_count": null,
      "metadata": {
        "colab": {
          "base_uri": "https://localhost:8080/"
        },
        "id": "owGPRdnXsfjj",
        "outputId": "a79a09f4-641b-44be-a9de-6e81de8df148"
      },
      "outputs": [
        {
          "data": {
            "text/plain": [
              "array([[0.],\n",
              "       [0.],\n",
              "       [0.],\n",
              "       [0.],\n",
              "       [0.]])"
            ]
          },
          "execution_count": 42,
          "metadata": {},
          "output_type": "execute_result"
        }
      ],
      "source": [
        "# Define target vector\n",
        "y = final_df[\"DELAYED\"].values.reshape(-1, 1)\n",
        "y[:5]"
      ]
    },
    {
      "cell_type": "code",
      "execution_count": null,
      "metadata": {
        "id": "kma8Rde6sfjk"
      },
      "outputs": [],
      "source": [
        "# Splitting into Train and Test sets\n",
        "X_train, X_test, y_train, y_test = train_test_split(X, y, random_state=1000)"
      ]
    },
    {
      "cell_type": "code",
      "execution_count": null,
      "metadata": {
        "colab": {
          "base_uri": "https://localhost:8080/"
        },
        "id": "unvS5HvXsfjk",
        "outputId": "7ace719f-3979-4106-c5d5-57a96970b0d8"
      },
      "outputs": [
        {
          "name": "stdout",
          "output_type": "stream",
          "text": [
            "(812203, 25)\n",
            "(270735, 25)\n",
            "(812203, 1)\n",
            "(270735, 1)\n"
          ]
        }
      ],
      "source": [
        "print(X_train.shape)\n",
        "print(X_test.shape)\n",
        "print(y_train.shape)\n",
        "print(y_test.shape)"
      ]
    },
    {
      "cell_type": "code",
      "execution_count": null,
      "metadata": {
        "id": "oB-SL8p6sfjl"
      },
      "outputs": [],
      "source": [
        "X_train2, X_test2, y_train2, y_test2 = train_test_split(X, y, random_state=1000, train_size=0.80)"
      ]
    },
    {
      "cell_type": "code",
      "execution_count": null,
      "metadata": {
        "colab": {
          "base_uri": "https://localhost:8080/"
        },
        "id": "7fhGLRVcsfjl",
        "outputId": "6c2ed295-6c44-497a-f8c0-1a98b955db9b"
      },
      "outputs": [
        {
          "name": "stdout",
          "output_type": "stream",
          "text": [
            "(866350, 25)\n",
            "(216588, 25)\n",
            "(866350, 1)\n",
            "(216588, 1)\n"
          ]
        }
      ],
      "source": [
        "print(X_train2.shape)\n",
        "print(X_test2.shape)\n",
        "print(y_train2.shape)\n",
        "print(y_test2.shape)"
      ]
    },
    {
      "cell_type": "code",
      "execution_count": null,
      "metadata": {
        "id": "nMTTS25Vsfjl"
      },
      "outputs": [],
      "source": [
        "# Creating StandardScaler instance\n",
        "scaler = StandardScaler()"
      ]
    },
    {
      "cell_type": "code",
      "execution_count": null,
      "metadata": {
        "id": "e8U7sbmcsfjm"
      },
      "outputs": [],
      "source": [
        "# Fitting Standard Scaller\n",
        "X_scaler = scaler.fit(X_train)"
      ]
    },
    {
      "cell_type": "code",
      "execution_count": null,
      "metadata": {
        "id": "NzvpnK9asfjm"
      },
      "outputs": [],
      "source": [
        "# Scaling data\n",
        "X_train_scaled = X_scaler.transform(X_train)\n",
        "X_test_scaled = X_scaler.transform(X_test)\n"
      ]
    },
    {
      "cell_type": "markdown",
      "metadata": {
        "id": "AdF-97owsfjm"
      },
      "source": [
        "## Fitting the Decision Tree Model"
      ]
    },
    {
      "cell_type": "code",
      "execution_count": null,
      "metadata": {
        "id": "fLaGLhSWsfjn"
      },
      "outputs": [],
      "source": [
        "# Creating the decision tree classifier instance\n",
        "model = tree.DecisionTreeClassifier()"
      ]
    },
    {
      "cell_type": "code",
      "execution_count": null,
      "metadata": {
        "id": "ENsa2XKTsfjn"
      },
      "outputs": [],
      "source": [
        "# Fitting the model\n",
        "model = model.fit(X_train_scaled, y_train)"
      ]
    },
    {
      "cell_type": "markdown",
      "metadata": {
        "id": "UnB_sb39sfjn"
      },
      "source": [
        "## Making Predictions Using the Tree Model"
      ]
    },
    {
      "cell_type": "code",
      "execution_count": null,
      "metadata": {
        "id": "BOxrwq1ksfjn"
      },
      "outputs": [],
      "source": [
        "# Making predictions using the testing data\n",
        "predictions = model.predict(X_test_scaled)"
      ]
    },
    {
      "cell_type": "markdown",
      "metadata": {
        "id": "6utLEMo5sfjn"
      },
      "source": [
        "## Model Evaluation"
      ]
    },
    {
      "cell_type": "code",
      "execution_count": null,
      "metadata": {
        "id": "Co54mPdasfjn"
      },
      "outputs": [],
      "source": [
        "# Calculating the confusion matrix\n",
        "cm = confusion_matrix(y_test, predictions)\n",
        "cm_df = pd.DataFrame(\n",
        "    cm, index=[\"Actual 0\", \"Actual 1\"], columns=[\"Predicted 0\", \"Predicted 1\"]\n",
        ")\n",
        "\n",
        "# Calculating the accuracy score\n",
        "acc_score = accuracy_score(y_test, predictions)"
      ]
    },
    {
      "cell_type": "code",
      "execution_count": null,
      "metadata": {
        "colab": {
          "base_uri": "https://localhost:8080/",
          "height": 320
        },
        "id": "YWtZQhZOsfjo",
        "outputId": "f356d753-9ffc-49f1-dad9-c5fceef54941"
      },
      "outputs": [
        {
          "name": "stdout",
          "output_type": "stream",
          "text": [
            "Confusion Matrix\n"
          ]
        },
        {
          "data": {
            "text/html": [
              "\n",
              "  <div id=\"df-c35f1931-03d9-43f5-9d1e-759a30aa9e38\">\n",
              "    <div class=\"colab-df-container\">\n",
              "      <div>\n",
              "<style scoped>\n",
              "    .dataframe tbody tr th:only-of-type {\n",
              "        vertical-align: middle;\n",
              "    }\n",
              "\n",
              "    .dataframe tbody tr th {\n",
              "        vertical-align: top;\n",
              "    }\n",
              "\n",
              "    .dataframe thead th {\n",
              "        text-align: right;\n",
              "    }\n",
              "</style>\n",
              "<table border=\"1\" class=\"dataframe\">\n",
              "  <thead>\n",
              "    <tr style=\"text-align: right;\">\n",
              "      <th></th>\n",
              "      <th>Predicted 0</th>\n",
              "      <th>Predicted 1</th>\n",
              "    </tr>\n",
              "  </thead>\n",
              "  <tbody>\n",
              "    <tr>\n",
              "      <th>Actual 0</th>\n",
              "      <td>220458</td>\n",
              "      <td>2035</td>\n",
              "    </tr>\n",
              "    <tr>\n",
              "      <th>Actual 1</th>\n",
              "      <td>46446</td>\n",
              "      <td>1796</td>\n",
              "    </tr>\n",
              "  </tbody>\n",
              "</table>\n",
              "</div>\n",
              "      <button class=\"colab-df-convert\" onclick=\"convertToInteractive('df-c35f1931-03d9-43f5-9d1e-759a30aa9e38')\"\n",
              "              title=\"Convert this dataframe to an interactive table.\"\n",
              "              style=\"display:none;\">\n",
              "        \n",
              "  <svg xmlns=\"http://www.w3.org/2000/svg\" height=\"24px\"viewBox=\"0 0 24 24\"\n",
              "       width=\"24px\">\n",
              "    <path d=\"M0 0h24v24H0V0z\" fill=\"none\"/>\n",
              "    <path d=\"M18.56 5.44l.94 2.06.94-2.06 2.06-.94-2.06-.94-.94-2.06-.94 2.06-2.06.94zm-11 1L8.5 8.5l.94-2.06 2.06-.94-2.06-.94L8.5 2.5l-.94 2.06-2.06.94zm10 10l.94 2.06.94-2.06 2.06-.94-2.06-.94-.94-2.06-.94 2.06-2.06.94z\"/><path d=\"M17.41 7.96l-1.37-1.37c-.4-.4-.92-.59-1.43-.59-.52 0-1.04.2-1.43.59L10.3 9.45l-7.72 7.72c-.78.78-.78 2.05 0 2.83L4 21.41c.39.39.9.59 1.41.59.51 0 1.02-.2 1.41-.59l7.78-7.78 2.81-2.81c.8-.78.8-2.07 0-2.86zM5.41 20L4 18.59l7.72-7.72 1.47 1.35L5.41 20z\"/>\n",
              "  </svg>\n",
              "      </button>\n",
              "      \n",
              "  <style>\n",
              "    .colab-df-container {\n",
              "      display:flex;\n",
              "      flex-wrap:wrap;\n",
              "      gap: 12px;\n",
              "    }\n",
              "\n",
              "    .colab-df-convert {\n",
              "      background-color: #E8F0FE;\n",
              "      border: none;\n",
              "      border-radius: 50%;\n",
              "      cursor: pointer;\n",
              "      display: none;\n",
              "      fill: #1967D2;\n",
              "      height: 32px;\n",
              "      padding: 0 0 0 0;\n",
              "      width: 32px;\n",
              "    }\n",
              "\n",
              "    .colab-df-convert:hover {\n",
              "      background-color: #E2EBFA;\n",
              "      box-shadow: 0px 1px 2px rgba(60, 64, 67, 0.3), 0px 1px 3px 1px rgba(60, 64, 67, 0.15);\n",
              "      fill: #174EA6;\n",
              "    }\n",
              "\n",
              "    [theme=dark] .colab-df-convert {\n",
              "      background-color: #3B4455;\n",
              "      fill: #D2E3FC;\n",
              "    }\n",
              "\n",
              "    [theme=dark] .colab-df-convert:hover {\n",
              "      background-color: #434B5C;\n",
              "      box-shadow: 0px 1px 3px 1px rgba(0, 0, 0, 0.15);\n",
              "      filter: drop-shadow(0px 1px 2px rgba(0, 0, 0, 0.3));\n",
              "      fill: #FFFFFF;\n",
              "    }\n",
              "  </style>\n",
              "\n",
              "      <script>\n",
              "        const buttonEl =\n",
              "          document.querySelector('#df-c35f1931-03d9-43f5-9d1e-759a30aa9e38 button.colab-df-convert');\n",
              "        buttonEl.style.display =\n",
              "          google.colab.kernel.accessAllowed ? 'block' : 'none';\n",
              "\n",
              "        async function convertToInteractive(key) {\n",
              "          const element = document.querySelector('#df-c35f1931-03d9-43f5-9d1e-759a30aa9e38');\n",
              "          const dataTable =\n",
              "            await google.colab.kernel.invokeFunction('convertToInteractive',\n",
              "                                                     [key], {});\n",
              "          if (!dataTable) return;\n",
              "\n",
              "          const docLinkHtml = 'Like what you see? Visit the ' +\n",
              "            '<a target=\"_blank\" href=https://colab.research.google.com/notebooks/data_table.ipynb>data table notebook</a>'\n",
              "            + ' to learn more about interactive tables.';\n",
              "          element.innerHTML = '';\n",
              "          dataTable['output_type'] = 'display_data';\n",
              "          await google.colab.output.renderOutput(dataTable, element);\n",
              "          const docLink = document.createElement('div');\n",
              "          docLink.innerHTML = docLinkHtml;\n",
              "          element.appendChild(docLink);\n",
              "        }\n",
              "      </script>\n",
              "    </div>\n",
              "  </div>\n",
              "  "
            ],
            "text/plain": [
              "          Predicted 0  Predicted 1\n",
              "Actual 0       220458         2035\n",
              "Actual 1        46446         1796"
            ]
          },
          "metadata": {},
          "output_type": "display_data"
        },
        {
          "name": "stdout",
          "output_type": "stream",
          "text": [
            "Accuracy Score : 0.8209282139361368\n",
            "Classification Report\n",
            "              precision    recall  f1-score   support\n",
            "\n",
            "         0.0       0.83      0.99      0.90    222493\n",
            "         1.0       0.47      0.04      0.07     48242\n",
            "\n",
            "    accuracy                           0.82    270735\n",
            "   macro avg       0.65      0.51      0.48    270735\n",
            "weighted avg       0.76      0.82      0.75    270735\n",
            "\n"
          ]
        }
      ],
      "source": [
        "# Displaying results\n",
        "print(\"Confusion Matrix\")\n",
        "display(cm_df)\n",
        "print(f\"Accuracy Score : {acc_score}\")\n",
        "print(\"Classification Report\")\n",
        "print(classification_report(y_test, predictions))\n"
      ]
    },
    {
      "cell_type": "code",
      "execution_count": null,
      "metadata": {
        "colab": {
          "base_uri": "https://localhost:8080/",
          "height": 699
        },
        "id": "cM_Vakg8XAzz",
        "outputId": "51872f42-6d85-446a-e0f5-47c349b55375"
      },
      "outputs": [
        {
          "name": "stdout",
          "output_type": "stream",
          "text": [
            "Feature: 0, Score: 0.21926\n",
            "Feature: 1, Score: 0.23409\n",
            "Feature: 2, Score: 0.16779\n",
            "Feature: 3, Score: 0.01064\n",
            "Feature: 4, Score: 0.01772\n",
            "Feature: 5, Score: 0.00077\n",
            "Feature: 6, Score: 0.01360\n",
            "Feature: 7, Score: 0.00504\n",
            "Feature: 8, Score: 0.01169\n",
            "Feature: 9, Score: 0.01312\n",
            "Feature: 10, Score: 0.00713\n",
            "Feature: 11, Score: 0.00337\n",
            "Feature: 12, Score: 0.00569\n",
            "Feature: 13, Score: 0.01678\n",
            "Feature: 14, Score: 0.00033\n",
            "Feature: 15, Score: 0.07344\n",
            "Feature: 16, Score: 0.04475\n",
            "Feature: 17, Score: 0.01994\n",
            "Feature: 18, Score: 0.02003\n",
            "Feature: 19, Score: 0.01760\n",
            "Feature: 20, Score: 0.01023\n",
            "Feature: 21, Score: 0.02868\n",
            "Feature: 22, Score: 0.02110\n",
            "Feature: 23, Score: 0.01697\n",
            "Feature: 24, Score: 0.02025\n"
          ]
        },
        {
          "data": {
            "image/png": "[encoded data removed]",
            "text/plain": [
              "<Figure size 432x288 with 1 Axes>"
            ]
          },
          "metadata": {
            "needs_background": "light"
          },
          "output_type": "display_data"
        }
      ],
      "source": [
        "importance = model.feature_importances_\n",
        "# summarize feature importance\n",
        "for i,v in enumerate(importance):\n",
        "\tprint('Feature: %0d, Score: %.5f' % (i,v))\n",
        "# plot feature importance\n",
        "plt.bar([x for x in range(len(importance))], importance)\n",
        "plt.show()"
      ]
    },
    {
      "cell_type": "code",
      "execution_count": null,
      "metadata": {
        "colab": {
          "base_uri": "https://localhost:8080/"
        },
        "id": "349mbK5qYXa2",
        "outputId": "000e682c-440c-4f3c-b3b4-d4c3b1441dd4"
      },
      "outputs": [
        {
          "data": {
            "text/plain": [
              "[(0.23408614210835998, 'MONTH'),\n",
              " (0.21925931088592177, 'YEAR'),\n",
              " (0.16778611514245087, 'DAY_OF_WEEK'),\n",
              " (0.07344355162323095, 'BRANDED_CODE_SHARE_WN'),\n",
              " (0.04474625605193565, 'ORIGIN_BWI'),\n",
              " (0.02867714619821161, 'Region_northeast'),\n",
              " (0.021098214547601118, 'Region_souteast'),\n",
              " (0.020245404806269837, 'Region_west'),\n",
              " (0.02003482498950289, 'ORIGIN_IAD'),\n",
              " (0.019935242949700657, 'ORIGIN_DCA'),\n",
              " (0.01772460029347583, 'DIVERTED'),\n",
              " (0.01759586184662524, 'Region_midwest'),\n",
              " (0.016971200748591504, 'Region_southwest'),\n",
              " (0.016783945436765233, 'BRANDED_CODE_SHARE_UA'),\n",
              " (0.013600506650879156, 'BRANDED_CODE_SHARE_AA'),\n",
              " (0.013121875567409198, 'BRANDED_CODE_SHARE_DL'),\n",
              " (0.011692915766516418, 'BRANDED_CODE_SHARE_B6'),\n",
              " (0.010635586828365252, 'CANCELLED'),\n",
              " (0.010234393165994336, 'Region_noncontinental'),\n",
              " (0.007125831225928814, 'BRANDED_CODE_SHARE_F9'),\n",
              " (0.005693030091309751, 'BRANDED_CODE_SHARE_NK'),\n",
              " (0.005038061339045735, 'BRANDED_CODE_SHARE_AS'),\n",
              " (0.003371145236167365, 'BRANDED_CODE_SHARE_G4'),\n",
              " (0.0007732652370221494, 'COVID'),\n",
              " (0.0003255712627186163, 'BRANDED_CODE_SHARE_VX')]"
            ]
          },
          "execution_count": 56,
          "metadata": {},
          "output_type": "execute_result"
        }
      ],
      "source": [
        "# We can sort the features by their importance.\n",
        "sorted(zip(model.feature_importances_, X.columns), reverse=True)"
      ]
    }
  ],
  "metadata": {
    "colab": {
      "collapsed_sections": [],
      "name": "decision-trees.ipynb",
      "provenance": []
    },
    "file_extension": ".py",
    "kernelspec": {
      "display_name": "mlenv",
      "language": "python",
      "name": "mlenv"
    },
    "language_info": {
      "codemirror_mode": {
        "name": "ipython",
        "version": 3
      },
      "file_extension": ".py",
      "mimetype": "text/x-python",
      "name": "python",
      "nbconvert_exporter": "python",
      "pygments_lexer": "ipython3",
      "version": "3.7.13"
    },
    "mimetype": "text/x-python",
    "name": "python",
    "npconvert_exporter": "python",
    "pygments_lexer": "ipython3",
    "version": 3
  },
  "nbformat": 4,
  "nbformat_minor": 0
}
