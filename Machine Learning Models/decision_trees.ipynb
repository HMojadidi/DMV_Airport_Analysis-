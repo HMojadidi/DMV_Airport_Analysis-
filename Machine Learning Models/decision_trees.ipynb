{
  "cells": [
    {
      "cell_type": "markdown",
      "metadata": {
        "id": "r01_XoiDsfjc"
      },
      "source": [
        "# Delayed Flights Decision Trees"
      ]
    },
    {
      "cell_type": "code",
      "execution_count": 1,
      "metadata": {
        "id": "17JMFy6bsfjg"
      },
      "outputs": [],
      "source": [
        "# Initial imports\n",
        "import pandas as pd\n",
        "from sklearn import tree\n",
        "from sklearn.preprocessing import StandardScaler\n",
        "import matplotlib.pyplot as plt\n",
        "from sklearn.model_selection import train_test_split\n",
        "from sklearn.metrics import confusion_matrix, accuracy_score, classification_report"
      ]
    },
    {
      "cell_type": "code",
      "execution_count": 2,
      "metadata": {
        "colab": {
          "base_uri": "https://localhost:8080/",
          "height": 386
        },
        "id": "7qjgehvps2I-",
        "outputId": "d0c105b5-0650-4bc4-c5ad-c791a7a5906b"
      },
      "outputs": [
        {
          "data": {
            "text/html": [
              "<div>\n",
              "<style scoped>\n",
              "    .dataframe tbody tr th:only-of-type {\n",
              "        vertical-align: middle;\n",
              "    }\n",
              "\n",
              "    .dataframe tbody tr th {\n",
              "        vertical-align: top;\n",
              "    }\n",
              "\n",
              "    .dataframe thead th {\n",
              "        text-align: right;\n",
              "    }\n",
              "</style>\n",
              "<table border=\"1\" class=\"dataframe\">\n",
              "  <thead>\n",
              "    <tr style=\"text-align: right;\">\n",
              "      <th></th>\n",
              "      <th>YEAR</th>\n",
              "      <th>MONTH</th>\n",
              "      <th>DAY_OF_WEEK</th>\n",
              "      <th>BRANDED_CODE_SHARE</th>\n",
              "      <th>ORIGIN</th>\n",
              "      <th>DEST</th>\n",
              "      <th>DEST_STATE_NM</th>\n",
              "      <th>CRS_DEP_TIME</th>\n",
              "      <th>DEP_TIME</th>\n",
              "      <th>DEP_DELAY</th>\n",
              "      <th>...</th>\n",
              "      <th>DIVERTED</th>\n",
              "      <th>CARRIER_DELAY</th>\n",
              "      <th>WEATHER_DELAY</th>\n",
              "      <th>NAS_DELAY</th>\n",
              "      <th>SECURITY_DELAY</th>\n",
              "      <th>LATE_AIRCRAFT_DELAY</th>\n",
              "      <th>DELAYED</th>\n",
              "      <th>DATE</th>\n",
              "      <th>COVID</th>\n",
              "      <th>DELAY_REASON</th>\n",
              "    </tr>\n",
              "  </thead>\n",
              "  <tbody>\n",
              "    <tr>\n",
              "      <th>0</th>\n",
              "      <td>2018</td>\n",
              "      <td>1</td>\n",
              "      <td>1</td>\n",
              "      <td>UA</td>\n",
              "      <td>BWI</td>\n",
              "      <td>DEN</td>\n",
              "      <td>Colorado</td>\n",
              "      <td>1608</td>\n",
              "      <td>1600.0</td>\n",
              "      <td>-8.0</td>\n",
              "      <td>...</td>\n",
              "      <td>0.0</td>\n",
              "      <td>0.0</td>\n",
              "      <td>0.0</td>\n",
              "      <td>0.0</td>\n",
              "      <td>0.0</td>\n",
              "      <td>0.0</td>\n",
              "      <td>0.0</td>\n",
              "      <td>2018-01-22</td>\n",
              "      <td>0.0</td>\n",
              "      <td>0.0</td>\n",
              "    </tr>\n",
              "    <tr>\n",
              "      <th>1</th>\n",
              "      <td>2018</td>\n",
              "      <td>1</td>\n",
              "      <td>1</td>\n",
              "      <td>UA</td>\n",
              "      <td>BWI</td>\n",
              "      <td>ORD</td>\n",
              "      <td>Illinois</td>\n",
              "      <td>1644</td>\n",
              "      <td>1637.0</td>\n",
              "      <td>-7.0</td>\n",
              "      <td>...</td>\n",
              "      <td>0.0</td>\n",
              "      <td>0.0</td>\n",
              "      <td>0.0</td>\n",
              "      <td>0.0</td>\n",
              "      <td>0.0</td>\n",
              "      <td>0.0</td>\n",
              "      <td>0.0</td>\n",
              "      <td>2018-01-22</td>\n",
              "      <td>0.0</td>\n",
              "      <td>0.0</td>\n",
              "    </tr>\n",
              "    <tr>\n",
              "      <th>2</th>\n",
              "      <td>2018</td>\n",
              "      <td>1</td>\n",
              "      <td>1</td>\n",
              "      <td>UA</td>\n",
              "      <td>BWI</td>\n",
              "      <td>IAH</td>\n",
              "      <td>Texas</td>\n",
              "      <td>1806</td>\n",
              "      <td>1800.0</td>\n",
              "      <td>-6.0</td>\n",
              "      <td>...</td>\n",
              "      <td>0.0</td>\n",
              "      <td>0.0</td>\n",
              "      <td>0.0</td>\n",
              "      <td>0.0</td>\n",
              "      <td>0.0</td>\n",
              "      <td>0.0</td>\n",
              "      <td>0.0</td>\n",
              "      <td>2018-01-22</td>\n",
              "      <td>0.0</td>\n",
              "      <td>0.0</td>\n",
              "    </tr>\n",
              "    <tr>\n",
              "      <th>3</th>\n",
              "      <td>2018</td>\n",
              "      <td>1</td>\n",
              "      <td>1</td>\n",
              "      <td>UA</td>\n",
              "      <td>BWI</td>\n",
              "      <td>IAH</td>\n",
              "      <td>Texas</td>\n",
              "      <td>828</td>\n",
              "      <td>828.0</td>\n",
              "      <td>0.0</td>\n",
              "      <td>...</td>\n",
              "      <td>0.0</td>\n",
              "      <td>0.0</td>\n",
              "      <td>0.0</td>\n",
              "      <td>0.0</td>\n",
              "      <td>0.0</td>\n",
              "      <td>0.0</td>\n",
              "      <td>0.0</td>\n",
              "      <td>2018-01-08</td>\n",
              "      <td>0.0</td>\n",
              "      <td>0.0</td>\n",
              "    </tr>\n",
              "    <tr>\n",
              "      <th>4</th>\n",
              "      <td>2018</td>\n",
              "      <td>1</td>\n",
              "      <td>1</td>\n",
              "      <td>UA</td>\n",
              "      <td>BWI</td>\n",
              "      <td>DEN</td>\n",
              "      <td>Colorado</td>\n",
              "      <td>810</td>\n",
              "      <td>802.0</td>\n",
              "      <td>-8.0</td>\n",
              "      <td>...</td>\n",
              "      <td>0.0</td>\n",
              "      <td>0.0</td>\n",
              "      <td>0.0</td>\n",
              "      <td>0.0</td>\n",
              "      <td>0.0</td>\n",
              "      <td>0.0</td>\n",
              "      <td>0.0</td>\n",
              "      <td>2018-01-08</td>\n",
              "      <td>0.0</td>\n",
              "      <td>0.0</td>\n",
              "    </tr>\n",
              "  </tbody>\n",
              "</table>\n",
              "<p>5 rows × 23 columns</p>\n",
              "</div>"
            ],
            "text/plain": [
              "   YEAR  MONTH  DAY_OF_WEEK BRANDED_CODE_SHARE ORIGIN DEST DEST_STATE_NM  \\\n",
              "0  2018      1            1                 UA    BWI  DEN      Colorado   \n",
              "1  2018      1            1                 UA    BWI  ORD      Illinois   \n",
              "2  2018      1            1                 UA    BWI  IAH         Texas   \n",
              "3  2018      1            1                 UA    BWI  IAH         Texas   \n",
              "4  2018      1            1                 UA    BWI  DEN      Colorado   \n",
              "\n",
              "   CRS_DEP_TIME  DEP_TIME  DEP_DELAY  ...  DIVERTED CARRIER_DELAY  \\\n",
              "0          1608    1600.0       -8.0  ...       0.0           0.0   \n",
              "1          1644    1637.0       -7.0  ...       0.0           0.0   \n",
              "2          1806    1800.0       -6.0  ...       0.0           0.0   \n",
              "3           828     828.0        0.0  ...       0.0           0.0   \n",
              "4           810     802.0       -8.0  ...       0.0           0.0   \n",
              "\n",
              "   WEATHER_DELAY  NAS_DELAY  SECURITY_DELAY  LATE_AIRCRAFT_DELAY  DELAYED  \\\n",
              "0            0.0        0.0             0.0                  0.0      0.0   \n",
              "1            0.0        0.0             0.0                  0.0      0.0   \n",
              "2            0.0        0.0             0.0                  0.0      0.0   \n",
              "3            0.0        0.0             0.0                  0.0      0.0   \n",
              "4            0.0        0.0             0.0                  0.0      0.0   \n",
              "\n",
              "         DATE  COVID  DELAY_REASON  \n",
              "0  2018-01-22    0.0           0.0  \n",
              "1  2018-01-22    0.0           0.0  \n",
              "2  2018-01-22    0.0           0.0  \n",
              "3  2018-01-08    0.0           0.0  \n",
              "4  2018-01-08    0.0           0.0  \n",
              "\n",
              "[5 rows x 23 columns]"
            ]
          },
          "execution_count": 2,
          "metadata": {},
          "output_type": "execute_result"
        }
      ],
      "source": [
        "# load data flight from amazon aws \n",
        "data = \"https://airport-efficiency.s3.amazonaws.com/Merged_cleaned_airport_data.csv\"\n",
        "df = pd.read_csv(data)\n",
        "df.head()"
      ]
    },
    {
      "cell_type": "code",
      "execution_count": 3,
      "metadata": {
        "id": "21G4vbVzs4Zt"
      },
      "outputs": [],
      "source": [
        "# merge \"codeshares\" to their corresponding airlines \n",
        "df.loc[(df.BRANDED_CODE_SHARE == \"UA_CODESHARE\"), \"BRANDED_CODE_SHARE\"] = \"UA\"\n",
        "df.loc[(df.BRANDED_CODE_SHARE == \"AA_CODESHARE\"), \"BRANDED_CODE_SHARE\"] = \"AA\"\n",
        "df.loc[(df.BRANDED_CODE_SHARE == \"DL_CODESHARE\"), \"BRANDED_CODE_SHARE\"] = \"DL\"\n",
        "df.loc[(df.BRANDED_CODE_SHARE == \"AS_CODESHARE\"), \"BRANDED_CODE_SHARE\"] = \"AS\"\n"
      ]
    },
    {
      "cell_type": "code",
      "execution_count": 4,
      "metadata": {
        "id": "e7s4Kajns4js"
      },
      "outputs": [],
      "source": [
        "#divide the states into five regions \n",
        "northeast = ['Massachusetts',\n",
        "'Rhode Island',\n",
        "'Connecticut',\n",
        "'Vermont',\n",
        "'New Hampshire',\n",
        "'Maine',\n",
        "'Pennsylvania',\n",
        "'New Jersey',\n",
        "'New York'\n",
        "]"
      ]
    },
    {
      "cell_type": "code",
      "execution_count": 5,
      "metadata": {
        "id": "MxPLt_QGs4rD"
      },
      "outputs": [],
      "source": [
        "souteast = ['Georgia',\n",
        "'North Carolina',\n",
        "'South Carolina',\n",
        "'Virginia',\n",
        "'West Virginia',\n",
        "'Kentucky',\n",
        "'Tennessee',\n",
        "'Mississippi',\n",
        "'Alabama',\n",
        "'Delaware',\n",
        "'Maryland',\n",
        "'Florida',\n",
        "'Louisiana',\n",
        "'Arkansas'\n",
        "]"
      ]
    },
    {
      "cell_type": "code",
      "execution_count": 6,
      "metadata": {
        "id": "KRHd0i9js4ul"
      },
      "outputs": [],
      "source": [
        "midwest = ['Minnesota',\n",
        "'Wisconsin',\n",
        "'Illinois',\n",
        "'Ohio',\n",
        "'Indiana',\n",
        "'Michigan',\n",
        "'Missouri',\n",
        "'Iowa',\n",
        "'Kansas',\n",
        "'Nebraska',\n",
        "'North Dakota',\n",
        "'South Dakota'\n",
        "]"
      ]
    },
    {
      "cell_type": "code",
      "execution_count": 7,
      "metadata": {
        "id": "Uj9Vv3jts4xa"
      },
      "outputs": [],
      "source": [
        "southwest = ['New Mexico',\n",
        "'Arizona',\n",
        "'Oklahoma',\n",
        "'Texas'\n",
        "]"
      ]
    },
    {
      "cell_type": "code",
      "execution_count": 8,
      "metadata": {
        "id": "HwNvC_Hcs40Y"
      },
      "outputs": [],
      "source": [
        "west = ['California',\n",
        "'Colorado',\n",
        "'Nevada',\n",
        "'Hawaii',\n",
        "'Alaska',\n",
        "'Oregon',\n",
        "'Utah',\n",
        "'Idaho',\n",
        "'Montana',\n",
        "'Wyoming',\n",
        "'Washington'\n",
        "]"
      ]
    },
    {
      "cell_type": "code",
      "execution_count": 9,
      "metadata": {
        "id": "mBAya1W4s43H"
      },
      "outputs": [],
      "source": [
        "noncontinental = ['U.S. Virgin Islands',\n",
        "'Puerto Rico'\n",
        "]"
      ]
    },
    {
      "cell_type": "code",
      "execution_count": 10,
      "metadata": {
        "id": "gDJ4Bzuns49X"
      },
      "outputs": [],
      "source": [
        "# this code created a new column \"region\" and classifies each state to its corresponding region \n",
        "regions=pd.DataFrame([northeast,souteast,midwest,southwest,west,noncontinental],index=['northeast','souteast','midwest','southwest','west','noncontinental'])\n",
        "regions=regions.reset_index().melt('index')\n",
        "df['Region'] = df['DEST_STATE_NM'].map(dict(zip(regions['value'],regions['index'])))"
      ]
    },
    {
      "cell_type": "code",
      "execution_count": 11,
      "metadata": {
        "id": "8Hk4Nj0QtIC9"
      },
      "outputs": [],
      "source": [
        "# drop more columns to make sure it does not overlap with delays. \n",
        "drop = ['DEP_TIME','DEP_DELAY_GROUP',  'DEST_STATE_NM', 'DEST', 'DEP_DELAY', 'DEP_TIME_BLK', 'LATE_AIRCRAFT_DELAY', 'CARRIER_DELAY', 'WEATHER_DELAY', 'SECURITY_DELAY', 'NAS_DELAY', 'DELAY_REASON', 'CRS_DEP_TIME']\n"
      ]
    },
    {
      "cell_type": "code",
      "execution_count": 12,
      "metadata": {
        "colab": {
          "base_uri": "https://localhost:8080/"
        },
        "id": "G9IB06KJtR3Q",
        "outputId": "3d0b9a59-0109-4ea1-b0cb-d8f03d79cb0f"
      },
      "outputs": [
        {
          "name": "stderr",
          "output_type": "stream",
          "text": [
            "c:\\Users\\nizar\\anaconda3\\envs\\mlenv\\lib\\site-packages\\ipykernel_launcher.py:2: FutureWarning: In a future version of pandas all arguments of DataFrame.drop except for the argument 'labels' will be keyword-only\n",
            "  \n"
          ]
        }
      ],
      "source": [
        "#create a new df without the dropped columns \n",
        "df_dropped = df.drop( drop , 1)\n"
      ]
    },
    {
      "cell_type": "code",
      "execution_count": 13,
      "metadata": {
        "colab": {
          "base_uri": "https://localhost:8080/"
        },
        "id": "mu6ZMv-aup3n",
        "outputId": "172595a3-fd00-41d2-f0a6-bd8c93f90433"
      },
      "outputs": [
        {
          "data": {
            "text/plain": [
              "['YEAR',\n",
              " 'MONTH',\n",
              " 'DAY_OF_WEEK',\n",
              " 'BRANDED_CODE_SHARE',\n",
              " 'ORIGIN',\n",
              " 'CANCELLED',\n",
              " 'DIVERTED',\n",
              " 'DELAYED',\n",
              " 'DATE',\n",
              " 'COVID',\n",
              " 'Region']"
            ]
          },
          "execution_count": 13,
          "metadata": {},
          "output_type": "execute_result"
        }
      ],
      "source": [
        "# check the columns that are going to be used in our machine learning model \n",
        "df_dropped.columns.values.tolist()"
      ]
    },
    {
      "cell_type": "code",
      "execution_count": 14,
      "metadata": {
        "id": "0yxKUXK_tIMj"
      },
      "outputs": [],
      "source": [
        "# use get_dummies for the brand column \n",
        "brand_df = pd.get_dummies(df_dropped, columns=[\"BRANDED_CODE_SHARE\"])\n"
      ]
    },
    {
      "cell_type": "code",
      "execution_count": 15,
      "metadata": {
        "id": "VZ0kPCputIQO"
      },
      "outputs": [],
      "source": [
        "# use get_dummies for the origin column \n",
        "origin_df = pd.get_dummies(brand_df, columns=[\"ORIGIN\"])"
      ]
    },
    {
      "cell_type": "code",
      "execution_count": 16,
      "metadata": {
        "id": "n6q_FraOtXHc"
      },
      "outputs": [],
      "source": [
        "# use get_dummies for the region column \n",
        "final_df = pd.get_dummies(origin_df, columns=[\"Region\"])"
      ]
    },
    {
      "cell_type": "code",
      "execution_count": 17,
      "metadata": {
        "colab": {
          "base_uri": "https://localhost:8080/"
        },
        "id": "h9-6BigstaKM",
        "outputId": "4569f80c-edf5-4e2b-a3bd-5b5d9d676385"
      },
      "outputs": [
        {
          "name": "stderr",
          "output_type": "stream",
          "text": [
            "c:\\Users\\nizar\\anaconda3\\envs\\mlenv\\lib\\site-packages\\ipykernel_launcher.py:2: FutureWarning: In a future version of pandas all arguments of DataFrame.drop except for the argument 'labels' will be keyword-only\n",
            "  \n"
          ]
        }
      ],
      "source": [
        "#final drop = date \n",
        "final_df =final_df.drop('DATE',1)"
      ]
    },
    {
      "cell_type": "code",
      "execution_count": null,
      "metadata": {
        "id": "gg-35ei0tarH"
      },
      "outputs": [],
      "source": []
    },
    {
      "cell_type": "markdown",
      "metadata": {
        "id": "0U5vnKfrsfjh"
      },
      "source": [
        "## Loading and Preprocessing Loans Encoded Data"
      ]
    },
    {
      "cell_type": "code",
      "execution_count": 18,
      "metadata": {
        "colab": {
          "base_uri": "https://localhost:8080/",
          "height": 299
        },
        "id": "Ke0cS8Hwsfjj",
        "outputId": "06f8bb0e-e05f-4dee-e3d3-142e2ba06868"
      },
      "outputs": [
        {
          "data": {
            "text/html": [
              "<div>\n",
              "<style scoped>\n",
              "    .dataframe tbody tr th:only-of-type {\n",
              "        vertical-align: middle;\n",
              "    }\n",
              "\n",
              "    .dataframe tbody tr th {\n",
              "        vertical-align: top;\n",
              "    }\n",
              "\n",
              "    .dataframe thead th {\n",
              "        text-align: right;\n",
              "    }\n",
              "</style>\n",
              "<table border=\"1\" class=\"dataframe\">\n",
              "  <thead>\n",
              "    <tr style=\"text-align: right;\">\n",
              "      <th></th>\n",
              "      <th>YEAR</th>\n",
              "      <th>MONTH</th>\n",
              "      <th>DAY_OF_WEEK</th>\n",
              "      <th>CANCELLED</th>\n",
              "      <th>DIVERTED</th>\n",
              "      <th>COVID</th>\n",
              "      <th>BRANDED_CODE_SHARE_AA</th>\n",
              "      <th>BRANDED_CODE_SHARE_AS</th>\n",
              "      <th>BRANDED_CODE_SHARE_B6</th>\n",
              "      <th>BRANDED_CODE_SHARE_DL</th>\n",
              "      <th>...</th>\n",
              "      <th>BRANDED_CODE_SHARE_WN</th>\n",
              "      <th>ORIGIN_BWI</th>\n",
              "      <th>ORIGIN_DCA</th>\n",
              "      <th>ORIGIN_IAD</th>\n",
              "      <th>Region_midwest</th>\n",
              "      <th>Region_noncontinental</th>\n",
              "      <th>Region_northeast</th>\n",
              "      <th>Region_souteast</th>\n",
              "      <th>Region_southwest</th>\n",
              "      <th>Region_west</th>\n",
              "    </tr>\n",
              "  </thead>\n",
              "  <tbody>\n",
              "    <tr>\n",
              "      <th>0</th>\n",
              "      <td>2018</td>\n",
              "      <td>1</td>\n",
              "      <td>1</td>\n",
              "      <td>0.0</td>\n",
              "      <td>0.0</td>\n",
              "      <td>0.0</td>\n",
              "      <td>0</td>\n",
              "      <td>0</td>\n",
              "      <td>0</td>\n",
              "      <td>0</td>\n",
              "      <td>...</td>\n",
              "      <td>0</td>\n",
              "      <td>1</td>\n",
              "      <td>0</td>\n",
              "      <td>0</td>\n",
              "      <td>0</td>\n",
              "      <td>0</td>\n",
              "      <td>0</td>\n",
              "      <td>0</td>\n",
              "      <td>0</td>\n",
              "      <td>1</td>\n",
              "    </tr>\n",
              "    <tr>\n",
              "      <th>1</th>\n",
              "      <td>2018</td>\n",
              "      <td>1</td>\n",
              "      <td>1</td>\n",
              "      <td>0.0</td>\n",
              "      <td>0.0</td>\n",
              "      <td>0.0</td>\n",
              "      <td>0</td>\n",
              "      <td>0</td>\n",
              "      <td>0</td>\n",
              "      <td>0</td>\n",
              "      <td>...</td>\n",
              "      <td>0</td>\n",
              "      <td>1</td>\n",
              "      <td>0</td>\n",
              "      <td>0</td>\n",
              "      <td>1</td>\n",
              "      <td>0</td>\n",
              "      <td>0</td>\n",
              "      <td>0</td>\n",
              "      <td>0</td>\n",
              "      <td>0</td>\n",
              "    </tr>\n",
              "    <tr>\n",
              "      <th>2</th>\n",
              "      <td>2018</td>\n",
              "      <td>1</td>\n",
              "      <td>1</td>\n",
              "      <td>0.0</td>\n",
              "      <td>0.0</td>\n",
              "      <td>0.0</td>\n",
              "      <td>0</td>\n",
              "      <td>0</td>\n",
              "      <td>0</td>\n",
              "      <td>0</td>\n",
              "      <td>...</td>\n",
              "      <td>0</td>\n",
              "      <td>1</td>\n",
              "      <td>0</td>\n",
              "      <td>0</td>\n",
              "      <td>0</td>\n",
              "      <td>0</td>\n",
              "      <td>0</td>\n",
              "      <td>0</td>\n",
              "      <td>1</td>\n",
              "      <td>0</td>\n",
              "    </tr>\n",
              "    <tr>\n",
              "      <th>3</th>\n",
              "      <td>2018</td>\n",
              "      <td>1</td>\n",
              "      <td>1</td>\n",
              "      <td>0.0</td>\n",
              "      <td>0.0</td>\n",
              "      <td>0.0</td>\n",
              "      <td>0</td>\n",
              "      <td>0</td>\n",
              "      <td>0</td>\n",
              "      <td>0</td>\n",
              "      <td>...</td>\n",
              "      <td>0</td>\n",
              "      <td>1</td>\n",
              "      <td>0</td>\n",
              "      <td>0</td>\n",
              "      <td>0</td>\n",
              "      <td>0</td>\n",
              "      <td>0</td>\n",
              "      <td>0</td>\n",
              "      <td>1</td>\n",
              "      <td>0</td>\n",
              "    </tr>\n",
              "    <tr>\n",
              "      <th>4</th>\n",
              "      <td>2018</td>\n",
              "      <td>1</td>\n",
              "      <td>1</td>\n",
              "      <td>0.0</td>\n",
              "      <td>0.0</td>\n",
              "      <td>0.0</td>\n",
              "      <td>0</td>\n",
              "      <td>0</td>\n",
              "      <td>0</td>\n",
              "      <td>0</td>\n",
              "      <td>...</td>\n",
              "      <td>0</td>\n",
              "      <td>1</td>\n",
              "      <td>0</td>\n",
              "      <td>0</td>\n",
              "      <td>0</td>\n",
              "      <td>0</td>\n",
              "      <td>0</td>\n",
              "      <td>0</td>\n",
              "      <td>0</td>\n",
              "      <td>1</td>\n",
              "    </tr>\n",
              "  </tbody>\n",
              "</table>\n",
              "<p>5 rows × 25 columns</p>\n",
              "</div>"
            ],
            "text/plain": [
              "   YEAR  MONTH  DAY_OF_WEEK  CANCELLED  DIVERTED  COVID  \\\n",
              "0  2018      1            1        0.0       0.0    0.0   \n",
              "1  2018      1            1        0.0       0.0    0.0   \n",
              "2  2018      1            1        0.0       0.0    0.0   \n",
              "3  2018      1            1        0.0       0.0    0.0   \n",
              "4  2018      1            1        0.0       0.0    0.0   \n",
              "\n",
              "   BRANDED_CODE_SHARE_AA  BRANDED_CODE_SHARE_AS  BRANDED_CODE_SHARE_B6  \\\n",
              "0                      0                      0                      0   \n",
              "1                      0                      0                      0   \n",
              "2                      0                      0                      0   \n",
              "3                      0                      0                      0   \n",
              "4                      0                      0                      0   \n",
              "\n",
              "   BRANDED_CODE_SHARE_DL  ...  BRANDED_CODE_SHARE_WN  ORIGIN_BWI  ORIGIN_DCA  \\\n",
              "0                      0  ...                      0           1           0   \n",
              "1                      0  ...                      0           1           0   \n",
              "2                      0  ...                      0           1           0   \n",
              "3                      0  ...                      0           1           0   \n",
              "4                      0  ...                      0           1           0   \n",
              "\n",
              "   ORIGIN_IAD  Region_midwest  Region_noncontinental  Region_northeast  \\\n",
              "0           0               0                      0                 0   \n",
              "1           0               1                      0                 0   \n",
              "2           0               0                      0                 0   \n",
              "3           0               0                      0                 0   \n",
              "4           0               0                      0                 0   \n",
              "\n",
              "   Region_souteast  Region_southwest  Region_west  \n",
              "0                0                 0            1  \n",
              "1                0                 0            0  \n",
              "2                0                 1            0  \n",
              "3                0                 1            0  \n",
              "4                0                 0            1  \n",
              "\n",
              "[5 rows x 25 columns]"
            ]
          },
          "execution_count": 18,
          "metadata": {},
          "output_type": "execute_result"
        }
      ],
      "source": [
        "# Define features set\n",
        "X = final_df.drop(columns=[\"DELAYED\"])\n",
        "X.head()"
      ]
    },
    {
      "cell_type": "code",
      "execution_count": 19,
      "metadata": {
        "colab": {
          "base_uri": "https://localhost:8080/"
        },
        "id": "owGPRdnXsfjj",
        "outputId": "a79a09f4-641b-44be-a9de-6e81de8df148"
      },
      "outputs": [
        {
          "data": {
            "text/plain": [
              "array([[0.],\n",
              "       [0.],\n",
              "       [0.],\n",
              "       [0.],\n",
              "       [0.]])"
            ]
          },
          "execution_count": 19,
          "metadata": {},
          "output_type": "execute_result"
        }
      ],
      "source": [
        "# Define target vector\n",
        "y = final_df[\"DELAYED\"].values.reshape(-1, 1)\n",
        "y[:5]"
      ]
    },
    {
      "cell_type": "code",
      "execution_count": 20,
      "metadata": {
        "id": "kma8Rde6sfjk"
      },
      "outputs": [],
      "source": [
        "# Splitting into Train and Test sets\n",
        "X_train, X_test, y_train, y_test = train_test_split(X, y, random_state=1000)"
      ]
    },
    {
      "cell_type": "code",
      "execution_count": 21,
      "metadata": {
        "colab": {
          "base_uri": "https://localhost:8080/"
        },
        "id": "unvS5HvXsfjk",
        "outputId": "7ace719f-3979-4106-c5d5-57a96970b0d8"
      },
      "outputs": [
        {
          "name": "stdout",
          "output_type": "stream",
          "text": [
            "(812203, 25)\n",
            "(270735, 25)\n",
            "(812203, 1)\n",
            "(270735, 1)\n"
          ]
        }
      ],
      "source": [
        "print(X_train.shape)\n",
        "print(X_test.shape)\n",
        "print(y_train.shape)\n",
        "print(y_test.shape)"
      ]
    },
    {
      "cell_type": "code",
      "execution_count": 22,
      "metadata": {
        "id": "oB-SL8p6sfjl"
      },
      "outputs": [],
      "source": [
        "X_train2, X_test2, y_train2, y_test2 = train_test_split(X, y, random_state=1000, train_size=0.80)"
      ]
    },
    {
      "cell_type": "code",
      "execution_count": 23,
      "metadata": {
        "colab": {
          "base_uri": "https://localhost:8080/"
        },
        "id": "7fhGLRVcsfjl",
        "outputId": "6c2ed295-6c44-497a-f8c0-1a98b955db9b"
      },
      "outputs": [
        {
          "name": "stdout",
          "output_type": "stream",
          "text": [
            "(866350, 25)\n",
            "(216588, 25)\n",
            "(866350, 1)\n",
            "(216588, 1)\n"
          ]
        }
      ],
      "source": [
        "print(X_train2.shape)\n",
        "print(X_test2.shape)\n",
        "print(y_train2.shape)\n",
        "print(y_test2.shape)"
      ]
    },
    {
      "cell_type": "code",
      "execution_count": 24,
      "metadata": {
        "id": "nMTTS25Vsfjl"
      },
      "outputs": [],
      "source": [
        "# Creating StandardScaler instance\n",
        "scaler = StandardScaler()"
      ]
    },
    {
      "cell_type": "code",
      "execution_count": 25,
      "metadata": {
        "id": "e8U7sbmcsfjm"
      },
      "outputs": [],
      "source": [
        "# Fitting Standard Scaller\n",
        "X_scaler = scaler.fit(X_train)"
      ]
    },
    {
      "cell_type": "code",
      "execution_count": 26,
      "metadata": {
        "id": "NzvpnK9asfjm"
      },
      "outputs": [],
      "source": [
        "# Scaling data\n",
        "X_train_scaled = X_scaler.transform(X_train)\n",
        "X_test_scaled = X_scaler.transform(X_test)\n"
      ]
    },
    {
      "cell_type": "markdown",
      "metadata": {
        "id": "AdF-97owsfjm"
      },
      "source": [
        "## Fitting the Decision Tree Model"
      ]
    },
    {
      "cell_type": "code",
      "execution_count": 27,
      "metadata": {
        "id": "fLaGLhSWsfjn"
      },
      "outputs": [],
      "source": [
        "# Creating the decision tree classifier instance\n",
        "model = tree.DecisionTreeClassifier( criterion ='entropy', random_state = 11)"
      ]
    },
    {
      "cell_type": "code",
      "execution_count": 28,
      "metadata": {
        "id": "ENsa2XKTsfjn"
      },
      "outputs": [],
      "source": [
        "# Fitting the model\n",
        "model = model.fit(X_train_scaled, y_train)"
      ]
    },
    {
      "cell_type": "markdown",
      "metadata": {
        "id": "UnB_sb39sfjn"
      },
      "source": [
        "## Making Predictions Using the Tree Model"
      ]
    },
    {
      "cell_type": "code",
      "execution_count": 29,
      "metadata": {
        "id": "BOxrwq1ksfjn"
      },
      "outputs": [],
      "source": [
        "# Making predictions using the testing data\n",
        "predictions = model.predict(X_test_scaled)"
      ]
    },
    {
      "cell_type": "markdown",
      "metadata": {
        "id": "6utLEMo5sfjn"
      },
      "source": [
        "## Model Evaluation"
      ]
    },
    {
      "cell_type": "code",
      "execution_count": 30,
      "metadata": {
        "id": "Co54mPdasfjn"
      },
      "outputs": [],
      "source": [
        "# Calculating the confusion matrix\n",
        "cm = confusion_matrix(y_test, predictions)\n",
        "cm_df = pd.DataFrame(\n",
        "    cm, index=[\"Actual 0\", \"Actual 1\"], columns=[\"Predicted 0\", \"Predicted 1\"]\n",
        ")\n",
        "\n",
        "# Calculating the accuracy score\n",
        "acc_score = accuracy_score(y_test, predictions)"
      ]
    },
    {
      "cell_type": "code",
      "execution_count": 31,
      "metadata": {
        "colab": {
          "base_uri": "https://localhost:8080/",
          "height": 320
        },
        "id": "YWtZQhZOsfjo",
        "outputId": "f356d753-9ffc-49f1-dad9-c5fceef54941"
      },
      "outputs": [
        {
          "name": "stdout",
          "output_type": "stream",
          "text": [
            "Confusion Matrix\n"
          ]
        },
        {
          "data": {
            "text/html": [
              "<div>\n",
              "<style scoped>\n",
              "    .dataframe tbody tr th:only-of-type {\n",
              "        vertical-align: middle;\n",
              "    }\n",
              "\n",
              "    .dataframe tbody tr th {\n",
              "        vertical-align: top;\n",
              "    }\n",
              "\n",
              "    .dataframe thead th {\n",
              "        text-align: right;\n",
              "    }\n",
              "</style>\n",
              "<table border=\"1\" class=\"dataframe\">\n",
              "  <thead>\n",
              "    <tr style=\"text-align: right;\">\n",
              "      <th></th>\n",
              "      <th>Predicted 0</th>\n",
              "      <th>Predicted 1</th>\n",
              "    </tr>\n",
              "  </thead>\n",
              "  <tbody>\n",
              "    <tr>\n",
              "      <th>Actual 0</th>\n",
              "      <td>220465</td>\n",
              "      <td>2028</td>\n",
              "    </tr>\n",
              "    <tr>\n",
              "      <th>Actual 1</th>\n",
              "      <td>46448</td>\n",
              "      <td>1794</td>\n",
              "    </tr>\n",
              "  </tbody>\n",
              "</table>\n",
              "</div>"
            ],
            "text/plain": [
              "          Predicted 0  Predicted 1\n",
              "Actual 0       220465         2028\n",
              "Actual 1        46448         1794"
            ]
          },
          "metadata": {},
          "output_type": "display_data"
        },
        {
          "name": "stdout",
          "output_type": "stream",
          "text": [
            "Accuracy Score : 0.8209466821799914\n",
            "Classification Report\n",
            "              precision    recall  f1-score   support\n",
            "\n",
            "         0.0       0.83      0.99      0.90    222493\n",
            "         1.0       0.47      0.04      0.07     48242\n",
            "\n",
            "    accuracy                           0.82    270735\n",
            "   macro avg       0.65      0.51      0.48    270735\n",
            "weighted avg       0.76      0.82      0.75    270735\n",
            "\n"
          ]
        }
      ],
      "source": [
        "# Displaying results\n",
        "print(\"Confusion Matrix\")\n",
        "display(cm_df)\n",
        "print(f\"Accuracy Score : {acc_score}\")\n",
        "print(\"Classification Report\")\n",
        "print(classification_report(y_test, predictions))\n"
      ]
    },
    {
      "cell_type": "code",
      "execution_count": 32,
      "metadata": {
        "colab": {
          "base_uri": "https://localhost:8080/",
          "height": 699
        },
        "id": "cM_Vakg8XAzz",
        "outputId": "51872f42-6d85-446a-e0f5-47c349b55375"
      },
      "outputs": [
        {
          "name": "stdout",
          "output_type": "stream",
          "text": [
            "Feature: 0, Score: 0.20399\n",
            "Feature: 1, Score: 0.24054\n",
            "Feature: 2, Score: 0.16652\n",
            "Feature: 3, Score: 0.00816\n",
            "Feature: 4, Score: 0.01668\n",
            "Feature: 5, Score: 0.00162\n",
            "Feature: 6, Score: 0.01449\n",
            "Feature: 7, Score: 0.00652\n",
            "Feature: 8, Score: 0.01179\n",
            "Feature: 9, Score: 0.01531\n",
            "Feature: 10, Score: 0.00770\n",
            "Feature: 11, Score: 0.00290\n",
            "Feature: 12, Score: 0.00642\n",
            "Feature: 13, Score: 0.01729\n",
            "Feature: 14, Score: 0.00046\n",
            "Feature: 15, Score: 0.06823\n",
            "Feature: 16, Score: 0.04145\n",
            "Feature: 17, Score: 0.02054\n",
            "Feature: 18, Score: 0.02251\n",
            "Feature: 19, Score: 0.02066\n",
            "Feature: 20, Score: 0.01102\n",
            "Feature: 21, Score: 0.02903\n",
            "Feature: 22, Score: 0.02390\n",
            "Feature: 23, Score: 0.01859\n",
            "Feature: 24, Score: 0.02365\n"
          ]
        },
        {
          "data": {
            "image/png": "[encoded data removed]",
            "text/plain": [
              "<Figure size 432x288 with 1 Axes>"
            ]
          },
          "metadata": {
            "needs_background": "light"
          },
          "output_type": "display_data"
        }
      ],
      "source": [
        "importance = model.feature_importances_\n",
        "# summarize feature importance\n",
        "for i,v in enumerate(importance):\n",
        "\tprint('Feature: %0d, Score: %.5f' % (i,v))\n",
        "# plot feature importance\n",
        "plt.bar([x for x in range(len(importance))], importance)\n",
        "plt.show()"
      ]
    },
    {
      "cell_type": "code",
      "execution_count": 33,
      "metadata": {
        "colab": {
          "base_uri": "https://localhost:8080/"
        },
        "id": "349mbK5qYXa2",
        "outputId": "000e682c-440c-4f3c-b3b4-d4c3b1441dd4"
      },
      "outputs": [
        {
          "data": {
            "text/plain": [
              "[(0.2405447938822903, 'MONTH'),\n",
              " (0.20399230623493017, 'YEAR'),\n",
              " (0.16652206426763214, 'DAY_OF_WEEK'),\n",
              " (0.06823003108007013, 'BRANDED_CODE_SHARE_WN'),\n",
              " (0.04145149586558629, 'ORIGIN_BWI'),\n",
              " (0.02902801741980431, 'Region_northeast'),\n",
              " (0.023898261041431182, 'Region_souteast'),\n",
              " (0.023650204236429304, 'Region_west'),\n",
              " (0.02250587292779506, 'ORIGIN_IAD'),\n",
              " (0.020664644545102025, 'Region_midwest'),\n",
              " (0.020544617616229086, 'ORIGIN_DCA'),\n",
              " (0.018589294224051197, 'Region_southwest'),\n",
              " (0.017288088131285875, 'BRANDED_CODE_SHARE_UA'),\n",
              " (0.016684420690492478, 'DIVERTED'),\n",
              " (0.015312485279188229, 'BRANDED_CODE_SHARE_DL'),\n",
              " (0.014487615057889605, 'BRANDED_CODE_SHARE_AA'),\n",
              " (0.011789561643889822, 'BRANDED_CODE_SHARE_B6'),\n",
              " (0.011022736482372123, 'Region_noncontinental'),\n",
              " (0.00816295778040594, 'CANCELLED'),\n",
              " (0.00770117942698424, 'BRANDED_CODE_SHARE_F9'),\n",
              " (0.006518492807286401, 'BRANDED_CODE_SHARE_AS'),\n",
              " (0.0064238468665825015, 'BRANDED_CODE_SHARE_NK'),\n",
              " (0.002904137166788792, 'BRANDED_CODE_SHARE_G4'),\n",
              " (0.0016239295757080022, 'COVID'),\n",
              " (0.0004589457497748068, 'BRANDED_CODE_SHARE_VX')]"
            ]
          },
          "execution_count": 33,
          "metadata": {},
          "output_type": "execute_result"
        }
      ],
      "source": [
        "# We can sort the features by their importance.\n",
        "sorted(zip(model.feature_importances_, X.columns), reverse=True)"
      ]
    }
  ],
  "metadata": {
    "colab": {
      "collapsed_sections": [],
      "name": "decision-trees.ipynb",
      "provenance": []
    },
    "file_extension": ".py",
    "kernelspec": {
      "display_name": "mlenv",
      "language": "python",
      "name": "mlenv"
    },
    "language_info": {
      "codemirror_mode": {
        "name": "ipython",
        "version": 3
      },
      "file_extension": ".py",
      "mimetype": "text/x-python",
      "name": "python",
      "nbconvert_exporter": "python",
      "pygments_lexer": "ipython3",
      "version": "3.7.13"
    },
    "mimetype": "text/x-python",
    "name": "python",
    "npconvert_exporter": "python",
    "pygments_lexer": "ipython3",
    "version": 3
  },
  "nbformat": 4,
  "nbformat_minor": 0
}
