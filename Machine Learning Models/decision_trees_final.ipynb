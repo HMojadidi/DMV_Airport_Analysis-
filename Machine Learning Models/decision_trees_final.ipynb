{
  "cells": [
    {
      "cell_type": "markdown",
      "metadata": {
        "id": "r01_XoiDsfjc"
      },
      "source": [
        "# Delayed Flights Decision Trees"
      ]
    },
    {
      "cell_type": "code",
      "execution_count": 47,
      "metadata": {
        "id": "17JMFy6bsfjg"
      },
      "outputs": [],
      "source": [
        "# Initial imports\n",
        "import pandas as pd\n",
        "from sklearn import tree\n",
        "from sklearn.preprocessing import StandardScaler\n",
        "import matplotlib.pyplot as plt\n",
        "from sklearn.model_selection import train_test_split\n",
        "from sklearn.metrics import confusion_matrix, classification_report,  accuracy_score, ConfusionMatrixDisplay\n",
        "import matplotlib.pyplot as plt"
      ]
    },
    {
      "cell_type": "code",
      "execution_count": 48,
      "metadata": {
        "colab": {
          "base_uri": "https://localhost:8080/",
          "height": 386
        },
        "id": "7qjgehvps2I-",
        "outputId": "d0c105b5-0650-4bc4-c5ad-c791a7a5906b"
      },
      "outputs": [
        {
          "data": {
            "text/html": [
              "<div>\n",
              "<style scoped>\n",
              "    .dataframe tbody tr th:only-of-type {\n",
              "        vertical-align: middle;\n",
              "    }\n",
              "\n",
              "    .dataframe tbody tr th {\n",
              "        vertical-align: top;\n",
              "    }\n",
              "\n",
              "    .dataframe thead th {\n",
              "        text-align: right;\n",
              "    }\n",
              "</style>\n",
              "<table border=\"1\" class=\"dataframe\">\n",
              "  <thead>\n",
              "    <tr style=\"text-align: right;\">\n",
              "      <th></th>\n",
              "      <th>YEAR</th>\n",
              "      <th>MONTH</th>\n",
              "      <th>DAY_OF_WEEK</th>\n",
              "      <th>BRANDED_CODE_SHARE</th>\n",
              "      <th>ORIGIN</th>\n",
              "      <th>DEST</th>\n",
              "      <th>DEST_STATE_NM</th>\n",
              "      <th>CRS_DEP_TIME</th>\n",
              "      <th>DEP_TIME</th>\n",
              "      <th>DEP_DELAY</th>\n",
              "      <th>...</th>\n",
              "      <th>DIVERTED</th>\n",
              "      <th>CARRIER_DELAY</th>\n",
              "      <th>WEATHER_DELAY</th>\n",
              "      <th>NAS_DELAY</th>\n",
              "      <th>SECURITY_DELAY</th>\n",
              "      <th>LATE_AIRCRAFT_DELAY</th>\n",
              "      <th>DELAYED</th>\n",
              "      <th>DATE</th>\n",
              "      <th>COVID</th>\n",
              "      <th>DELAY_REASON</th>\n",
              "    </tr>\n",
              "  </thead>\n",
              "  <tbody>\n",
              "    <tr>\n",
              "      <th>0</th>\n",
              "      <td>2018</td>\n",
              "      <td>1</td>\n",
              "      <td>1</td>\n",
              "      <td>UA</td>\n",
              "      <td>BWI</td>\n",
              "      <td>DEN</td>\n",
              "      <td>Colorado</td>\n",
              "      <td>1608</td>\n",
              "      <td>1600.0</td>\n",
              "      <td>-8.0</td>\n",
              "      <td>...</td>\n",
              "      <td>0.0</td>\n",
              "      <td>0.0</td>\n",
              "      <td>0.0</td>\n",
              "      <td>0.0</td>\n",
              "      <td>0.0</td>\n",
              "      <td>0.0</td>\n",
              "      <td>0.0</td>\n",
              "      <td>2018-01-22</td>\n",
              "      <td>0.0</td>\n",
              "      <td>0.0</td>\n",
              "    </tr>\n",
              "    <tr>\n",
              "      <th>1</th>\n",
              "      <td>2018</td>\n",
              "      <td>1</td>\n",
              "      <td>1</td>\n",
              "      <td>UA</td>\n",
              "      <td>BWI</td>\n",
              "      <td>ORD</td>\n",
              "      <td>Illinois</td>\n",
              "      <td>1644</td>\n",
              "      <td>1637.0</td>\n",
              "      <td>-7.0</td>\n",
              "      <td>...</td>\n",
              "      <td>0.0</td>\n",
              "      <td>0.0</td>\n",
              "      <td>0.0</td>\n",
              "      <td>0.0</td>\n",
              "      <td>0.0</td>\n",
              "      <td>0.0</td>\n",
              "      <td>0.0</td>\n",
              "      <td>2018-01-22</td>\n",
              "      <td>0.0</td>\n",
              "      <td>0.0</td>\n",
              "    </tr>\n",
              "    <tr>\n",
              "      <th>2</th>\n",
              "      <td>2018</td>\n",
              "      <td>1</td>\n",
              "      <td>1</td>\n",
              "      <td>UA</td>\n",
              "      <td>BWI</td>\n",
              "      <td>IAH</td>\n",
              "      <td>Texas</td>\n",
              "      <td>1806</td>\n",
              "      <td>1800.0</td>\n",
              "      <td>-6.0</td>\n",
              "      <td>...</td>\n",
              "      <td>0.0</td>\n",
              "      <td>0.0</td>\n",
              "      <td>0.0</td>\n",
              "      <td>0.0</td>\n",
              "      <td>0.0</td>\n",
              "      <td>0.0</td>\n",
              "      <td>0.0</td>\n",
              "      <td>2018-01-22</td>\n",
              "      <td>0.0</td>\n",
              "      <td>0.0</td>\n",
              "    </tr>\n",
              "    <tr>\n",
              "      <th>3</th>\n",
              "      <td>2018</td>\n",
              "      <td>1</td>\n",
              "      <td>1</td>\n",
              "      <td>UA</td>\n",
              "      <td>BWI</td>\n",
              "      <td>IAH</td>\n",
              "      <td>Texas</td>\n",
              "      <td>828</td>\n",
              "      <td>828.0</td>\n",
              "      <td>0.0</td>\n",
              "      <td>...</td>\n",
              "      <td>0.0</td>\n",
              "      <td>0.0</td>\n",
              "      <td>0.0</td>\n",
              "      <td>0.0</td>\n",
              "      <td>0.0</td>\n",
              "      <td>0.0</td>\n",
              "      <td>0.0</td>\n",
              "      <td>2018-01-08</td>\n",
              "      <td>0.0</td>\n",
              "      <td>0.0</td>\n",
              "    </tr>\n",
              "    <tr>\n",
              "      <th>4</th>\n",
              "      <td>2018</td>\n",
              "      <td>1</td>\n",
              "      <td>1</td>\n",
              "      <td>UA</td>\n",
              "      <td>BWI</td>\n",
              "      <td>DEN</td>\n",
              "      <td>Colorado</td>\n",
              "      <td>810</td>\n",
              "      <td>802.0</td>\n",
              "      <td>-8.0</td>\n",
              "      <td>...</td>\n",
              "      <td>0.0</td>\n",
              "      <td>0.0</td>\n",
              "      <td>0.0</td>\n",
              "      <td>0.0</td>\n",
              "      <td>0.0</td>\n",
              "      <td>0.0</td>\n",
              "      <td>0.0</td>\n",
              "      <td>2018-01-08</td>\n",
              "      <td>0.0</td>\n",
              "      <td>0.0</td>\n",
              "    </tr>\n",
              "  </tbody>\n",
              "</table>\n",
              "<p>5 rows × 23 columns</p>\n",
              "</div>"
            ],
            "text/plain": [
              "   YEAR  MONTH  DAY_OF_WEEK BRANDED_CODE_SHARE ORIGIN DEST DEST_STATE_NM  \\\n",
              "0  2018      1            1                 UA    BWI  DEN      Colorado   \n",
              "1  2018      1            1                 UA    BWI  ORD      Illinois   \n",
              "2  2018      1            1                 UA    BWI  IAH         Texas   \n",
              "3  2018      1            1                 UA    BWI  IAH         Texas   \n",
              "4  2018      1            1                 UA    BWI  DEN      Colorado   \n",
              "\n",
              "   CRS_DEP_TIME  DEP_TIME  DEP_DELAY  ...  DIVERTED CARRIER_DELAY  \\\n",
              "0          1608    1600.0       -8.0  ...       0.0           0.0   \n",
              "1          1644    1637.0       -7.0  ...       0.0           0.0   \n",
              "2          1806    1800.0       -6.0  ...       0.0           0.0   \n",
              "3           828     828.0        0.0  ...       0.0           0.0   \n",
              "4           810     802.0       -8.0  ...       0.0           0.0   \n",
              "\n",
              "   WEATHER_DELAY  NAS_DELAY  SECURITY_DELAY  LATE_AIRCRAFT_DELAY  DELAYED  \\\n",
              "0            0.0        0.0             0.0                  0.0      0.0   \n",
              "1            0.0        0.0             0.0                  0.0      0.0   \n",
              "2            0.0        0.0             0.0                  0.0      0.0   \n",
              "3            0.0        0.0             0.0                  0.0      0.0   \n",
              "4            0.0        0.0             0.0                  0.0      0.0   \n",
              "\n",
              "         DATE  COVID  DELAY_REASON  \n",
              "0  2018-01-22    0.0           0.0  \n",
              "1  2018-01-22    0.0           0.0  \n",
              "2  2018-01-22    0.0           0.0  \n",
              "3  2018-01-08    0.0           0.0  \n",
              "4  2018-01-08    0.0           0.0  \n",
              "\n",
              "[5 rows x 23 columns]"
            ]
          },
          "execution_count": 48,
          "metadata": {},
          "output_type": "execute_result"
        }
      ],
      "source": [
        "# load data flight from amazon aws \n",
        "data = \"https://airport-efficiency.s3.amazonaws.com/Merged_cleaned_airport_data.csv\"\n",
        "df = pd.read_csv(data)\n",
        "df.head()"
      ]
    },
    {
      "cell_type": "code",
      "execution_count": 49,
      "metadata": {
        "id": "21G4vbVzs4Zt"
      },
      "outputs": [],
      "source": [
        "# merge \"codeshares\" to their corresponding airlines \n",
        "df.loc[(df.BRANDED_CODE_SHARE == \"UA_CODESHARE\"), \"BRANDED_CODE_SHARE\"] = \"UA\"\n",
        "df.loc[(df.BRANDED_CODE_SHARE == \"AA_CODESHARE\"), \"BRANDED_CODE_SHARE\"] = \"AA\"\n",
        "df.loc[(df.BRANDED_CODE_SHARE == \"DL_CODESHARE\"), \"BRANDED_CODE_SHARE\"] = \"DL\"\n",
        "df.loc[(df.BRANDED_CODE_SHARE == \"AS_CODESHARE\"), \"BRANDED_CODE_SHARE\"] = \"AS\"\n"
      ]
    },
    {
      "cell_type": "code",
      "execution_count": 50,
      "metadata": {
        "id": "e7s4Kajns4js"
      },
      "outputs": [],
      "source": [
        "#divide the states into five regions \n",
        "northeast = ['Massachusetts',\n",
        "'Rhode Island',\n",
        "'Connecticut',\n",
        "'Vermont',\n",
        "'New Hampshire',\n",
        "'Maine',\n",
        "'Pennsylvania',\n",
        "'New Jersey',\n",
        "'New York'\n",
        "]\n",
        "\n",
        "souteast = ['Georgia',\n",
        "'North Carolina',\n",
        "'South Carolina',\n",
        "'Virginia',\n",
        "'West Virginia',\n",
        "'Kentucky',\n",
        "'Tennessee',\n",
        "'Mississippi',\n",
        "'Alabama',\n",
        "'Delaware',\n",
        "'Maryland',\n",
        "'Florida',\n",
        "'Louisiana',\n",
        "'Arkansas'\n",
        "]\n",
        "\n",
        "midwest = ['Minnesota',\n",
        "'Wisconsin',\n",
        "'Illinois',\n",
        "'Ohio',\n",
        "'Indiana',\n",
        "'Michigan',\n",
        "'Missouri',\n",
        "'Iowa',\n",
        "'Kansas',\n",
        "'Nebraska',\n",
        "'North Dakota',\n",
        "'South Dakota'\n",
        "]\n",
        "\n",
        "southwest = ['New Mexico',\n",
        "'Arizona',\n",
        "'Oklahoma',\n",
        "'Texas'\n",
        "]\n",
        "\n",
        "west = ['California',\n",
        "'Colorado',\n",
        "'Nevada',\n",
        "'Hawaii',\n",
        "'Alaska',\n",
        "'Oregon',\n",
        "'Utah',\n",
        "'Idaho',\n",
        "'Montana',\n",
        "'Wyoming',\n",
        "'Washington'\n",
        "]\n",
        "\n",
        "noncontinental = ['U.S. Virgin Islands',\n",
        "'Puerto Rico'\n",
        "]"
      ]
    },
    {
      "cell_type": "code",
      "execution_count": 51,
      "metadata": {
        "id": "gDJ4Bzuns49X"
      },
      "outputs": [],
      "source": [
        "# this code created a new column \"region\" and classifies each state to its corresponding region \n",
        "regions=pd.DataFrame([northeast,souteast,midwest,southwest,west,noncontinental],index=['northeast','souteast','midwest','southwest','west','noncontinental'])\n",
        "regions=regions.reset_index().melt('index')\n",
        "df['Region'] = df['DEST_STATE_NM'].map(dict(zip(regions['value'],regions['index'])))"
      ]
    },
    {
      "cell_type": "code",
      "execution_count": 52,
      "metadata": {
        "id": "8Hk4Nj0QtIC9"
      },
      "outputs": [
        {
          "name": "stderr",
          "output_type": "stream",
          "text": [
            "c:\\Users\\nizar\\anaconda3\\envs\\mlenv\\lib\\site-packages\\ipykernel_launcher.py:3: FutureWarning: In a future version of pandas all arguments of DataFrame.drop except for the argument 'labels' will be keyword-only\n",
            "  This is separate from the ipykernel package so we can avoid doing imports until\n"
          ]
        }
      ],
      "source": [
        "# drop more columns to make sure it does not overlap with delays. \n",
        "drop = ['DEP_TIME','DEP_DELAY_GROUP',  'DEST_STATE_NM', 'DEST', 'DEP_DELAY', 'LATE_AIRCRAFT_DELAY', 'CARRIER_DELAY', 'WEATHER_DELAY', 'SECURITY_DELAY', 'NAS_DELAY', 'DELAY_REASON', 'CRS_DEP_TIME']\n",
        "df_dropped = df.drop( drop , 1)"
      ]
    },
    {
      "cell_type": "code",
      "execution_count": 53,
      "metadata": {
        "colab": {
          "base_uri": "https://localhost:8080/"
        },
        "id": "mu6ZMv-aup3n",
        "outputId": "172595a3-fd00-41d2-f0a6-bd8c93f90433"
      },
      "outputs": [
        {
          "data": {
            "text/plain": [
              "['YEAR',\n",
              " 'MONTH',\n",
              " 'DAY_OF_WEEK',\n",
              " 'BRANDED_CODE_SHARE',\n",
              " 'ORIGIN',\n",
              " 'DEP_TIME_BLK',\n",
              " 'CANCELLED',\n",
              " 'DIVERTED',\n",
              " 'DELAYED',\n",
              " 'DATE',\n",
              " 'COVID',\n",
              " 'Region']"
            ]
          },
          "execution_count": 53,
          "metadata": {},
          "output_type": "execute_result"
        }
      ],
      "source": [
        "# check the columns that are going to be used in our machine learning model \n",
        "df_dropped.columns.values.tolist()"
      ]
    },
    {
      "cell_type": "markdown",
      "metadata": {},
      "source": [
        "# Encode Columns \n",
        "using get_dummies"
      ]
    },
    {
      "cell_type": "code",
      "execution_count": 54,
      "metadata": {
        "id": "gg-35ei0tarH"
      },
      "outputs": [
        {
          "name": "stderr",
          "output_type": "stream",
          "text": [
            "c:\\Users\\nizar\\anaconda3\\envs\\mlenv\\lib\\site-packages\\ipykernel_launcher.py:7: FutureWarning: In a future version of pandas all arguments of DataFrame.drop except for the argument 'labels' will be keyword-only\n",
            "  import sys\n"
          ]
        }
      ],
      "source": [
        "brand_df = pd.get_dummies(df_dropped, columns=[\"BRANDED_CODE_SHARE\"])\n",
        "origin_df = pd.get_dummies(brand_df, columns=[\"ORIGIN\"])\n",
        "region_df = pd.get_dummies(origin_df, columns=[\"Region\"])\n",
        "final_df = pd.get_dummies(region_df, columns=[\"DEP_TIME_BLK\"])\n",
        "final_df['DATE'] = pd.to_datetime(final_df['DATE'], format='%Y-%m-%d')\n",
        "final_df['DAY_OF_MONTH'] = final_df.DATE.dt.day\n",
        "final_df = final_df.drop('DATE', 1)"
      ]
    },
    {
      "cell_type": "markdown",
      "metadata": {
        "id": "0U5vnKfrsfjh"
      },
      "source": [
        "## Loading and Preprocessing Loans Encoded Data"
      ]
    },
    {
      "cell_type": "code",
      "execution_count": 55,
      "metadata": {
        "colab": {
          "base_uri": "https://localhost:8080/",
          "height": 299
        },
        "id": "Ke0cS8Hwsfjj",
        "outputId": "06f8bb0e-e05f-4dee-e3d3-142e2ba06868"
      },
      "outputs": [
        {
          "data": {
            "text/html": [
              "<div>\n",
              "<style scoped>\n",
              "    .dataframe tbody tr th:only-of-type {\n",
              "        vertical-align: middle;\n",
              "    }\n",
              "\n",
              "    .dataframe tbody tr th {\n",
              "        vertical-align: top;\n",
              "    }\n",
              "\n",
              "    .dataframe thead th {\n",
              "        text-align: right;\n",
              "    }\n",
              "</style>\n",
              "<table border=\"1\" class=\"dataframe\">\n",
              "  <thead>\n",
              "    <tr style=\"text-align: right;\">\n",
              "      <th></th>\n",
              "      <th>YEAR</th>\n",
              "      <th>MONTH</th>\n",
              "      <th>DAY_OF_WEEK</th>\n",
              "      <th>CANCELLED</th>\n",
              "      <th>DIVERTED</th>\n",
              "      <th>COVID</th>\n",
              "      <th>BRANDED_CODE_SHARE_AA</th>\n",
              "      <th>BRANDED_CODE_SHARE_AS</th>\n",
              "      <th>BRANDED_CODE_SHARE_B6</th>\n",
              "      <th>BRANDED_CODE_SHARE_DL</th>\n",
              "      <th>...</th>\n",
              "      <th>DEP_TIME_BLK_1500-1559</th>\n",
              "      <th>DEP_TIME_BLK_1600-1659</th>\n",
              "      <th>DEP_TIME_BLK_1700-1759</th>\n",
              "      <th>DEP_TIME_BLK_1800-1859</th>\n",
              "      <th>DEP_TIME_BLK_1900-1959</th>\n",
              "      <th>DEP_TIME_BLK_2000-2059</th>\n",
              "      <th>DEP_TIME_BLK_2100-2159</th>\n",
              "      <th>DEP_TIME_BLK_2200-2259</th>\n",
              "      <th>DEP_TIME_BLK_2300-2359</th>\n",
              "      <th>DAY_OF_MONTH</th>\n",
              "    </tr>\n",
              "  </thead>\n",
              "  <tbody>\n",
              "    <tr>\n",
              "      <th>0</th>\n",
              "      <td>2018</td>\n",
              "      <td>1</td>\n",
              "      <td>1</td>\n",
              "      <td>0.0</td>\n",
              "      <td>0.0</td>\n",
              "      <td>0.0</td>\n",
              "      <td>0</td>\n",
              "      <td>0</td>\n",
              "      <td>0</td>\n",
              "      <td>0</td>\n",
              "      <td>...</td>\n",
              "      <td>0</td>\n",
              "      <td>1</td>\n",
              "      <td>0</td>\n",
              "      <td>0</td>\n",
              "      <td>0</td>\n",
              "      <td>0</td>\n",
              "      <td>0</td>\n",
              "      <td>0</td>\n",
              "      <td>0</td>\n",
              "      <td>22</td>\n",
              "    </tr>\n",
              "    <tr>\n",
              "      <th>1</th>\n",
              "      <td>2018</td>\n",
              "      <td>1</td>\n",
              "      <td>1</td>\n",
              "      <td>0.0</td>\n",
              "      <td>0.0</td>\n",
              "      <td>0.0</td>\n",
              "      <td>0</td>\n",
              "      <td>0</td>\n",
              "      <td>0</td>\n",
              "      <td>0</td>\n",
              "      <td>...</td>\n",
              "      <td>0</td>\n",
              "      <td>1</td>\n",
              "      <td>0</td>\n",
              "      <td>0</td>\n",
              "      <td>0</td>\n",
              "      <td>0</td>\n",
              "      <td>0</td>\n",
              "      <td>0</td>\n",
              "      <td>0</td>\n",
              "      <td>22</td>\n",
              "    </tr>\n",
              "    <tr>\n",
              "      <th>2</th>\n",
              "      <td>2018</td>\n",
              "      <td>1</td>\n",
              "      <td>1</td>\n",
              "      <td>0.0</td>\n",
              "      <td>0.0</td>\n",
              "      <td>0.0</td>\n",
              "      <td>0</td>\n",
              "      <td>0</td>\n",
              "      <td>0</td>\n",
              "      <td>0</td>\n",
              "      <td>...</td>\n",
              "      <td>0</td>\n",
              "      <td>0</td>\n",
              "      <td>0</td>\n",
              "      <td>1</td>\n",
              "      <td>0</td>\n",
              "      <td>0</td>\n",
              "      <td>0</td>\n",
              "      <td>0</td>\n",
              "      <td>0</td>\n",
              "      <td>22</td>\n",
              "    </tr>\n",
              "    <tr>\n",
              "      <th>3</th>\n",
              "      <td>2018</td>\n",
              "      <td>1</td>\n",
              "      <td>1</td>\n",
              "      <td>0.0</td>\n",
              "      <td>0.0</td>\n",
              "      <td>0.0</td>\n",
              "      <td>0</td>\n",
              "      <td>0</td>\n",
              "      <td>0</td>\n",
              "      <td>0</td>\n",
              "      <td>...</td>\n",
              "      <td>0</td>\n",
              "      <td>0</td>\n",
              "      <td>0</td>\n",
              "      <td>0</td>\n",
              "      <td>0</td>\n",
              "      <td>0</td>\n",
              "      <td>0</td>\n",
              "      <td>0</td>\n",
              "      <td>0</td>\n",
              "      <td>8</td>\n",
              "    </tr>\n",
              "    <tr>\n",
              "      <th>4</th>\n",
              "      <td>2018</td>\n",
              "      <td>1</td>\n",
              "      <td>1</td>\n",
              "      <td>0.0</td>\n",
              "      <td>0.0</td>\n",
              "      <td>0.0</td>\n",
              "      <td>0</td>\n",
              "      <td>0</td>\n",
              "      <td>0</td>\n",
              "      <td>0</td>\n",
              "      <td>...</td>\n",
              "      <td>0</td>\n",
              "      <td>0</td>\n",
              "      <td>0</td>\n",
              "      <td>0</td>\n",
              "      <td>0</td>\n",
              "      <td>0</td>\n",
              "      <td>0</td>\n",
              "      <td>0</td>\n",
              "      <td>0</td>\n",
              "      <td>8</td>\n",
              "    </tr>\n",
              "  </tbody>\n",
              "</table>\n",
              "<p>5 rows × 45 columns</p>\n",
              "</div>"
            ],
            "text/plain": [
              "   YEAR  MONTH  DAY_OF_WEEK  CANCELLED  DIVERTED  COVID  \\\n",
              "0  2018      1            1        0.0       0.0    0.0   \n",
              "1  2018      1            1        0.0       0.0    0.0   \n",
              "2  2018      1            1        0.0       0.0    0.0   \n",
              "3  2018      1            1        0.0       0.0    0.0   \n",
              "4  2018      1            1        0.0       0.0    0.0   \n",
              "\n",
              "   BRANDED_CODE_SHARE_AA  BRANDED_CODE_SHARE_AS  BRANDED_CODE_SHARE_B6  \\\n",
              "0                      0                      0                      0   \n",
              "1                      0                      0                      0   \n",
              "2                      0                      0                      0   \n",
              "3                      0                      0                      0   \n",
              "4                      0                      0                      0   \n",
              "\n",
              "   BRANDED_CODE_SHARE_DL  ...  DEP_TIME_BLK_1500-1559  DEP_TIME_BLK_1600-1659  \\\n",
              "0                      0  ...                       0                       1   \n",
              "1                      0  ...                       0                       1   \n",
              "2                      0  ...                       0                       0   \n",
              "3                      0  ...                       0                       0   \n",
              "4                      0  ...                       0                       0   \n",
              "\n",
              "   DEP_TIME_BLK_1700-1759  DEP_TIME_BLK_1800-1859  DEP_TIME_BLK_1900-1959  \\\n",
              "0                       0                       0                       0   \n",
              "1                       0                       0                       0   \n",
              "2                       0                       1                       0   \n",
              "3                       0                       0                       0   \n",
              "4                       0                       0                       0   \n",
              "\n",
              "   DEP_TIME_BLK_2000-2059  DEP_TIME_BLK_2100-2159  DEP_TIME_BLK_2200-2259  \\\n",
              "0                       0                       0                       0   \n",
              "1                       0                       0                       0   \n",
              "2                       0                       0                       0   \n",
              "3                       0                       0                       0   \n",
              "4                       0                       0                       0   \n",
              "\n",
              "   DEP_TIME_BLK_2300-2359  DAY_OF_MONTH  \n",
              "0                       0            22  \n",
              "1                       0            22  \n",
              "2                       0            22  \n",
              "3                       0             8  \n",
              "4                       0             8  \n",
              "\n",
              "[5 rows x 45 columns]"
            ]
          },
          "execution_count": 55,
          "metadata": {},
          "output_type": "execute_result"
        }
      ],
      "source": [
        "# Define features set\n",
        "X = final_df.drop(columns=[\"DELAYED\"])\n",
        "X.head()"
      ]
    },
    {
      "cell_type": "markdown",
      "metadata": {},
      "source": [
        " # Separate the features (X) from the target (y) "
      ]
    },
    {
      "cell_type": "code",
      "execution_count": 56,
      "metadata": {
        "colab": {
          "base_uri": "https://localhost:8080/"
        },
        "id": "owGPRdnXsfjj",
        "outputId": "a79a09f4-641b-44be-a9de-6e81de8df148"
      },
      "outputs": [
        {
          "data": {
            "text/plain": [
              "0    0.0\n",
              "1    0.0\n",
              "2    0.0\n",
              "3    0.0\n",
              "4    0.0\n",
              "Name: DELAYED, dtype: float64"
            ]
          },
          "execution_count": 56,
          "metadata": {},
          "output_type": "execute_result"
        }
      ],
      "source": [
        "# Define target vector\n",
        "y = final_df[\"DELAYED\"]\n",
        "y[:5]"
      ]
    },
    {
      "cell_type": "markdown",
      "metadata": {},
      "source": [
        " # Split our data into training and testing"
      ]
    },
    {
      "cell_type": "code",
      "execution_count": 57,
      "metadata": {
        "id": "kma8Rde6sfjk"
      },
      "outputs": [],
      "source": [
        "# Splitting into Train and Test sets\n",
        "X_train, X_test, y_train, y_test = train_test_split(X, y, random_state=1000)"
      ]
    },
    {
      "cell_type": "code",
      "execution_count": 58,
      "metadata": {
        "colab": {
          "base_uri": "https://localhost:8080/"
        },
        "id": "unvS5HvXsfjk",
        "outputId": "7ace719f-3979-4106-c5d5-57a96970b0d8"
      },
      "outputs": [
        {
          "name": "stdout",
          "output_type": "stream",
          "text": [
            "(812203, 45)\n",
            "(270735, 45)\n",
            "(812203,)\n",
            "(270735,)\n"
          ]
        }
      ],
      "source": [
        "print(X_train.shape)\n",
        "print(X_test.shape)\n",
        "print(y_train.shape)\n",
        "print(y_test.shape)"
      ]
    },
    {
      "cell_type": "markdown",
      "metadata": {},
      "source": [
        "# Feature Scaling"
      ]
    },
    {
      "cell_type": "code",
      "execution_count": 59,
      "metadata": {
        "id": "nMTTS25Vsfjl"
      },
      "outputs": [],
      "source": [
        "# Creating StandardScaler instance\n",
        "scaler = StandardScaler()\n",
        "# Fitting Standard Scaller\n",
        "X_scaler = scaler.fit(X_train)\n",
        "# Scaling data\n",
        "X_train_scaled = X_scaler.transform(X_train)\n",
        "X_test_scaled = X_scaler.transform(X_test)"
      ]
    },
    {
      "cell_type": "markdown",
      "metadata": {
        "id": "AdF-97owsfjm"
      },
      "source": [
        "## Fitting the Decision Tree Model"
      ]
    },
    {
      "cell_type": "code",
      "execution_count": 60,
      "metadata": {
        "id": "fLaGLhSWsfjn"
      },
      "outputs": [],
      "source": [
        "# Creating the decision tree classifier instance\n",
        "model = tree.DecisionTreeClassifier()"
      ]
    },
    {
      "cell_type": "code",
      "execution_count": 61,
      "metadata": {
        "id": "ENsa2XKTsfjn"
      },
      "outputs": [],
      "source": [
        "# Fitting the model\n",
        "model = model.fit(X_train_scaled, y_train)"
      ]
    },
    {
      "cell_type": "markdown",
      "metadata": {
        "id": "UnB_sb39sfjn"
      },
      "source": [
        "## Making Predictions Using the Tree Model"
      ]
    },
    {
      "cell_type": "code",
      "execution_count": 62,
      "metadata": {
        "id": "BOxrwq1ksfjn"
      },
      "outputs": [],
      "source": [
        "# Making predictions using the testing data\n",
        "predictions = model.predict(X_test_scaled)"
      ]
    },
    {
      "cell_type": "markdown",
      "metadata": {
        "id": "6utLEMo5sfjn"
      },
      "source": [
        "## Model Evaluation"
      ]
    },
    {
      "cell_type": "code",
      "execution_count": 63,
      "metadata": {},
      "outputs": [
        {
          "data": {
            "text/plain": [
              "0.0    222493\n",
              "1.0     48242\n",
              "Name: DELAYED, dtype: int64"
            ]
          },
          "execution_count": 63,
          "metadata": {},
          "output_type": "execute_result"
        }
      ],
      "source": [
        "y_test.value_counts()"
      ]
    },
    {
      "cell_type": "code",
      "execution_count": 64,
      "metadata": {
        "id": "Co54mPdasfjn"
      },
      "outputs": [],
      "source": [
        "# Calculating the confusion matrix\n",
        "cm = confusion_matrix(y_test, predictions, labels=[1, 0])\n",
        "cm_df = pd.DataFrame(\n",
        "    cm, index=['Actual Delayed (1)', 'Actual On-Time (0)'], \n",
        "    columns=['Predicted Delayed (1)', 'Predicted On-Time (0)']\n",
        ")\n",
        "\n",
        "# Calculating the accuracy score\n",
        "acc_score = accuracy_score(y_test, predictions)"
      ]
    },
    {
      "cell_type": "code",
      "execution_count": 65,
      "metadata": {
        "colab": {
          "base_uri": "https://localhost:8080/",
          "height": 320
        },
        "id": "YWtZQhZOsfjo",
        "outputId": "f356d753-9ffc-49f1-dad9-c5fceef54941"
      },
      "outputs": [
        {
          "name": "stdout",
          "output_type": "stream",
          "text": [
            "Confusion Matrix\n"
          ]
        },
        {
          "data": {
            "text/html": [
              "<div>\n",
              "<style scoped>\n",
              "    .dataframe tbody tr th:only-of-type {\n",
              "        vertical-align: middle;\n",
              "    }\n",
              "\n",
              "    .dataframe tbody tr th {\n",
              "        vertical-align: top;\n",
              "    }\n",
              "\n",
              "    .dataframe thead th {\n",
              "        text-align: right;\n",
              "    }\n",
              "</style>\n",
              "<table border=\"1\" class=\"dataframe\">\n",
              "  <thead>\n",
              "    <tr style=\"text-align: right;\">\n",
              "      <th></th>\n",
              "      <th>Predicted Delayed (1)</th>\n",
              "      <th>Predicted On-Time (0)</th>\n",
              "    </tr>\n",
              "  </thead>\n",
              "  <tbody>\n",
              "    <tr>\n",
              "      <th>Actual Delayed (1)</th>\n",
              "      <td>13916</td>\n",
              "      <td>34326</td>\n",
              "    </tr>\n",
              "    <tr>\n",
              "      <th>Actual On-Time (0)</th>\n",
              "      <td>19162</td>\n",
              "      <td>203331</td>\n",
              "    </tr>\n",
              "  </tbody>\n",
              "</table>\n",
              "</div>"
            ],
            "text/plain": [
              "                    Predicted Delayed (1)  Predicted On-Time (0)\n",
              "Actual Delayed (1)                  13916                  34326\n",
              "Actual On-Time (0)                  19162                 203331"
            ]
          },
          "metadata": {},
          "output_type": "display_data"
        },
        {
          "name": "stdout",
          "output_type": "stream",
          "text": [
            "Accuracy Score : 0.8024341145400484\n",
            "Classification Report\n",
            "              precision    recall  f1-score   support\n",
            "\n",
            "         0.0       0.86      0.91      0.88    222493\n",
            "         1.0       0.42      0.29      0.34     48242\n",
            "\n",
            "    accuracy                           0.80    270735\n",
            "   macro avg       0.64      0.60      0.61    270735\n",
            "weighted avg       0.78      0.80      0.79    270735\n",
            "\n"
          ]
        }
      ],
      "source": [
        "# Displaying results\n",
        "print(\"Confusion Matrix\")\n",
        "display(cm_df)\n",
        "print(f\"Accuracy Score : {acc_score}\")\n",
        "print(\"Classification Report\")\n",
        "print(classification_report(y_test, predictions))\n"
      ]
    },
    {
      "cell_type": "code",
      "execution_count": 66,
      "metadata": {},
      "outputs": [
        {
          "data": {
            "image/png": "[encoded data removed]",
            "text/plain": [
              "<Figure size 432x288 with 2 Axes>"
            ]
          },
          "metadata": {
            "needs_background": "light"
          },
          "output_type": "display_data"
        }
      ],
      "source": [
        "cm = ConfusionMatrixDisplay(confusion_matrix(y_test, predictions, labels=[0, 1]))\n",
        "cm.plot()\n",
        "plt.show()"
      ]
    },
    {
      "cell_type": "code",
      "execution_count": 67,
      "metadata": {
        "colab": {
          "base_uri": "https://localhost:8080/",
          "height": 699
        },
        "id": "cM_Vakg8XAzz",
        "outputId": "51872f42-6d85-446a-e0f5-47c349b55375"
      },
      "outputs": [
        {
          "name": "stdout",
          "output_type": "stream",
          "text": [
            "Feature: 0, Score: 0.05265\n",
            "Feature: 1, Score: 0.09558\n",
            "Feature: 2, Score: 0.11995\n",
            "Feature: 3, Score: 0.00195\n",
            "Feature: 4, Score: 0.00331\n",
            "Feature: 5, Score: 0.00037\n",
            "Feature: 6, Score: 0.01566\n",
            "Feature: 7, Score: 0.00387\n",
            "Feature: 8, Score: 0.00847\n",
            "Feature: 9, Score: 0.01253\n",
            "Feature: 10, Score: 0.00335\n",
            "Feature: 11, Score: 0.00140\n",
            "Feature: 12, Score: 0.00580\n",
            "Feature: 13, Score: 0.01525\n",
            "Feature: 14, Score: 0.00019\n",
            "Feature: 15, Score: 0.01114\n",
            "Feature: 16, Score: 0.02499\n",
            "Feature: 17, Score: 0.02671\n",
            "Feature: 18, Score: 0.01967\n",
            "Feature: 19, Score: 0.03289\n",
            "Feature: 20, Score: 0.00359\n",
            "Feature: 21, Score: 0.02969\n",
            "Feature: 22, Score: 0.03765\n",
            "Feature: 23, Score: 0.02567\n",
            "Feature: 24, Score: 0.02055\n",
            "Feature: 25, Score: 0.00267\n",
            "Feature: 26, Score: 0.01401\n",
            "Feature: 27, Score: 0.00872\n",
            "Feature: 28, Score: 0.01129\n",
            "Feature: 29, Score: 0.00956\n",
            "Feature: 30, Score: 0.01152\n",
            "Feature: 31, Score: 0.01088\n",
            "Feature: 32, Score: 0.01151\n",
            "Feature: 33, Score: 0.01285\n",
            "Feature: 34, Score: 0.01123\n",
            "Feature: 35, Score: 0.01360\n",
            "Feature: 36, Score: 0.01525\n",
            "Feature: 37, Score: 0.01395\n",
            "Feature: 38, Score: 0.01438\n",
            "Feature: 39, Score: 0.01467\n",
            "Feature: 40, Score: 0.01241\n",
            "Feature: 41, Score: 0.01084\n",
            "Feature: 42, Score: 0.01222\n",
            "Feature: 43, Score: 0.00078\n",
            "Feature: 44, Score: 0.21475\n"
          ]
        },
        {
          "data": {
            "image/png": "[encoded data removed]",
            "text/plain": [
              "<Figure size 432x288 with 1 Axes>"
            ]
          },
          "metadata": {
            "needs_background": "light"
          },
          "output_type": "display_data"
        }
      ],
      "source": [
        "importance = model.feature_importances_\n",
        "# summarize feature importance\n",
        "for i,v in enumerate(importance):\n",
        "\tprint('Feature: %0d, Score: %.5f' % (i,v))\n",
        "# plot feature importance\n",
        "plt.bar([x for x in range(len(importance))], importance)\n",
        "plt.show()"
      ]
    },
    {
      "cell_type": "code",
      "execution_count": 68,
      "metadata": {
        "colab": {
          "base_uri": "https://localhost:8080/"
        },
        "id": "349mbK5qYXa2",
        "outputId": "000e682c-440c-4f3c-b3b4-d4c3b1441dd4"
      },
      "outputs": [
        {
          "data": {
            "text/html": [
              "<div>\n",
              "<style scoped>\n",
              "    .dataframe tbody tr th:only-of-type {\n",
              "        vertical-align: middle;\n",
              "    }\n",
              "\n",
              "    .dataframe tbody tr th {\n",
              "        vertical-align: top;\n",
              "    }\n",
              "\n",
              "    .dataframe thead th {\n",
              "        text-align: right;\n",
              "    }\n",
              "</style>\n",
              "<table border=\"1\" class=\"dataframe\">\n",
              "  <thead>\n",
              "    <tr style=\"text-align: right;\">\n",
              "      <th></th>\n",
              "      <th>Feature</th>\n",
              "      <th>Importance</th>\n",
              "    </tr>\n",
              "  </thead>\n",
              "  <tbody>\n",
              "    <tr>\n",
              "      <th>44</th>\n",
              "      <td>DAY_OF_MONTH</td>\n",
              "      <td>0.214753</td>\n",
              "    </tr>\n",
              "    <tr>\n",
              "      <th>2</th>\n",
              "      <td>DAY_OF_WEEK</td>\n",
              "      <td>0.119945</td>\n",
              "    </tr>\n",
              "    <tr>\n",
              "      <th>1</th>\n",
              "      <td>MONTH</td>\n",
              "      <td>0.095585</td>\n",
              "    </tr>\n",
              "    <tr>\n",
              "      <th>0</th>\n",
              "      <td>YEAR</td>\n",
              "      <td>0.052653</td>\n",
              "    </tr>\n",
              "    <tr>\n",
              "      <th>22</th>\n",
              "      <td>Region_souteast</td>\n",
              "      <td>0.037653</td>\n",
              "    </tr>\n",
              "    <tr>\n",
              "      <th>19</th>\n",
              "      <td>Region_midwest</td>\n",
              "      <td>0.032887</td>\n",
              "    </tr>\n",
              "    <tr>\n",
              "      <th>21</th>\n",
              "      <td>Region_northeast</td>\n",
              "      <td>0.029686</td>\n",
              "    </tr>\n",
              "    <tr>\n",
              "      <th>17</th>\n",
              "      <td>ORIGIN_DCA</td>\n",
              "      <td>0.026713</td>\n",
              "    </tr>\n",
              "    <tr>\n",
              "      <th>23</th>\n",
              "      <td>Region_southwest</td>\n",
              "      <td>0.025667</td>\n",
              "    </tr>\n",
              "    <tr>\n",
              "      <th>16</th>\n",
              "      <td>ORIGIN_BWI</td>\n",
              "      <td>0.024986</td>\n",
              "    </tr>\n",
              "    <tr>\n",
              "      <th>24</th>\n",
              "      <td>Region_west</td>\n",
              "      <td>0.020550</td>\n",
              "    </tr>\n",
              "    <tr>\n",
              "      <th>18</th>\n",
              "      <td>ORIGIN_IAD</td>\n",
              "      <td>0.019670</td>\n",
              "    </tr>\n",
              "    <tr>\n",
              "      <th>6</th>\n",
              "      <td>BRANDED_CODE_SHARE_AA</td>\n",
              "      <td>0.015659</td>\n",
              "    </tr>\n",
              "    <tr>\n",
              "      <th>36</th>\n",
              "      <td>DEP_TIME_BLK_1600-1659</td>\n",
              "      <td>0.015255</td>\n",
              "    </tr>\n",
              "    <tr>\n",
              "      <th>13</th>\n",
              "      <td>BRANDED_CODE_SHARE_UA</td>\n",
              "      <td>0.015254</td>\n",
              "    </tr>\n",
              "    <tr>\n",
              "      <th>39</th>\n",
              "      <td>DEP_TIME_BLK_1900-1959</td>\n",
              "      <td>0.014668</td>\n",
              "    </tr>\n",
              "    <tr>\n",
              "      <th>38</th>\n",
              "      <td>DEP_TIME_BLK_1800-1859</td>\n",
              "      <td>0.014381</td>\n",
              "    </tr>\n",
              "    <tr>\n",
              "      <th>26</th>\n",
              "      <td>DEP_TIME_BLK_0600-0659</td>\n",
              "      <td>0.014009</td>\n",
              "    </tr>\n",
              "    <tr>\n",
              "      <th>37</th>\n",
              "      <td>DEP_TIME_BLK_1700-1759</td>\n",
              "      <td>0.013950</td>\n",
              "    </tr>\n",
              "    <tr>\n",
              "      <th>35</th>\n",
              "      <td>DEP_TIME_BLK_1500-1559</td>\n",
              "      <td>0.013604</td>\n",
              "    </tr>\n",
              "    <tr>\n",
              "      <th>33</th>\n",
              "      <td>DEP_TIME_BLK_1300-1359</td>\n",
              "      <td>0.012850</td>\n",
              "    </tr>\n",
              "    <tr>\n",
              "      <th>9</th>\n",
              "      <td>BRANDED_CODE_SHARE_DL</td>\n",
              "      <td>0.012528</td>\n",
              "    </tr>\n",
              "    <tr>\n",
              "      <th>40</th>\n",
              "      <td>DEP_TIME_BLK_2000-2059</td>\n",
              "      <td>0.012413</td>\n",
              "    </tr>\n",
              "    <tr>\n",
              "      <th>42</th>\n",
              "      <td>DEP_TIME_BLK_2200-2259</td>\n",
              "      <td>0.012219</td>\n",
              "    </tr>\n",
              "    <tr>\n",
              "      <th>30</th>\n",
              "      <td>DEP_TIME_BLK_1000-1059</td>\n",
              "      <td>0.011518</td>\n",
              "    </tr>\n",
              "    <tr>\n",
              "      <th>32</th>\n",
              "      <td>DEP_TIME_BLK_1200-1259</td>\n",
              "      <td>0.011510</td>\n",
              "    </tr>\n",
              "    <tr>\n",
              "      <th>28</th>\n",
              "      <td>DEP_TIME_BLK_0800-0859</td>\n",
              "      <td>0.011294</td>\n",
              "    </tr>\n",
              "    <tr>\n",
              "      <th>34</th>\n",
              "      <td>DEP_TIME_BLK_1400-1459</td>\n",
              "      <td>0.011233</td>\n",
              "    </tr>\n",
              "    <tr>\n",
              "      <th>15</th>\n",
              "      <td>BRANDED_CODE_SHARE_WN</td>\n",
              "      <td>0.011135</td>\n",
              "    </tr>\n",
              "    <tr>\n",
              "      <th>31</th>\n",
              "      <td>DEP_TIME_BLK_1100-1159</td>\n",
              "      <td>0.010880</td>\n",
              "    </tr>\n",
              "    <tr>\n",
              "      <th>41</th>\n",
              "      <td>DEP_TIME_BLK_2100-2159</td>\n",
              "      <td>0.010839</td>\n",
              "    </tr>\n",
              "    <tr>\n",
              "      <th>29</th>\n",
              "      <td>DEP_TIME_BLK_0900-0959</td>\n",
              "      <td>0.009563</td>\n",
              "    </tr>\n",
              "    <tr>\n",
              "      <th>27</th>\n",
              "      <td>DEP_TIME_BLK_0700-0759</td>\n",
              "      <td>0.008721</td>\n",
              "    </tr>\n",
              "    <tr>\n",
              "      <th>8</th>\n",
              "      <td>BRANDED_CODE_SHARE_B6</td>\n",
              "      <td>0.008473</td>\n",
              "    </tr>\n",
              "    <tr>\n",
              "      <th>12</th>\n",
              "      <td>BRANDED_CODE_SHARE_NK</td>\n",
              "      <td>0.005800</td>\n",
              "    </tr>\n",
              "    <tr>\n",
              "      <th>7</th>\n",
              "      <td>BRANDED_CODE_SHARE_AS</td>\n",
              "      <td>0.003874</td>\n",
              "    </tr>\n",
              "    <tr>\n",
              "      <th>20</th>\n",
              "      <td>Region_noncontinental</td>\n",
              "      <td>0.003593</td>\n",
              "    </tr>\n",
              "    <tr>\n",
              "      <th>10</th>\n",
              "      <td>BRANDED_CODE_SHARE_F9</td>\n",
              "      <td>0.003353</td>\n",
              "    </tr>\n",
              "    <tr>\n",
              "      <th>4</th>\n",
              "      <td>DIVERTED</td>\n",
              "      <td>0.003309</td>\n",
              "    </tr>\n",
              "    <tr>\n",
              "      <th>25</th>\n",
              "      <td>DEP_TIME_BLK_0001-0559</td>\n",
              "      <td>0.002672</td>\n",
              "    </tr>\n",
              "    <tr>\n",
              "      <th>3</th>\n",
              "      <td>CANCELLED</td>\n",
              "      <td>0.001952</td>\n",
              "    </tr>\n",
              "    <tr>\n",
              "      <th>11</th>\n",
              "      <td>BRANDED_CODE_SHARE_G4</td>\n",
              "      <td>0.001398</td>\n",
              "    </tr>\n",
              "    <tr>\n",
              "      <th>43</th>\n",
              "      <td>DEP_TIME_BLK_2300-2359</td>\n",
              "      <td>0.000781</td>\n",
              "    </tr>\n",
              "    <tr>\n",
              "      <th>5</th>\n",
              "      <td>COVID</td>\n",
              "      <td>0.000371</td>\n",
              "    </tr>\n",
              "    <tr>\n",
              "      <th>14</th>\n",
              "      <td>BRANDED_CODE_SHARE_VX</td>\n",
              "      <td>0.000194</td>\n",
              "    </tr>\n",
              "  </tbody>\n",
              "</table>\n",
              "</div>"
            ],
            "text/plain": [
              "                   Feature  Importance\n",
              "44            DAY_OF_MONTH    0.214753\n",
              "2              DAY_OF_WEEK    0.119945\n",
              "1                    MONTH    0.095585\n",
              "0                     YEAR    0.052653\n",
              "22         Region_souteast    0.037653\n",
              "19          Region_midwest    0.032887\n",
              "21        Region_northeast    0.029686\n",
              "17              ORIGIN_DCA    0.026713\n",
              "23        Region_southwest    0.025667\n",
              "16              ORIGIN_BWI    0.024986\n",
              "24             Region_west    0.020550\n",
              "18              ORIGIN_IAD    0.019670\n",
              "6    BRANDED_CODE_SHARE_AA    0.015659\n",
              "36  DEP_TIME_BLK_1600-1659    0.015255\n",
              "13   BRANDED_CODE_SHARE_UA    0.015254\n",
              "39  DEP_TIME_BLK_1900-1959    0.014668\n",
              "38  DEP_TIME_BLK_1800-1859    0.014381\n",
              "26  DEP_TIME_BLK_0600-0659    0.014009\n",
              "37  DEP_TIME_BLK_1700-1759    0.013950\n",
              "35  DEP_TIME_BLK_1500-1559    0.013604\n",
              "33  DEP_TIME_BLK_1300-1359    0.012850\n",
              "9    BRANDED_CODE_SHARE_DL    0.012528\n",
              "40  DEP_TIME_BLK_2000-2059    0.012413\n",
              "42  DEP_TIME_BLK_2200-2259    0.012219\n",
              "30  DEP_TIME_BLK_1000-1059    0.011518\n",
              "32  DEP_TIME_BLK_1200-1259    0.011510\n",
              "28  DEP_TIME_BLK_0800-0859    0.011294\n",
              "34  DEP_TIME_BLK_1400-1459    0.011233\n",
              "15   BRANDED_CODE_SHARE_WN    0.011135\n",
              "31  DEP_TIME_BLK_1100-1159    0.010880\n",
              "41  DEP_TIME_BLK_2100-2159    0.010839\n",
              "29  DEP_TIME_BLK_0900-0959    0.009563\n",
              "27  DEP_TIME_BLK_0700-0759    0.008721\n",
              "8    BRANDED_CODE_SHARE_B6    0.008473\n",
              "12   BRANDED_CODE_SHARE_NK    0.005800\n",
              "7    BRANDED_CODE_SHARE_AS    0.003874\n",
              "20   Region_noncontinental    0.003593\n",
              "10   BRANDED_CODE_SHARE_F9    0.003353\n",
              "4                 DIVERTED    0.003309\n",
              "25  DEP_TIME_BLK_0001-0559    0.002672\n",
              "3                CANCELLED    0.001952\n",
              "11   BRANDED_CODE_SHARE_G4    0.001398\n",
              "43  DEP_TIME_BLK_2300-2359    0.000781\n",
              "5                    COVID    0.000371\n",
              "14   BRANDED_CODE_SHARE_VX    0.000194"
            ]
          },
          "execution_count": 68,
          "metadata": {},
          "output_type": "execute_result"
        }
      ],
      "source": [
        "# We can sort the features by their importance.\n",
        "columns = list(X)\n",
        "importance_df = pd.DataFrame({'Feature': columns, 'Importance' : importance})\n",
        "importance_df.sort_values('Importance', ascending=False)"
      ]
    }
  ],
  "metadata": {
    "colab": {
      "collapsed_sections": [],
      "name": "decision-trees.ipynb",
      "provenance": []
    },
    "file_extension": ".py",
    "kernelspec": {
      "display_name": "mlenv",
      "language": "python",
      "name": "mlenv"
    },
    "language_info": {
      "codemirror_mode": {
        "name": "ipython",
        "version": 3
      },
      "file_extension": ".py",
      "mimetype": "text/x-python",
      "name": "python",
      "nbconvert_exporter": "python",
      "pygments_lexer": "ipython3",
      "version": "3.7.13"
    },
    "mimetype": "text/x-python",
    "name": "python",
    "npconvert_exporter": "python",
    "pygments_lexer": "ipython3",
    "version": 3
  },
  "nbformat": 4,
  "nbformat_minor": 0
}
